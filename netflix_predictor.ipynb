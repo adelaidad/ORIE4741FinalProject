{
 "cells": [
  {
   "cell_type": "markdown",
   "metadata": {},
   "source": [
    "# ORIE 4741 Project\n",
    "### Netflix Success Predictor"
   ]
  },
  {
   "cell_type": "code",
   "execution_count": 486,
   "metadata": {},
   "outputs": [],
   "source": [
    "import numpy as np\n",
    "import pandas as pd\n",
    "import matplotlib.pyplot as plt\n",
    "import seaborn as sns\n",
    "from sklearn.preprocessing import PolynomialFeatures\n",
    "from sklearn.linear_model import SGDClassifier, LogisticRegression\n",
    "from sklearn.metrics import RocCurveDisplay, recall_score, precision_score, roc_curve, roc_auc_score, balanced_accuracy_score\n",
    "import matplotlib.pyplot as plt\n",
    "import matplotlib as mpl"
   ]
  },
  {
   "cell_type": "code",
   "execution_count": 487,
   "metadata": {},
   "outputs": [],
   "source": [
    "netflix=pd.read_csv('datasets/netflix.csv')"
   ]
  },
  {
   "cell_type": "code",
   "execution_count": 488,
   "metadata": {},
   "outputs": [
    {
     "data": {
      "text/html": [
       "<div>\n",
       "<style scoped>\n",
       "    .dataframe tbody tr th:only-of-type {\n",
       "        vertical-align: middle;\n",
       "    }\n",
       "\n",
       "    .dataframe tbody tr th {\n",
       "        vertical-align: top;\n",
       "    }\n",
       "\n",
       "    .dataframe thead th {\n",
       "        text-align: right;\n",
       "    }\n",
       "</style>\n",
       "<table border=\"1\" class=\"dataframe\">\n",
       "  <thead>\n",
       "    <tr style=\"text-align: right;\">\n",
       "      <th></th>\n",
       "      <th>show_title</th>\n",
       "      <th>type</th>\n",
       "      <th>weekly_hours_viewed</th>\n",
       "      <th>weekly_views</th>\n",
       "      <th>cumulative_weeks_in_top_10</th>\n",
       "      <th>runtime</th>\n",
       "      <th>number_of_seasons</th>\n",
       "      <th>language</th>\n",
       "      <th>is_staggered_launch</th>\n",
       "      <th>available_globally</th>\n",
       "      <th>release_date</th>\n",
       "      <th>genre</th>\n",
       "      <th>main_production</th>\n",
       "      <th>week</th>\n",
       "    </tr>\n",
       "  </thead>\n",
       "  <tbody>\n",
       "    <tr>\n",
       "      <th>0</th>\n",
       "      <td>'83</td>\n",
       "      <td>Films</td>\n",
       "      <td>6825000.0</td>\n",
       "      <td>NaN</td>\n",
       "      <td>2</td>\n",
       "      <td>NaN</td>\n",
       "      <td>NaN</td>\n",
       "      <td>Non-English</td>\n",
       "      <td>False</td>\n",
       "      <td>No</td>\n",
       "      <td>NaN</td>\n",
       "      <td>NaN</td>\n",
       "      <td>NaN</td>\n",
       "      <td>2022-04-03</td>\n",
       "    </tr>\n",
       "    <tr>\n",
       "      <th>1</th>\n",
       "      <td>10 Days of a Bad Man</td>\n",
       "      <td>Films</td>\n",
       "      <td>6900000.0</td>\n",
       "      <td>3300000.0</td>\n",
       "      <td>2</td>\n",
       "      <td>2.0667</td>\n",
       "      <td>NaN</td>\n",
       "      <td>Non-English</td>\n",
       "      <td>False</td>\n",
       "      <td>NaN</td>\n",
       "      <td>NaN</td>\n",
       "      <td>NaN</td>\n",
       "      <td>NaN</td>\n",
       "      <td>2023-08-27</td>\n",
       "    </tr>\n",
       "    <tr>\n",
       "      <th>2</th>\n",
       "      <td>10 Days of a Good Man</td>\n",
       "      <td>Films</td>\n",
       "      <td>7415000.0</td>\n",
       "      <td>NaN</td>\n",
       "      <td>2</td>\n",
       "      <td>NaN</td>\n",
       "      <td>NaN</td>\n",
       "      <td>Non-English</td>\n",
       "      <td>False</td>\n",
       "      <td>NaN</td>\n",
       "      <td>NaN</td>\n",
       "      <td>NaN</td>\n",
       "      <td>NaN</td>\n",
       "      <td>2023-03-12</td>\n",
       "    </tr>\n",
       "    <tr>\n",
       "      <th>3</th>\n",
       "      <td>1000 Miles from Christmas</td>\n",
       "      <td>Films</td>\n",
       "      <td>6795000.0</td>\n",
       "      <td>NaN</td>\n",
       "      <td>2</td>\n",
       "      <td>NaN</td>\n",
       "      <td>NaN</td>\n",
       "      <td>Non-English</td>\n",
       "      <td>False</td>\n",
       "      <td>NaN</td>\n",
       "      <td>NaN</td>\n",
       "      <td>NaN</td>\n",
       "      <td>NaN</td>\n",
       "      <td>2022-01-02</td>\n",
       "    </tr>\n",
       "    <tr>\n",
       "      <th>4</th>\n",
       "      <td>12 Strong</td>\n",
       "      <td>Films</td>\n",
       "      <td>8210000.0</td>\n",
       "      <td>NaN</td>\n",
       "      <td>2</td>\n",
       "      <td>NaN</td>\n",
       "      <td>NaN</td>\n",
       "      <td>English</td>\n",
       "      <td>False</td>\n",
       "      <td>No</td>\n",
       "      <td>NaN</td>\n",
       "      <td>NaN</td>\n",
       "      <td>NaN</td>\n",
       "      <td>2022-07-24</td>\n",
       "    </tr>\n",
       "  </tbody>\n",
       "</table>\n",
       "</div>"
      ],
      "text/plain": [
       "                  show_title   type  weekly_hours_viewed  weekly_views  \\\n",
       "0                        '83  Films            6825000.0           NaN   \n",
       "1       10 Days of a Bad Man  Films            6900000.0     3300000.0   \n",
       "2      10 Days of a Good Man  Films            7415000.0           NaN   \n",
       "3  1000 Miles from Christmas  Films            6795000.0           NaN   \n",
       "4                  12 Strong  Films            8210000.0           NaN   \n",
       "\n",
       "   cumulative_weeks_in_top_10  runtime  number_of_seasons     language  \\\n",
       "0                           2      NaN                NaN  Non-English   \n",
       "1                           2   2.0667                NaN  Non-English   \n",
       "2                           2      NaN                NaN  Non-English   \n",
       "3                           2      NaN                NaN  Non-English   \n",
       "4                           2      NaN                NaN      English   \n",
       "\n",
       "   is_staggered_launch available_globally release_date  genre main_production  \\\n",
       "0                False                 No          NaN    NaN             NaN   \n",
       "1                False                NaN          NaN    NaN             NaN   \n",
       "2                False                NaN          NaN    NaN             NaN   \n",
       "3                False                NaN          NaN    NaN             NaN   \n",
       "4                False                 No          NaN    NaN             NaN   \n",
       "\n",
       "         week  \n",
       "0  2022-04-03  \n",
       "1  2023-08-27  \n",
       "2  2023-03-12  \n",
       "3  2022-01-02  \n",
       "4  2022-07-24  "
      ]
     },
     "execution_count": 488,
     "metadata": {},
     "output_type": "execute_result"
    }
   ],
   "source": [
    "netflix.head()"
   ]
  },
  {
   "cell_type": "markdown",
   "metadata": {},
   "source": [
    "## Feature Engineering\n",
    "Before we create a model in order to understand the features of importance for Netflix streaming content success and use it to predict how many views a show/film gets, we need to inspect the data and utilize feature engineering tools. \n",
    "\n",
    "#### Dealing with simple NaN values: "
   ]
  },
  {
   "cell_type": "code",
   "execution_count": 489,
   "metadata": {},
   "outputs": [
    {
     "name": "stdout",
     "output_type": "stream",
     "text": [
      "Out of 1865 total points, if we drop all with missing data, we'll have 0 points (or 0.0   of the original dataset)\n"
     ]
    }
   ],
   "source": [
    "def size_if_na_dropped(df):\n",
    "  print(f\"Out of {df.shape[0]} total points, if we drop all with missing data, \\\n",
    "we'll have {df.dropna().shape[0]} points (or {df.dropna().shape[0]/df.shape[0]} \\\n",
    "  of the original dataset)\")\n",
    "\n",
    "size_if_na_dropped(netflix)"
   ]
  },
  {
   "cell_type": "code",
   "execution_count": 490,
   "metadata": {},
   "outputs": [
    {
     "data": {
      "image/png": "[encoded data removed]",
      "text/plain": [
       "<Figure size 864x576 with 1 Axes>"
      ]
     },
     "metadata": {},
     "output_type": "display_data"
    }
   ],
   "source": [
    "def plot_na(df):\n",
    "  sns.set_style('whitegrid')\n",
    "  plt.figure(figsize=(12,8))\n",
    "  missing_vals = df.isna().sum()/df.shape[0]\n",
    "  missing_vals = missing_vals.sort_values(ascending=False)[0:10]\n",
    "  ax = missing_vals.plot(kind='bar')\n",
    "\n",
    "  ax.set_title('Measuring Rows with the Most Missing Data')\n",
    "  ax.set_ylabel('Proportion')\n",
    "  ax.set_xlabel('Feature')\n",
    "  ax.tick_params(axis='x', rotation=45)\n",
    "\n",
    "plot_na(netflix)"
   ]
  },
  {
   "cell_type": "code",
   "execution_count": 491,
   "metadata": {},
   "outputs": [
    {
     "name": "stdout",
     "output_type": "stream",
     "text": [
      "Out of 1865 total points, if we drop all with missing data, we'll have 0 points (or 0.0   of the original dataset)\n"
     ]
    },
    {
     "data": {
      "image/png": "[encoded data removed]",
      "text/plain": [
       "<Figure size 864x576 with 1 Axes>"
      ]
     },
     "metadata": {},
     "output_type": "display_data"
    }
   ],
   "source": [
    "#The NaN values of number_of_seasons occur b/c they are films not shows, impute with 0\n",
    "netflix['number_of_seasons'] = netflix['number_of_seasons'].fillna(0)\n",
    "plot_na(netflix)\n",
    "size_if_na_dropped(netflix)"
   ]
  },
  {
   "cell_type": "markdown",
   "metadata": {},
   "source": [
    "#### Dealing with Categorical Values\n",
    "There are a few categorical features in our data. To deal with them we will do the following\n",
    "- One hot encoding the binary values: Language, Type, Available Globally\n",
    "- Multi-hot encoding genre list"
   ]
  },
  {
   "cell_type": "code",
   "execution_count": 492,
   "metadata": {},
   "outputs": [
    {
     "data": {
      "text/html": [
       "<div>\n",
       "<style scoped>\n",
       "    .dataframe tbody tr th:only-of-type {\n",
       "        vertical-align: middle;\n",
       "    }\n",
       "\n",
       "    .dataframe tbody tr th {\n",
       "        vertical-align: top;\n",
       "    }\n",
       "\n",
       "    .dataframe thead th {\n",
       "        text-align: right;\n",
       "    }\n",
       "</style>\n",
       "<table border=\"1\" class=\"dataframe\">\n",
       "  <thead>\n",
       "    <tr style=\"text-align: right;\">\n",
       "      <th></th>\n",
       "      <th>show_title</th>\n",
       "      <th>weekly_hours_viewed</th>\n",
       "      <th>weekly_views</th>\n",
       "      <th>cumulative_weeks_in_top_10</th>\n",
       "      <th>runtime</th>\n",
       "      <th>number_of_seasons</th>\n",
       "      <th>release_date</th>\n",
       "      <th>genre</th>\n",
       "      <th>main_production</th>\n",
       "      <th>week</th>\n",
       "      <th>is_staggered_launch</th>\n",
       "      <th>language_English</th>\n",
       "      <th>language_Non-English</th>\n",
       "      <th>type_Films</th>\n",
       "      <th>type_TV</th>\n",
       "      <th>available_globally_No</th>\n",
       "      <th>available_globally_Yes</th>\n",
       "    </tr>\n",
       "  </thead>\n",
       "  <tbody>\n",
       "    <tr>\n",
       "      <th>0</th>\n",
       "      <td>'83</td>\n",
       "      <td>6.825000e+06</td>\n",
       "      <td>NaN</td>\n",
       "      <td>2</td>\n",
       "      <td>NaN</td>\n",
       "      <td>0.0</td>\n",
       "      <td>NaN</td>\n",
       "      <td>NaN</td>\n",
       "      <td>NaN</td>\n",
       "      <td>2022-04-03</td>\n",
       "      <td>False</td>\n",
       "      <td>0</td>\n",
       "      <td>1</td>\n",
       "      <td>1</td>\n",
       "      <td>0</td>\n",
       "      <td>1</td>\n",
       "      <td>0</td>\n",
       "    </tr>\n",
       "    <tr>\n",
       "      <th>1</th>\n",
       "      <td>10 Days of a Bad Man</td>\n",
       "      <td>6.900000e+06</td>\n",
       "      <td>3300000.0</td>\n",
       "      <td>2</td>\n",
       "      <td>2.0667</td>\n",
       "      <td>0.0</td>\n",
       "      <td>NaN</td>\n",
       "      <td>NaN</td>\n",
       "      <td>NaN</td>\n",
       "      <td>2023-08-27</td>\n",
       "      <td>False</td>\n",
       "      <td>0</td>\n",
       "      <td>1</td>\n",
       "      <td>1</td>\n",
       "      <td>0</td>\n",
       "      <td>0</td>\n",
       "      <td>0</td>\n",
       "    </tr>\n",
       "    <tr>\n",
       "      <th>2</th>\n",
       "      <td>10 Days of a Good Man</td>\n",
       "      <td>7.415000e+06</td>\n",
       "      <td>NaN</td>\n",
       "      <td>2</td>\n",
       "      <td>NaN</td>\n",
       "      <td>0.0</td>\n",
       "      <td>NaN</td>\n",
       "      <td>NaN</td>\n",
       "      <td>NaN</td>\n",
       "      <td>2023-03-12</td>\n",
       "      <td>False</td>\n",
       "      <td>0</td>\n",
       "      <td>1</td>\n",
       "      <td>1</td>\n",
       "      <td>0</td>\n",
       "      <td>0</td>\n",
       "      <td>0</td>\n",
       "    </tr>\n",
       "    <tr>\n",
       "      <th>3</th>\n",
       "      <td>1000 Miles from Christmas</td>\n",
       "      <td>6.795000e+06</td>\n",
       "      <td>NaN</td>\n",
       "      <td>2</td>\n",
       "      <td>NaN</td>\n",
       "      <td>0.0</td>\n",
       "      <td>NaN</td>\n",
       "      <td>NaN</td>\n",
       "      <td>NaN</td>\n",
       "      <td>2022-01-02</td>\n",
       "      <td>False</td>\n",
       "      <td>0</td>\n",
       "      <td>1</td>\n",
       "      <td>1</td>\n",
       "      <td>0</td>\n",
       "      <td>0</td>\n",
       "      <td>0</td>\n",
       "    </tr>\n",
       "    <tr>\n",
       "      <th>4</th>\n",
       "      <td>12 Strong</td>\n",
       "      <td>8.210000e+06</td>\n",
       "      <td>NaN</td>\n",
       "      <td>2</td>\n",
       "      <td>NaN</td>\n",
       "      <td>0.0</td>\n",
       "      <td>NaN</td>\n",
       "      <td>NaN</td>\n",
       "      <td>NaN</td>\n",
       "      <td>2022-07-24</td>\n",
       "      <td>False</td>\n",
       "      <td>1</td>\n",
       "      <td>0</td>\n",
       "      <td>1</td>\n",
       "      <td>0</td>\n",
       "      <td>1</td>\n",
       "      <td>0</td>\n",
       "    </tr>\n",
       "    <tr>\n",
       "      <th>...</th>\n",
       "      <td>...</td>\n",
       "      <td>...</td>\n",
       "      <td>...</td>\n",
       "      <td>...</td>\n",
       "      <td>...</td>\n",
       "      <td>...</td>\n",
       "      <td>...</td>\n",
       "      <td>...</td>\n",
       "      <td>...</td>\n",
       "      <td>...</td>\n",
       "      <td>...</td>\n",
       "      <td>...</td>\n",
       "      <td>...</td>\n",
       "      <td>...</td>\n",
       "      <td>...</td>\n",
       "      <td>...</td>\n",
       "      <td>...</td>\n",
       "    </tr>\n",
       "    <tr>\n",
       "      <th>1860</th>\n",
       "      <td>maboroshi</td>\n",
       "      <td>2.400000e+06</td>\n",
       "      <td>1300000.0</td>\n",
       "      <td>1</td>\n",
       "      <td>1.8500</td>\n",
       "      <td>0.0</td>\n",
       "      <td>NaN</td>\n",
       "      <td>NaN</td>\n",
       "      <td>NaN</td>\n",
       "      <td>2024-01-21</td>\n",
       "      <td>False</td>\n",
       "      <td>0</td>\n",
       "      <td>1</td>\n",
       "      <td>1</td>\n",
       "      <td>0</td>\n",
       "      <td>0</td>\n",
       "      <td>0</td>\n",
       "    </tr>\n",
       "    <tr>\n",
       "      <th>1861</th>\n",
       "      <td>¡Que viva México!</td>\n",
       "      <td>1.249250e+07</td>\n",
       "      <td>NaN</td>\n",
       "      <td>4</td>\n",
       "      <td>NaN</td>\n",
       "      <td>0.0</td>\n",
       "      <td>2023-05-11</td>\n",
       "      <td>NaN</td>\n",
       "      <td>NaN</td>\n",
       "      <td>2023-06-04</td>\n",
       "      <td>False</td>\n",
       "      <td>0</td>\n",
       "      <td>1</td>\n",
       "      <td>1</td>\n",
       "      <td>0</td>\n",
       "      <td>0</td>\n",
       "      <td>1</td>\n",
       "    </tr>\n",
       "    <tr>\n",
       "      <th>1862</th>\n",
       "      <td>Ìjọ̀gbọ̀n</td>\n",
       "      <td>4.950000e+06</td>\n",
       "      <td>2550000.0</td>\n",
       "      <td>2</td>\n",
       "      <td>1.9333</td>\n",
       "      <td>0.0</td>\n",
       "      <td>NaN</td>\n",
       "      <td>NaN</td>\n",
       "      <td>NaN</td>\n",
       "      <td>2023-10-22</td>\n",
       "      <td>False</td>\n",
       "      <td>0</td>\n",
       "      <td>1</td>\n",
       "      <td>1</td>\n",
       "      <td>0</td>\n",
       "      <td>0</td>\n",
       "      <td>0</td>\n",
       "    </tr>\n",
       "    <tr>\n",
       "      <th>1863</th>\n",
       "      <td>أصحاب ...ولا أعزّ</td>\n",
       "      <td>2.910000e+06</td>\n",
       "      <td>NaN</td>\n",
       "      <td>3</td>\n",
       "      <td>NaN</td>\n",
       "      <td>0.0</td>\n",
       "      <td>2022-01-20</td>\n",
       "      <td>NaN</td>\n",
       "      <td>NaN</td>\n",
       "      <td>2022-02-06</td>\n",
       "      <td>False</td>\n",
       "      <td>0</td>\n",
       "      <td>1</td>\n",
       "      <td>1</td>\n",
       "      <td>0</td>\n",
       "      <td>1</td>\n",
       "      <td>0</td>\n",
       "    </tr>\n",
       "    <tr>\n",
       "      <th>1864</th>\n",
       "      <td>비상선언</td>\n",
       "      <td>5.463333e+06</td>\n",
       "      <td>NaN</td>\n",
       "      <td>3</td>\n",
       "      <td>NaN</td>\n",
       "      <td>0.0</td>\n",
       "      <td>NaN</td>\n",
       "      <td>NaN</td>\n",
       "      <td>NaN</td>\n",
       "      <td>2023-04-16</td>\n",
       "      <td>False</td>\n",
       "      <td>0</td>\n",
       "      <td>1</td>\n",
       "      <td>1</td>\n",
       "      <td>0</td>\n",
       "      <td>1</td>\n",
       "      <td>0</td>\n",
       "    </tr>\n",
       "  </tbody>\n",
       "</table>\n",
       "<p>1865 rows × 17 columns</p>\n",
       "</div>"
      ],
      "text/plain": [
       "                     show_title  weekly_hours_viewed  weekly_views  \\\n",
       "0                           '83         6.825000e+06           NaN   \n",
       "1          10 Days of a Bad Man         6.900000e+06     3300000.0   \n",
       "2         10 Days of a Good Man         7.415000e+06           NaN   \n",
       "3     1000 Miles from Christmas         6.795000e+06           NaN   \n",
       "4                     12 Strong         8.210000e+06           NaN   \n",
       "...                         ...                  ...           ...   \n",
       "1860                  maboroshi         2.400000e+06     1300000.0   \n",
       "1861          ¡Que viva México!         1.249250e+07           NaN   \n",
       "1862                  Ìjọ̀gbọ̀n         4.950000e+06     2550000.0   \n",
       "1863          أصحاب ...ولا أعزّ         2.910000e+06           NaN   \n",
       "1864                       비상선언         5.463333e+06           NaN   \n",
       "\n",
       "      cumulative_weeks_in_top_10  runtime  number_of_seasons release_date  \\\n",
       "0                              2      NaN                0.0          NaN   \n",
       "1                              2   2.0667                0.0          NaN   \n",
       "2                              2      NaN                0.0          NaN   \n",
       "3                              2      NaN                0.0          NaN   \n",
       "4                              2      NaN                0.0          NaN   \n",
       "...                          ...      ...                ...          ...   \n",
       "1860                           1   1.8500                0.0          NaN   \n",
       "1861                           4      NaN                0.0   2023-05-11   \n",
       "1862                           2   1.9333                0.0          NaN   \n",
       "1863                           3      NaN                0.0   2022-01-20   \n",
       "1864                           3      NaN                0.0          NaN   \n",
       "\n",
       "      genre main_production        week  is_staggered_launch  \\\n",
       "0       NaN             NaN  2022-04-03                False   \n",
       "1       NaN             NaN  2023-08-27                False   \n",
       "2       NaN             NaN  2023-03-12                False   \n",
       "3       NaN             NaN  2022-01-02                False   \n",
       "4       NaN             NaN  2022-07-24                False   \n",
       "...     ...             ...         ...                  ...   \n",
       "1860    NaN             NaN  2024-01-21                False   \n",
       "1861    NaN             NaN  2023-06-04                False   \n",
       "1862    NaN             NaN  2023-10-22                False   \n",
       "1863    NaN             NaN  2022-02-06                False   \n",
       "1864    NaN             NaN  2023-04-16                False   \n",
       "\n",
       "      language_English  language_Non-English  type_Films  type_TV  \\\n",
       "0                    0                     1           1        0   \n",
       "1                    0                     1           1        0   \n",
       "2                    0                     1           1        0   \n",
       "3                    0                     1           1        0   \n",
       "4                    1                     0           1        0   \n",
       "...                ...                   ...         ...      ...   \n",
       "1860                 0                     1           1        0   \n",
       "1861                 0                     1           1        0   \n",
       "1862                 0                     1           1        0   \n",
       "1863                 0                     1           1        0   \n",
       "1864                 0                     1           1        0   \n",
       "\n",
       "      available_globally_No  available_globally_Yes  \n",
       "0                         1                       0  \n",
       "1                         0                       0  \n",
       "2                         0                       0  \n",
       "3                         0                       0  \n",
       "4                         1                       0  \n",
       "...                     ...                     ...  \n",
       "1860                      0                       0  \n",
       "1861                      0                       1  \n",
       "1862                      0                       0  \n",
       "1863                      1                       0  \n",
       "1864                      1                       0  \n",
       "\n",
       "[1865 rows x 17 columns]"
      ]
     },
     "execution_count": 492,
     "metadata": {},
     "output_type": "execute_result"
    }
   ],
   "source": [
    "encoded_df= pd.get_dummies(netflix[['language','type','is_staggered_launch','available_globally' ]])\n",
    "netflix = pd.concat([netflix.drop(columns=['language','type','is_staggered_launch','available_globally' ]), encoded_df], axis=1)\n",
    "netflix"
   ]
  },
  {
   "cell_type": "markdown",
   "metadata": {},
   "source": [
    "#### Dealing with Missing Data\n"
   ]
  },
  {
   "cell_type": "code",
   "execution_count": 493,
   "metadata": {},
   "outputs": [],
   "source": [
    "from numpy.linalg import svd"
   ]
  },
  {
   "cell_type": "code",
   "execution_count": 494,
   "metadata": {},
   "outputs": [],
   "source": [
    "netflix_fill=netflix.copy()"
   ]
  },
  {
   "cell_type": "code",
   "execution_count": 495,
   "metadata": {},
   "outputs": [],
   "source": [
    "#Imputing runtime values based on content type\n",
    "meanfilm=netflix[netflix['type_Films']==1]['runtime'].mean()\n",
    "netflix_fill.loc[netflix_fill['type_Films'] == 1, 'runtime'] = netflix.loc[netflix['type_Films'] == 1, 'runtime'].fillna(meanfilm)\n",
    "meantv=netflix[netflix['type_Films']==0]['runtime'].mean()\n",
    "netflix_fill.loc[netflix_fill['type_Films'] == 0, 'runtime'] = netflix.loc[netflix['type_Films'] == 0, 'runtime'].fillna(meantv)\n",
    "\n",
    "#Imputing availably globally\n",
    "netflix_fill['available_globally_Yes'] = netflix_fill.apply(lambda row: True if row['language_Non-English'] == True else row['available_globally_Yes'], axis=1)"
   ]
  },
  {
   "cell_type": "code",
   "execution_count": 496,
   "metadata": {},
   "outputs": [],
   "source": [
    "netflix_np=netflix_fill[['weekly_views',\n",
    "       'cumulative_weeks_in_top_10', 'runtime', 'number_of_seasons',\n",
    "       'is_staggered_launch', 'language_English', 'language_Non-English',\n",
    "       'type_Films', 'type_TV', 'available_globally_No',\n",
    "       'available_globally_Yes']].to_numpy()\n",
    "netflix_np=netflix_np.astype(float)"
   ]
  },
  {
   "cell_type": "code",
   "execution_count": 497,
   "metadata": {},
   "outputs": [],
   "source": [
    "column_means = np.nanmean(netflix_np, axis=0)\n",
    "nan_indices = np.isnan(netflix_np)\n",
    "netflix_np[nan_indices] = np.take(column_means, np.where(nan_indices)[1])"
   ]
  },
  {
   "cell_type": "code",
   "execution_count": 498,
   "metadata": {},
   "outputs": [],
   "source": [
    "netflix_copy = netflix[['weekly_views',\n",
    "       'cumulative_weeks_in_top_10', 'runtime', 'number_of_seasons',\n",
    "       'is_staggered_launch', 'language_English', 'language_Non-English',\n",
    "       'type_Films', 'type_TV', 'available_globally_No',\n",
    "       'available_globally_Yes']].to_numpy()\n",
    "netflix_copy=netflix_copy.astype(float)\n",
    "netflix_copy2=netflix_copy.copy()"
   ]
  },
  {
   "cell_type": "code",
   "execution_count": 499,
   "metadata": {},
   "outputs": [],
   "source": [
    "#Normalize ** DONT KNOW \n",
    "normalized_matrix = (netflix_np - np.mean(netflix_np, axis=0)) / np.std(netflix_np, axis=0)\n",
    "U, S, VT = svd(normalized_matrix)\n",
    "\n",
    "rank = 5\n",
    "U_ranked = U[:, :rank]\n",
    "S_ranked = np.diag(S[:rank])\n",
    "VT_ranked = VT[:rank, :]\n",
    "reconstructed_matrix = U_ranked.dot(S_ranked).dot(VT_ranked)\n",
    "\n",
    "denormalized_matrix = (reconstructed_matrix * np.std(netflix_np, axis=0)) + np.mean(netflix_np, axis=0)\n",
    "\n",
    "missing_indices = np.isnan(netflix_copy)\n",
    "netflix_copy[missing_indices] = denormalized_matrix[missing_indices]\n",
    "\n"
   ]
  },
  {
   "cell_type": "code",
   "execution_count": 500,
   "metadata": {},
   "outputs": [
    {
     "data": {
      "text/html": [
       "<div>\n",
       "<style scoped>\n",
       "    .dataframe tbody tr th:only-of-type {\n",
       "        vertical-align: middle;\n",
       "    }\n",
       "\n",
       "    .dataframe tbody tr th {\n",
       "        vertical-align: top;\n",
       "    }\n",
       "\n",
       "    .dataframe thead th {\n",
       "        text-align: right;\n",
       "    }\n",
       "</style>\n",
       "<table border=\"1\" class=\"dataframe\">\n",
       "  <thead>\n",
       "    <tr style=\"text-align: right;\">\n",
       "      <th></th>\n",
       "      <th>weekly_views</th>\n",
       "      <th>cumulative_weeks_in_top_10</th>\n",
       "      <th>runtime</th>\n",
       "      <th>number_of_seasons</th>\n",
       "      <th>is_staggered_launch</th>\n",
       "      <th>language_English</th>\n",
       "      <th>language_Non-English</th>\n",
       "      <th>type_Films</th>\n",
       "      <th>type_TV</th>\n",
       "      <th>available_globally_No</th>\n",
       "      <th>available_globally_Yes</th>\n",
       "      <th>weekly_hours_viewed</th>\n",
       "    </tr>\n",
       "  </thead>\n",
       "  <tbody>\n",
       "    <tr>\n",
       "      <th>0</th>\n",
       "      <td>2.530794e+06</td>\n",
       "      <td>2.0</td>\n",
       "      <td>1.465588</td>\n",
       "      <td>0.0</td>\n",
       "      <td>0.0</td>\n",
       "      <td>0.0</td>\n",
       "      <td>1.0</td>\n",
       "      <td>1.0</td>\n",
       "      <td>0.0</td>\n",
       "      <td>1.0</td>\n",
       "      <td>0.0</td>\n",
       "      <td>6825000.0</td>\n",
       "    </tr>\n",
       "    <tr>\n",
       "      <th>1</th>\n",
       "      <td>3.300000e+06</td>\n",
       "      <td>2.0</td>\n",
       "      <td>2.066700</td>\n",
       "      <td>0.0</td>\n",
       "      <td>0.0</td>\n",
       "      <td>0.0</td>\n",
       "      <td>1.0</td>\n",
       "      <td>1.0</td>\n",
       "      <td>0.0</td>\n",
       "      <td>0.0</td>\n",
       "      <td>0.0</td>\n",
       "      <td>6900000.0</td>\n",
       "    </tr>\n",
       "    <tr>\n",
       "      <th>2</th>\n",
       "      <td>3.670209e+06</td>\n",
       "      <td>2.0</td>\n",
       "      <td>1.835480</td>\n",
       "      <td>0.0</td>\n",
       "      <td>0.0</td>\n",
       "      <td>0.0</td>\n",
       "      <td>1.0</td>\n",
       "      <td>1.0</td>\n",
       "      <td>0.0</td>\n",
       "      <td>0.0</td>\n",
       "      <td>0.0</td>\n",
       "      <td>7415000.0</td>\n",
       "    </tr>\n",
       "    <tr>\n",
       "      <th>3</th>\n",
       "      <td>3.670209e+06</td>\n",
       "      <td>2.0</td>\n",
       "      <td>1.835480</td>\n",
       "      <td>0.0</td>\n",
       "      <td>0.0</td>\n",
       "      <td>0.0</td>\n",
       "      <td>1.0</td>\n",
       "      <td>1.0</td>\n",
       "      <td>0.0</td>\n",
       "      <td>0.0</td>\n",
       "      <td>0.0</td>\n",
       "      <td>6795000.0</td>\n",
       "    </tr>\n",
       "    <tr>\n",
       "      <th>4</th>\n",
       "      <td>3.629453e+06</td>\n",
       "      <td>2.0</td>\n",
       "      <td>1.428049</td>\n",
       "      <td>0.0</td>\n",
       "      <td>0.0</td>\n",
       "      <td>1.0</td>\n",
       "      <td>0.0</td>\n",
       "      <td>1.0</td>\n",
       "      <td>0.0</td>\n",
       "      <td>1.0</td>\n",
       "      <td>0.0</td>\n",
       "      <td>8210000.0</td>\n",
       "    </tr>\n",
       "  </tbody>\n",
       "</table>\n",
       "</div>"
      ],
      "text/plain": [
       "   weekly_views  cumulative_weeks_in_top_10   runtime  number_of_seasons  \\\n",
       "0  2.530794e+06                         2.0  1.465588                0.0   \n",
       "1  3.300000e+06                         2.0  2.066700                0.0   \n",
       "2  3.670209e+06                         2.0  1.835480                0.0   \n",
       "3  3.670209e+06                         2.0  1.835480                0.0   \n",
       "4  3.629453e+06                         2.0  1.428049                0.0   \n",
       "\n",
       "   is_staggered_launch  language_English  language_Non-English  type_Films  \\\n",
       "0                  0.0               0.0                   1.0         1.0   \n",
       "1                  0.0               0.0                   1.0         1.0   \n",
       "2                  0.0               0.0                   1.0         1.0   \n",
       "3                  0.0               0.0                   1.0         1.0   \n",
       "4                  0.0               1.0                   0.0         1.0   \n",
       "\n",
       "   type_TV  available_globally_No  available_globally_Yes  weekly_hours_viewed  \n",
       "0      0.0                    1.0                     0.0            6825000.0  \n",
       "1      0.0                    0.0                     0.0            6900000.0  \n",
       "2      0.0                    0.0                     0.0            7415000.0  \n",
       "3      0.0                    0.0                     0.0            6795000.0  \n",
       "4      0.0                    1.0                     0.0            8210000.0  "
      ]
     },
     "execution_count": 500,
     "metadata": {},
     "output_type": "execute_result"
    }
   ],
   "source": [
    "netflix_complete = pd.DataFrame(netflix_copy, columns=['weekly_views',\n",
    "                                                  'cumulative_weeks_in_top_10', 'runtime', \n",
    "                                                  'number_of_seasons', 'is_staggered_launch', \n",
    "                                                  'language_English', 'language_Non-English', \n",
    "                                                  'type_Films', 'type_TV', \n",
    "                                                  'available_globally_No', 'available_globally_Yes'])\n",
    "netflix_complete['weekly_hours_viewed']=netflix['weekly_hours_viewed']\n",
    "netflix_complete.head()"
   ]
  },
  {
   "cell_type": "code",
   "execution_count": 501,
   "metadata": {},
   "outputs": [],
   "source": [
    "netflix=netflix_complete.copy()"
   ]
  },
  {
   "cell_type": "markdown",
   "metadata": {},
   "source": [
    "## Modeling\n",
    "Now that the feature engineering is completed. We will explore different models to find the best fit to predict our success variable\n",
    "We will explore\n",
    "- Linear Regression\n",
    "- Polynomial Fits\n",
    "- Regression Trees"
   ]
  },
  {
   "cell_type": "code",
   "execution_count": 502,
   "metadata": {},
   "outputs": [
    {
     "name": "stdout",
     "output_type": "stream",
     "text": [
      "shape of X_train  (1492, 11)\n",
      "shape of y_train  (1492,)\n",
      "shape of X_test  (373, 11)\n",
      "shape of y_test  (373,)\n"
     ]
    }
   ],
   "source": [
    "#Linear Regression \n",
    "from sklearn.linear_model import LinearRegression\n",
    "from sklearn.model_selection import train_test_split\n",
    "\n",
    "y = netflix[\"weekly_hours_viewed\"]\n",
    "X = netflix.copy().drop(['weekly_hours_viewed'], axis=1)\n",
    "\n",
    "X_train, X_test, y_train, y_test = train_test_split(X, y, test_size=0.2, random_state=42)\n",
    "print(\"shape of X_train \", X_train.shape)\n",
    "print(\"shape of y_train \", y_train.shape)\n",
    "print(\"shape of X_test \", X_test.shape)\n",
    "print(\"shape of y_test \", y_test.shape)\n",
    "\n"
   ]
  },
  {
   "cell_type": "code",
   "execution_count": 503,
   "metadata": {},
   "outputs": [
    {
     "data": {
      "text/html": [
       "<div>\n",
       "<style scoped>\n",
       "    .dataframe tbody tr th:only-of-type {\n",
       "        vertical-align: middle;\n",
       "    }\n",
       "\n",
       "    .dataframe tbody tr th {\n",
       "        vertical-align: top;\n",
       "    }\n",
       "\n",
       "    .dataframe thead th {\n",
       "        text-align: right;\n",
       "    }\n",
       "</style>\n",
       "<table border=\"1\" class=\"dataframe\">\n",
       "  <thead>\n",
       "    <tr style=\"text-align: right;\">\n",
       "      <th></th>\n",
       "      <th>weekly_views</th>\n",
       "      <th>cumulative_weeks_in_top_10</th>\n",
       "      <th>runtime</th>\n",
       "      <th>number_of_seasons</th>\n",
       "      <th>is_staggered_launch</th>\n",
       "      <th>language_English</th>\n",
       "      <th>language_Non-English</th>\n",
       "      <th>type_Films</th>\n",
       "      <th>type_TV</th>\n",
       "      <th>available_globally_No</th>\n",
       "      <th>available_globally_Yes</th>\n",
       "    </tr>\n",
       "  </thead>\n",
       "  <tbody>\n",
       "    <tr>\n",
       "      <th>898</th>\n",
       "      <td>3.500000e+06</td>\n",
       "      <td>1.0</td>\n",
       "      <td>1.650000</td>\n",
       "      <td>0.0</td>\n",
       "      <td>0.0</td>\n",
       "      <td>1.0</td>\n",
       "      <td>0.0</td>\n",
       "      <td>1.0</td>\n",
       "      <td>0.0</td>\n",
       "      <td>0.0</td>\n",
       "      <td>0.0</td>\n",
       "    </tr>\n",
       "    <tr>\n",
       "      <th>244</th>\n",
       "      <td>4.516979e+06</td>\n",
       "      <td>1.0</td>\n",
       "      <td>1.782997</td>\n",
       "      <td>0.0</td>\n",
       "      <td>0.0</td>\n",
       "      <td>1.0</td>\n",
       "      <td>0.0</td>\n",
       "      <td>1.0</td>\n",
       "      <td>0.0</td>\n",
       "      <td>0.0</td>\n",
       "      <td>0.0</td>\n",
       "    </tr>\n",
       "    <tr>\n",
       "      <th>710</th>\n",
       "      <td>4.900000e+06</td>\n",
       "      <td>1.0</td>\n",
       "      <td>1.766700</td>\n",
       "      <td>0.0</td>\n",
       "      <td>0.0</td>\n",
       "      <td>1.0</td>\n",
       "      <td>0.0</td>\n",
       "      <td>1.0</td>\n",
       "      <td>0.0</td>\n",
       "      <td>1.0</td>\n",
       "      <td>0.0</td>\n",
       "    </tr>\n",
       "    <tr>\n",
       "      <th>1190</th>\n",
       "      <td>3.124727e+06</td>\n",
       "      <td>3.0</td>\n",
       "      <td>5.227822</td>\n",
       "      <td>0.0</td>\n",
       "      <td>0.0</td>\n",
       "      <td>0.0</td>\n",
       "      <td>1.0</td>\n",
       "      <td>0.0</td>\n",
       "      <td>1.0</td>\n",
       "      <td>0.0</td>\n",
       "      <td>1.0</td>\n",
       "    </tr>\n",
       "    <tr>\n",
       "      <th>720</th>\n",
       "      <td>2.620949e+06</td>\n",
       "      <td>1.0</td>\n",
       "      <td>5.197934</td>\n",
       "      <td>0.0</td>\n",
       "      <td>0.0</td>\n",
       "      <td>0.0</td>\n",
       "      <td>1.0</td>\n",
       "      <td>0.0</td>\n",
       "      <td>1.0</td>\n",
       "      <td>0.0</td>\n",
       "      <td>1.0</td>\n",
       "    </tr>\n",
       "    <tr>\n",
       "      <th>...</th>\n",
       "      <td>...</td>\n",
       "      <td>...</td>\n",
       "      <td>...</td>\n",
       "      <td>...</td>\n",
       "      <td>...</td>\n",
       "      <td>...</td>\n",
       "      <td>...</td>\n",
       "      <td>...</td>\n",
       "      <td>...</td>\n",
       "      <td>...</td>\n",
       "      <td>...</td>\n",
       "    </tr>\n",
       "    <tr>\n",
       "      <th>1130</th>\n",
       "      <td>4.876148e+06</td>\n",
       "      <td>6.0</td>\n",
       "      <td>5.375531</td>\n",
       "      <td>0.0</td>\n",
       "      <td>0.0</td>\n",
       "      <td>1.0</td>\n",
       "      <td>0.0</td>\n",
       "      <td>0.0</td>\n",
       "      <td>1.0</td>\n",
       "      <td>0.0</td>\n",
       "      <td>1.0</td>\n",
       "    </tr>\n",
       "    <tr>\n",
       "      <th>1294</th>\n",
       "      <td>3.719608e+06</td>\n",
       "      <td>1.0</td>\n",
       "      <td>5.160395</td>\n",
       "      <td>0.0</td>\n",
       "      <td>0.0</td>\n",
       "      <td>1.0</td>\n",
       "      <td>0.0</td>\n",
       "      <td>0.0</td>\n",
       "      <td>1.0</td>\n",
       "      <td>0.0</td>\n",
       "      <td>0.0</td>\n",
       "    </tr>\n",
       "    <tr>\n",
       "      <th>860</th>\n",
       "      <td>4.190000e+06</td>\n",
       "      <td>7.0</td>\n",
       "      <td>8.400010</td>\n",
       "      <td>0.0</td>\n",
       "      <td>0.0</td>\n",
       "      <td>1.0</td>\n",
       "      <td>0.0</td>\n",
       "      <td>0.0</td>\n",
       "      <td>1.0</td>\n",
       "      <td>0.0</td>\n",
       "      <td>1.0</td>\n",
       "    </tr>\n",
       "    <tr>\n",
       "      <th>1459</th>\n",
       "      <td>5.643615e+06</td>\n",
       "      <td>13.0</td>\n",
       "      <td>5.377257</td>\n",
       "      <td>0.0</td>\n",
       "      <td>0.0</td>\n",
       "      <td>0.0</td>\n",
       "      <td>1.0</td>\n",
       "      <td>0.0</td>\n",
       "      <td>1.0</td>\n",
       "      <td>0.0</td>\n",
       "      <td>1.0</td>\n",
       "    </tr>\n",
       "    <tr>\n",
       "      <th>1126</th>\n",
       "      <td>4.768868e+06</td>\n",
       "      <td>2.0</td>\n",
       "      <td>1.797941</td>\n",
       "      <td>0.0</td>\n",
       "      <td>0.0</td>\n",
       "      <td>1.0</td>\n",
       "      <td>0.0</td>\n",
       "      <td>1.0</td>\n",
       "      <td>0.0</td>\n",
       "      <td>0.0</td>\n",
       "      <td>0.0</td>\n",
       "    </tr>\n",
       "  </tbody>\n",
       "</table>\n",
       "<p>1492 rows × 11 columns</p>\n",
       "</div>"
      ],
      "text/plain": [
       "      weekly_views  cumulative_weeks_in_top_10   runtime  number_of_seasons  \\\n",
       "898   3.500000e+06                         1.0  1.650000                0.0   \n",
       "244   4.516979e+06                         1.0  1.782997                0.0   \n",
       "710   4.900000e+06                         1.0  1.766700                0.0   \n",
       "1190  3.124727e+06                         3.0  5.227822                0.0   \n",
       "720   2.620949e+06                         1.0  5.197934                0.0   \n",
       "...            ...                         ...       ...                ...   \n",
       "1130  4.876148e+06                         6.0  5.375531                0.0   \n",
       "1294  3.719608e+06                         1.0  5.160395                0.0   \n",
       "860   4.190000e+06                         7.0  8.400010                0.0   \n",
       "1459  5.643615e+06                        13.0  5.377257                0.0   \n",
       "1126  4.768868e+06                         2.0  1.797941                0.0   \n",
       "\n",
       "      is_staggered_launch  language_English  language_Non-English  type_Films  \\\n",
       "898                   0.0               1.0                   0.0         1.0   \n",
       "244                   0.0               1.0                   0.0         1.0   \n",
       "710                   0.0               1.0                   0.0         1.0   \n",
       "1190                  0.0               0.0                   1.0         0.0   \n",
       "720                   0.0               0.0                   1.0         0.0   \n",
       "...                   ...               ...                   ...         ...   \n",
       "1130                  0.0               1.0                   0.0         0.0   \n",
       "1294                  0.0               1.0                   0.0         0.0   \n",
       "860                   0.0               1.0                   0.0         0.0   \n",
       "1459                  0.0               0.0                   1.0         0.0   \n",
       "1126                  0.0               1.0                   0.0         1.0   \n",
       "\n",
       "      type_TV  available_globally_No  available_globally_Yes  \n",
       "898       0.0                    0.0                     0.0  \n",
       "244       0.0                    0.0                     0.0  \n",
       "710       0.0                    1.0                     0.0  \n",
       "1190      1.0                    0.0                     1.0  \n",
       "720       1.0                    0.0                     1.0  \n",
       "...       ...                    ...                     ...  \n",
       "1130      1.0                    0.0                     1.0  \n",
       "1294      1.0                    0.0                     0.0  \n",
       "860       1.0                    0.0                     1.0  \n",
       "1459      1.0                    0.0                     1.0  \n",
       "1126      0.0                    0.0                     0.0  \n",
       "\n",
       "[1492 rows x 11 columns]"
      ]
     },
     "execution_count": 503,
     "metadata": {},
     "output_type": "execute_result"
    }
   ],
   "source": [
    "X_train"
   ]
  },
  {
   "cell_type": "code",
   "execution_count": 504,
   "metadata": {},
   "outputs": [],
   "source": [
    "linear_model = LinearRegression(fit_intercept=True).fit(X_train,y_train)\n",
    "linear_pred = linear_model.predict(X_train)"
   ]
  },
  {
   "cell_type": "code",
   "execution_count": 505,
   "metadata": {},
   "outputs": [],
   "source": [
    "#Vizualizations for the linear model made \n",
    "\n",
    "def plot_predicted_v_actual(y_train, y_pred):\n",
    "  #helps us understand the relationship between the predicted and the actual values\n",
    "  plt.scatter(y_train, y_pred)\n",
    "  plt.plot([min(y_train), max(y_train)], [min(y_train), max(y_train)], color='red', linestyle='--')\n",
    "  plt.xlabel('Actual Values')\n",
    "  plt.ylabel('Predicted Values')\n",
    "  plt.title('Actual vs. Predicted Values')\n",
    "  plt.show()\n",
    "  \n",
    "\n",
    "def plot_residuals (y, y_pred):\n",
    "  residuals = y - y_pred\n",
    "  plt.scatter(y_pred, residuals)\n",
    "  plt.xlabel(\"Predicted Values\")\n",
    "  plt.ylabel(\"Residuals\")\n",
    "  plt.title(\"Residual Plot\")\n",
    "  plt.axhline(y=0, color='r', linestyle='-')\n",
    "  plt.show()\n"
   ]
  },
  {
   "cell_type": "code",
   "execution_count": 506,
   "metadata": {},
   "outputs": [
    {
     "data": {
      "image/png": "[encoded data removed]",
      "text/plain": [
       "<Figure size 432x288 with 1 Axes>"
      ]
     },
     "metadata": {},
     "output_type": "display_data"
    },
    {
     "data": {
      "image/png": "[encoded data removed]",
      "text/plain": [
       "<Figure size 432x288 with 1 Axes>"
      ]
     },
     "metadata": {},
     "output_type": "display_data"
    }
   ],
   "source": [
    "plot_predicted_v_actual(y_train, linear_pred)\n",
    "plot_residuals(y_train, linear_pred)\n"
   ]
  },
  {
   "cell_type": "markdown",
   "metadata": {},
   "source": [
    "The residual plot informs us that the residual (difference between the predicted and actual value) increases as the predicted values increases in size. This is a symptom of heteroscedasticity (https://www.qualtrics.com/support/stats-iq/analyses/regression-guides/interpreting-residual-plots-improve-regression/). Hence, we will employ regression techinques to reduce this. \n",
    "\n",
    "We can also observe a clear downwards trend within the residual graph which hints at the presence of a non-linear relationship in the dataset hence, prompting us to attempt polynomial fits as well. It is possible that multicolinearity is present within the dataset"
   ]
  },
  {
   "cell_type": "code",
   "execution_count": 507,
   "metadata": {},
   "outputs": [
    {
     "name": "stdout",
     "output_type": "stream",
     "text": [
      "linear R^2 score:  0.5715473449277324\n",
      "linear MSE score:  0.5715473449277324\n",
      "Cross-Validation Results (Accuracy): [0.65883494 0.57420244 0.41562549 0.68136143 0.63383548 0.59584451\n",
      " 0.51967707 0.52009656 0.57255344 0.56083207]\n",
      "0.57 accuracy with a standard deviation of 0.07\n"
     ]
    }
   ],
   "source": [
    "from sklearn.metrics import r2_score, mean_squared_error\n",
    "#calculating the R-squared score \n",
    "r_squared_lin = r2_score(y_train, linear_pred)\n",
    "print(\"linear R^2 score: \", r_squared_lin)\n",
    "\n",
    "#calculating the mean squared error(MSE)\n",
    "mse_lin = mean_squared_error(y_train, linear_pred)\n",
    "print(\"linear MSE score: \", r_squared_lin)\n",
    "\n",
    "#https://www.geeksforgeeks.org/cross-validation-machine-learning/\n",
    "from sklearn.model_selection import cross_val_score, KFold\n",
    "num_folds = 10\n",
    "kf = KFold(n_splits=num_folds, shuffle=True, random_state=42)\n",
    "cross_val_results_lin = cross_val_score(LinearRegression(), X_train, y_train, cv=kf)\n",
    "print(f'Cross-Validation Results (Accuracy): {cross_val_results_lin}')\n",
    "print(\"%0.2f accuracy with a standard deviation of %0.2f\" % (cross_val_results_lin.mean(), cross_val_results_lin.std()))\n",
    "\n"
   ]
  },
  {
   "cell_type": "markdown",
   "metadata": {},
   "source": [
    "Testing for the presence of mulitcolinearity as per https://www.analyticsvidhya.com/blog/2020/03/what-is-multicollinearity/#:~:text=Multicollinearity%20is%20a%20statistical%20phenomenon,relationship%20among%20the%20predictor%20variables.\n",
    "using the VIF value \n",
    "https://www.geeksforgeeks.org/detecting-multicollinearity-with-vif-python/#"
   ]
  },
  {
   "cell_type": "code",
   "execution_count": 508,
   "metadata": {},
   "outputs": [
    {
     "name": "stderr",
     "output_type": "stream",
     "text": [
      "/Applications/anaconda3/lib/python3.9/site-packages/statsmodels/stats/outliers_influence.py:195: RuntimeWarning: divide by zero encountered in double_scalars\n",
      "  vif = 1. / (1. - r_squared_i)\n"
     ]
    }
   ],
   "source": [
    "from statsmodels.stats.outliers_influence import variance_inflation_factor\n",
    "# calculating VIF for each feature \n",
    "vif_data = pd.DataFrame() \n",
    "vif_data[\"feature\"] = X.columns \n",
    "vif_data[\"VIF\"] = [variance_inflation_factor(X_train.values, i) \n",
    "                          for i in range(len(X_train.columns))] \n"
   ]
  },
  {
   "cell_type": "code",
   "execution_count": 509,
   "metadata": {},
   "outputs": [
    {
     "data": {
      "text/html": [
       "<div>\n",
       "<style scoped>\n",
       "    .dataframe tbody tr th:only-of-type {\n",
       "        vertical-align: middle;\n",
       "    }\n",
       "\n",
       "    .dataframe tbody tr th {\n",
       "        vertical-align: top;\n",
       "    }\n",
       "\n",
       "    .dataframe thead th {\n",
       "        text-align: right;\n",
       "    }\n",
       "</style>\n",
       "<table border=\"1\" class=\"dataframe\">\n",
       "  <thead>\n",
       "    <tr style=\"text-align: right;\">\n",
       "      <th></th>\n",
       "      <th>feature</th>\n",
       "      <th>VIF</th>\n",
       "    </tr>\n",
       "  </thead>\n",
       "  <tbody>\n",
       "    <tr>\n",
       "      <th>0</th>\n",
       "      <td>weekly_views</td>\n",
       "      <td>1.521080</td>\n",
       "    </tr>\n",
       "    <tr>\n",
       "      <th>1</th>\n",
       "      <td>cumulative_weeks_in_top_10</td>\n",
       "      <td>1.309080</td>\n",
       "    </tr>\n",
       "    <tr>\n",
       "      <th>2</th>\n",
       "      <td>runtime</td>\n",
       "      <td>3.229953</td>\n",
       "    </tr>\n",
       "    <tr>\n",
       "      <th>3</th>\n",
       "      <td>number_of_seasons</td>\n",
       "      <td>1.070473</td>\n",
       "    </tr>\n",
       "    <tr>\n",
       "      <th>4</th>\n",
       "      <td>is_staggered_launch</td>\n",
       "      <td>1.123126</td>\n",
       "    </tr>\n",
       "    <tr>\n",
       "      <th>5</th>\n",
       "      <td>language_English</td>\n",
       "      <td>inf</td>\n",
       "    </tr>\n",
       "    <tr>\n",
       "      <th>6</th>\n",
       "      <td>language_Non-English</td>\n",
       "      <td>inf</td>\n",
       "    </tr>\n",
       "    <tr>\n",
       "      <th>7</th>\n",
       "      <td>type_Films</td>\n",
       "      <td>inf</td>\n",
       "    </tr>\n",
       "    <tr>\n",
       "      <th>8</th>\n",
       "      <td>type_TV</td>\n",
       "      <td>inf</td>\n",
       "    </tr>\n",
       "    <tr>\n",
       "      <th>9</th>\n",
       "      <td>available_globally_No</td>\n",
       "      <td>1.294412</td>\n",
       "    </tr>\n",
       "    <tr>\n",
       "      <th>10</th>\n",
       "      <td>available_globally_Yes</td>\n",
       "      <td>1.266521</td>\n",
       "    </tr>\n",
       "  </tbody>\n",
       "</table>\n",
       "</div>"
      ],
      "text/plain": [
       "                       feature       VIF\n",
       "0                 weekly_views  1.521080\n",
       "1   cumulative_weeks_in_top_10  1.309080\n",
       "2                      runtime  3.229953\n",
       "3            number_of_seasons  1.070473\n",
       "4          is_staggered_launch  1.123126\n",
       "5             language_English       inf\n",
       "6         language_Non-English       inf\n",
       "7                   type_Films       inf\n",
       "8                      type_TV       inf\n",
       "9        available_globally_No  1.294412\n",
       "10      available_globally_Yes  1.266521"
      ]
     },
     "execution_count": 509,
     "metadata": {},
     "output_type": "execute_result"
    }
   ],
   "source": [
    "vif_data"
   ]
  },
  {
   "cell_type": "markdown",
   "metadata": {},
   "source": [
    "It is clear that multiple features have high multicolinearity hence we will employ PCA to tackle this issue"
   ]
  },
  {
   "cell_type": "code",
   "execution_count": 510,
   "metadata": {},
   "outputs": [
    {
     "name": "stdout",
     "output_type": "stream",
     "text": [
      "(1492, 7)\n",
      "[0.28145177 0.20735899 0.12019543 0.10004715 0.0926528  0.08269444\n",
      " 0.06043284]\n"
     ]
    }
   ],
   "source": [
    "from sklearn.decomposition import PCA\n",
    "from sklearn.preprocessing import StandardScaler\n",
    "\n",
    "# Scale data before applying PCA\n",
    "scaling=StandardScaler()\n",
    "\n",
    "# Use fit and transform method \n",
    "scaling.fit(X_train)\n",
    "Scaled_data=scaling.transform(X_train)\n",
    " \n",
    "# Set the n_components=3\n",
    "principal=PCA(n_components=7)\n",
    "principal.fit(Scaled_data)\n",
    "x_train_after_pca =principal.transform(Scaled_data)\n",
    "\n",
    "# Check the dimensions of data after PCA\n",
    "print(x_train_after_pca.shape)\n",
    "\n",
    "# check how much variance is explained by each principal component\n",
    "print(principal.explained_variance_ratio_)\n",
    "\n",
    "\n"
   ]
  },
  {
   "cell_type": "markdown",
   "metadata": {},
   "source": [
    "Retraining after the PCA reduced dimensionality to 7 features "
   ]
  },
  {
   "cell_type": "code",
   "execution_count": 511,
   "metadata": {},
   "outputs": [
    {
     "data": {
      "image/png": "[encoded data removed]",
      "text/plain": [
       "<Figure size 432x288 with 1 Axes>"
      ]
     },
     "metadata": {},
     "output_type": "display_data"
    },
    {
     "data": {
      "image/png": "[encoded data removed]",
      "text/plain": [
       "<Figure size 432x288 with 1 Axes>"
      ]
     },
     "metadata": {},
     "output_type": "display_data"
    }
   ],
   "source": [
    "linear_model_after_pca = LinearRegression(fit_intercept=True).fit(x_train_after_pca,y_train)\n",
    "linear_pred_after_pca = linear_model_after_pca.predict(x_train_after_pca)\n",
    "\n",
    "plot_predicted_v_actual(y_train, linear_pred_after_pca)\n",
    "plot_residuals(y_train, linear_pred_after_pca)"
   ]
  },
  {
   "cell_type": "markdown",
   "metadata": {},
   "source": [
    "Now we proceed onto generalization "
   ]
  },
  {
   "cell_type": "code",
   "execution_count": 512,
   "metadata": {},
   "outputs": [
    {
     "data": {
      "text/plain": [
       "0"
      ]
     },
     "execution_count": 512,
     "metadata": {},
     "output_type": "execute_result"
    }
   ],
   "source": [
    "(x_train_after_pca == 0).sum().sum()\n",
    "# this means that the modified dataset is not sparse "
   ]
  },
  {
   "cell_type": "code",
   "execution_count": 513,
   "metadata": {},
   "outputs": [
    {
     "name": "stdout",
     "output_type": "stream",
     "text": [
      "(1492, 7)\n"
     ]
    }
   ],
   "source": [
    "\n",
    "print(x_train_after_pca.shape)"
   ]
  },
  {
   "cell_type": "code",
   "execution_count": 514,
   "metadata": {},
   "outputs": [],
   "source": [
    "vif_data_pca = pd.DataFrame() \n",
    "vif_data_pca[\"VIF\"] = [variance_inflation_factor(x_train_after_pca, i) \n",
    "                          for i in range(len(x_train_after_pca[0]))] "
   ]
  },
  {
   "cell_type": "code",
   "execution_count": 515,
   "metadata": {},
   "outputs": [
    {
     "data": {
      "text/html": [
       "<div>\n",
       "<style scoped>\n",
       "    .dataframe tbody tr th:only-of-type {\n",
       "        vertical-align: middle;\n",
       "    }\n",
       "\n",
       "    .dataframe tbody tr th {\n",
       "        vertical-align: top;\n",
       "    }\n",
       "\n",
       "    .dataframe thead th {\n",
       "        text-align: right;\n",
       "    }\n",
       "</style>\n",
       "<table border=\"1\" class=\"dataframe\">\n",
       "  <thead>\n",
       "    <tr style=\"text-align: right;\">\n",
       "      <th></th>\n",
       "      <th>VIF</th>\n",
       "    </tr>\n",
       "  </thead>\n",
       "  <tbody>\n",
       "    <tr>\n",
       "      <th>0</th>\n",
       "      <td>1.0</td>\n",
       "    </tr>\n",
       "    <tr>\n",
       "      <th>1</th>\n",
       "      <td>1.0</td>\n",
       "    </tr>\n",
       "    <tr>\n",
       "      <th>2</th>\n",
       "      <td>1.0</td>\n",
       "    </tr>\n",
       "    <tr>\n",
       "      <th>3</th>\n",
       "      <td>1.0</td>\n",
       "    </tr>\n",
       "    <tr>\n",
       "      <th>4</th>\n",
       "      <td>1.0</td>\n",
       "    </tr>\n",
       "    <tr>\n",
       "      <th>5</th>\n",
       "      <td>1.0</td>\n",
       "    </tr>\n",
       "    <tr>\n",
       "      <th>6</th>\n",
       "      <td>1.0</td>\n",
       "    </tr>\n",
       "  </tbody>\n",
       "</table>\n",
       "</div>"
      ],
      "text/plain": [
       "   VIF\n",
       "0  1.0\n",
       "1  1.0\n",
       "2  1.0\n",
       "3  1.0\n",
       "4  1.0\n",
       "5  1.0\n",
       "6  1.0"
      ]
     },
     "execution_count": 515,
     "metadata": {},
     "output_type": "execute_result"
    }
   ],
   "source": [
    "vif_data_pca"
   ]
  },
  {
   "cell_type": "code",
   "execution_count": 516,
   "metadata": {},
   "outputs": [
    {
     "name": "stdout",
     "output_type": "stream",
     "text": [
      "linear R^2 score:  0.5533034628872449\n",
      "linear MSE score:  0.5533034628872449\n",
      "PCA Cross-Validation Results (Accuracy): [-2.36921412e-01  8.18436849e-01  2.92310145e-01  6.00866042e-01\n",
      "  7.47015882e-01 -4.28289289e+00 -5.37891102e+00 -9.12762389e-02\n",
      "  1.55177425e-01 -9.14410952e+00 -7.86286128e+00  9.06097294e-01\n",
      "  3.05722068e-01 -2.07663564e+00  8.23317896e-01  6.79682379e-01\n",
      " -1.09354715e+01  8.50227930e-01 -1.00069586e+00  1.78314182e-01\n",
      "  5.06932337e-01  2.55593402e-01 -8.95720953e-02  6.11256867e-01\n",
      "  7.54666860e-01  6.53589926e-01  9.63247342e-02  8.41237333e-01\n",
      " -8.81366494e+00  7.25076371e-01  8.96355479e-01  6.41343702e-01\n",
      " -2.12993319e+02 -1.17657904e+01 -3.97147832e+01  7.39080890e-01\n",
      "  8.11917846e-01 -2.36726501e+00  8.56656035e-01  9.43298659e-01\n",
      " -2.13094832e+00  2.26933834e-02 -1.94396498e+00  6.41056149e-01\n",
      "  9.52260056e-01  8.69304182e-02  8.26849993e-01  1.48131697e-01\n",
      " -2.75181861e-01 -7.89052827e-01  5.78799268e-01  4.89629096e-01\n",
      "  5.74277372e-01  4.11783085e-01 -3.65010998e+00 -2.17514293e+00\n",
      " -1.16692122e+00  1.52775577e-01  5.37347956e-01  9.49366267e-01\n",
      " -3.63829541e-01  8.73820151e-02  8.59556891e-01 -1.44661015e+00\n",
      "  4.68393019e-02 -1.57593804e-01 -3.66684829e-04  4.21460641e-01\n",
      " -4.17241188e+00  2.69279948e-01 -1.28666402e-01 -1.29622604e+00\n",
      "  2.58572725e-02  5.72379819e-01  3.99955801e-01 -1.92568795e-01\n",
      "  4.04165708e-01  7.27883953e-02  3.10405102e-01 -3.18497876e+01\n",
      "  8.72608843e-01  7.97170745e-01 -1.34084676e+00  9.56496137e-01\n",
      "  5.43053220e-01  9.55588190e-01  2.44413652e-01  9.53382034e-01\n",
      "  7.98595325e-01  3.78500594e-01  2.37059917e-01 -1.53579586e-01\n",
      "  5.98544240e-01 -2.48527983e+00  5.30458367e-01  3.74941992e-01\n",
      " -1.72125981e-01 -3.68842016e+01 -1.94975156e+01 -1.34609128e+00\n",
      " -8.34697405e+00  4.28027644e-01  8.89841682e-01 -9.64185959e-01\n",
      " -3.32243570e+01  5.06365227e-01  9.84888704e-01  2.47176758e-01\n",
      "  7.84483121e-01  8.17675581e-01 -2.48299511e+00 -1.42713538e+00\n",
      " -1.30320484e+01 -7.51812620e+01  5.72807298e-01 -5.92119336e-03\n",
      " -4.40469077e-01 -1.79929528e+00 -7.99716222e+00  6.85437424e-01\n",
      "  6.58386200e-01  7.56875764e-01 -3.89836029e+00 -2.18930838e-01\n",
      "  1.04610549e-01  9.08561251e-01  8.75761954e-01  1.81693505e-01\n",
      " -1.15267057e+00  1.96145118e-01  8.97402117e-01  9.16681044e-01\n",
      "  7.24144327e-01  6.56389781e-01  8.98782444e-01  3.06069331e-02\n",
      " -1.20378609e+00  5.12087931e-02  5.47672365e-01  5.65813524e-01\n",
      " -2.04154156e+00  8.95126650e-01 -3.93251140e+00  7.46320178e-01\n",
      " -2.49566418e-01 -9.76433961e-01 -4.22261015e+00 -7.60979492e+01\n",
      "  8.25103000e-01 -9.00840927e+00  9.61576936e-01  9.27633004e-01\n",
      " -2.05695408e+00 -6.47105149e+00  4.32430749e-01  7.91847005e-01\n",
      "  7.31217883e-01  2.79568523e-01 -1.83386955e+00 -1.42872245e-01\n",
      "  9.76730250e-01 -1.11897739e+00 -4.11357996e-01  8.85358645e-01\n",
      "  7.58528977e-02 -9.38322778e-01  7.12068634e-01 -3.26038226e-01\n",
      "  6.88874438e-01 -2.70586122e+00  8.97591448e-01 -7.27825189e-01\n",
      " -1.44847737e+00  8.69615714e-01  5.72460709e-01 -6.42614495e-01\n",
      " -5.77573460e-01 -8.68187340e-01  6.61523668e-01 -1.13038012e-01\n",
      "  6.55415051e-01 -5.12389038e+00  8.95752792e-01  9.68854496e-01\n",
      " -4.64382266e-01  7.92212477e-01  5.09329264e-01 -3.92608328e+00\n",
      "  1.19929717e-01  8.75357139e-01  5.92082145e-01 -1.00704921e+00\n",
      "  3.42006813e-01 -5.46436103e-01  9.41837738e-01 -3.83322494e+01\n",
      "  7.33051973e-01  2.81165788e-01  9.69379231e-01  8.46684069e-01\n",
      " -5.03709378e+00  2.04566420e-01  5.52418852e-01  5.88584565e-01\n",
      "  5.40516239e-01 -2.06581679e+01 -1.34996399e+01 -1.34697655e+00\n",
      "  9.51887379e-01 -5.61333756e-01 -3.57830640e-02  4.13816575e-01\n",
      "  8.15792048e-01 -9.89849660e-01 -2.27658371e+00  3.32245939e-01\n",
      " -8.52341386e-01 -3.96684313e+00 -1.36410834e+01  7.19623416e-01\n",
      "  3.50824280e-02  6.84643138e-01  8.70155628e-01  5.16184133e-01\n",
      "  4.63174456e-01 -2.37310853e+00  6.17961097e-01  1.37373268e-01\n",
      "  7.10507398e-01  4.33371296e-01  7.16497197e-01  3.65864488e-01\n",
      "  6.51061668e-01  6.94536725e-01 -3.00534526e+00 -1.10900135e+01\n",
      " -1.97723027e+01 -5.57441422e-01  4.45185014e-01  6.74448045e-01\n",
      " -6.44133089e-01  8.51468639e-01 -3.24793147e+00  6.12108093e-01\n",
      "  6.46922544e-02  7.01912111e-02  8.78131108e-01  4.89246192e-01\n",
      "  6.56620940e-01 -4.32992446e-01 -1.21740157e+01 -1.52093793e+00\n",
      "  5.90807347e-01 -1.33833673e+01  4.19494904e-01  7.32464951e-01\n",
      "  6.07208219e-01 -2.17104721e+00  6.80090244e-01 -1.47056114e+00\n",
      "  8.30973722e-01  4.92819497e-01 -7.88696631e+00 -2.47512285e+00\n",
      "  8.10004408e-01  1.06632651e-01  1.57715858e-01 -1.60128649e+00\n",
      "  3.12967407e-01  4.19563712e-01  6.34161096e-01  6.82811588e-01\n",
      " -3.73890137e+00  7.27549697e-01  3.45572605e-01 -4.40887773e+00\n",
      " -5.73726161e+00  8.78646197e-01 -3.11247819e+01  8.49087788e-01\n",
      "  5.07798350e-01  4.36548832e-01  5.07234339e-01  3.72328532e-01\n",
      "  3.39622109e-01 -7.83327911e+00 -8.31275916e+00  7.22860189e-03\n",
      " -5.25648784e-01 -3.87927010e+00 -1.31195118e+01 -6.21972381e+00\n",
      "  2.77686700e-02  7.57386580e-02  9.71515125e-01  2.65753252e-01\n",
      " -5.75409197e+00  8.39591389e-01 -1.05494371e-02  9.67504792e-01\n",
      " -1.68078169e-01  2.66469155e-01  3.22346677e-01 -1.95530769e-01\n",
      "  9.48031914e-01  7.67621607e-01 -5.63492329e-03  3.03550202e-01\n",
      "  2.72628441e-01  2.58607212e-01  8.98513845e-01  8.65663508e-01\n",
      "  2.31764334e-01  5.50676007e-01 -5.37707871e+00  7.24605989e-01\n",
      " -1.66603289e+00  8.30671694e-01  1.72519505e-01  4.57317113e-01\n",
      " -2.85961341e+01  4.87239512e-01 -6.20910831e-01  5.52888606e-01\n",
      "  8.57926674e-01 -2.50288154e+00 -6.47218417e-01  4.78574844e-01\n",
      "  9.61871001e-01  8.36917302e-01 -1.40223038e-02  5.97368260e-01\n",
      " -4.68649334e+01  6.44149050e-01  4.27555004e-01  1.31989661e-01\n",
      "  2.86170929e-01  5.10325367e-01  5.18510882e-01  8.51982182e-01\n",
      " -6.22177999e-01  2.30972249e-01 -2.47739825e+00  3.23522275e-01\n",
      " -4.82702399e-01 -7.75774745e-01 -9.97050562e+01 -2.03286042e-02\n",
      "  9.94933506e-01 -1.38490341e+00  1.05725606e-01 -1.09307270e+00\n",
      "  9.26096698e-01  6.39230456e-01  6.75318479e-01  2.57141027e-01\n",
      " -2.05210987e+00  7.49309155e-01 -4.67529796e+00  1.03892838e-01\n",
      " -7.12355475e+00 -7.87353671e-01  7.28747977e-01  7.25688206e-01\n",
      "  7.04217355e-01 -2.83434870e+00  1.98620240e-01  8.27737012e-01\n",
      "  6.88467771e-01  5.26019903e-01  7.86518056e-01  8.66715090e-01\n",
      " -8.64163556e-01 -6.87667222e-01 -5.97334683e-01 -7.47974695e+00\n",
      " -1.59702667e+00 -5.13519020e+00  8.20538991e-01  9.58442325e-01\n",
      "  7.41375562e-01  8.13595739e-02 -6.88154686e-01  1.05309411e-01\n",
      "  4.59475457e-01  5.64281621e-01 -3.32253706e+00 -1.11736652e+00\n",
      "  8.33030225e-01  6.05357671e-01  6.45026841e-01  2.62284224e-01\n",
      " -8.55796601e-01 -1.32325686e+00 -1.08074948e+00  7.26809108e-01\n",
      "  6.87405964e-01  2.70067923e-01  8.13452435e-01  8.27662692e-01\n",
      "  5.89621031e-01 -8.55815210e-02  7.69751248e-01 -1.50332924e+00\n",
      "  6.03921140e-01  3.95123586e-01  5.91295245e-01 -4.22522389e-01\n",
      " -1.84798370e+00  6.56741772e-01 -1.30003218e+01 -4.51733161e+00\n",
      "  4.90659089e-01  3.05950929e-01  8.27057884e-01 -2.01947085e+00\n",
      " -4.82122829e+00  9.40716643e-01  6.51448427e-01 -4.00952704e+01\n",
      "  6.89349388e-01 -2.04420133e-01  8.14926103e-01 -7.48815743e-02\n",
      " -3.92097445e+00 -1.38306234e+00 -2.79469236e+00  2.43823426e-01\n",
      "  8.33859155e-01 -1.65590535e-01 -7.58868637e-01 -1.23925172e+00\n",
      "  4.27612757e-01  6.04806248e-01  6.71479958e-01 -1.61713263e+00\n",
      " -5.01733934e+00 -8.53698093e+00 -5.23045271e-01 -2.15628496e+00\n",
      "  7.93709431e-01  8.38093815e-01  8.04500236e-01  5.29534388e-01\n",
      " -5.34875759e+00  7.51261722e-01  4.43142605e-01  9.39655988e-01\n",
      "  8.73186831e-01  8.58571718e-01  7.49646367e-01  1.60900897e-01\n",
      "  4.17632759e-01  7.32236259e-01 -1.56730939e-01  4.95063220e-01\n",
      "  6.32124330e-02  3.41872677e-01  5.19877284e-01 -1.02960114e+01\n",
      " -1.02296967e-03 -2.75227538e+00  9.50613234e-01 -2.21280675e+00\n",
      "  9.16649808e-01 -1.34585086e+00 -1.83171729e-01 -4.44097988e-01\n",
      " -5.05104435e+01 -9.32261392e-01 -4.50138862e-02  7.58710437e-01\n",
      " -5.72433049e-01 -1.33716347e+00  8.05599477e-01 -8.06064641e-01\n",
      " -1.10144671e+02  8.51836161e-01  6.90834434e-01 -2.51041908e+00\n",
      " -5.96443685e+00 -4.98776828e-01  2.40637626e-01  9.02077490e-01\n",
      "  8.86732958e-01  5.91312821e-01 -8.38444908e-01 -8.27701896e-01\n",
      "  8.01735888e-01  7.46746094e-01  8.30522034e-01  8.25016358e-01\n",
      " -1.38570800e+01  7.45404481e-01 -2.47813230e-01 -2.25139414e+00\n",
      " -1.17236882e-01  7.21433076e-01  7.95353101e-01  1.39534234e-01]\n",
      "-2.71 accuracy with a standard deviation of 13.77\n"
     ]
    }
   ],
   "source": [
    "#calculating the R-squared score \n",
    "r_squared_lin = r2_score(y_train, linear_pred_after_pca)\n",
    "print(\"linear R^2 score: \", r_squared_lin)\n",
    "\n",
    "#calculating the mean squared error(MSE)\n",
    "mse_lin = mean_squared_error(y_train, linear_pred_after_pca)\n",
    "print(\"linear MSE score: \", r_squared_lin)\n",
    "\n",
    "#https://www.geeksforgeeks.org/cross-validation-machine-learning/\n",
    "num_folds_pca = 500\n",
    "kf_pca = KFold(n_splits = num_folds_pca, shuffle = True, random_state = 42)\n",
    "cross_val_results_lin_after_pca = cross_val_score(LinearRegression(), x_train_after_pca, y_train, cv = kf_pca)\n",
    "print(f'PCA Cross-Validation Results (Accuracy): {cross_val_results_lin_after_pca}')\n",
    "print(\"%0.2f accuracy with a standard deviation of %0.2f\" % (cross_val_results_lin_after_pca.mean(), cross_val_results_lin_after_pca.std()))"
   ]
  },
  {
   "cell_type": "markdown",
   "metadata": {},
   "source": [
    "\n",
    "# We should ask about the fix to heteroscedasticity faced - doesnt seem to simple??"
   ]
  },
  {
   "cell_type": "code",
   "execution_count": 517,
   "metadata": {},
   "outputs": [
    {
     "name": "stderr",
     "output_type": "stream",
     "text": [
      "/Applications/anaconda3/lib/python3.9/site-packages/seaborn/distributions.py:2619: FutureWarning: `distplot` is a deprecated function and will be removed in a future version. Please adapt your code to use either `displot` (a figure-level function with similar flexibility) or `histplot` (an axes-level function for histograms).\n",
      "  warnings.warn(msg, FutureWarning)\n"
     ]
    },
    {
     "data": {
      "image/png": "[encoded data removed]",
      "text/plain": [
       "<Figure size 432x288 with 1 Axes>"
      ]
     },
     "metadata": {},
     "output_type": "display_data"
    }
   ],
   "source": [
    "# Data distribution\n",
    "plt.title('Weekly Hours Viewed Distribution Plot')\n",
    "sns.distplot(netflix['weekly_hours_viewed'])\n",
    "plt.show()"
   ]
  },
  {
   "cell_type": "code",
   "execution_count": 518,
   "metadata": {},
   "outputs": [],
   "source": [
    "y = (netflix[\"weekly_hours_viewed\"]).values\n",
    "X = (netflix.copy().drop(['weekly_hours_viewed'], axis=1)).values\n",
    "X_train, X_test, y_train, y_test = train_test_split(X, y, test_size=0.2, random_state=42)"
   ]
  },
  {
   "cell_type": "code",
   "execution_count": 519,
   "metadata": {},
   "outputs": [],
   "source": [
    "# Fitting Polynomial Regression to the dataset\n",
    "from sklearn.preprocessing import PolynomialFeatures\n",
    " \n",
    "pr = PolynomialFeatures(degree = 4)\n",
    "X_poly = pr.fit_transform(X_train)\n",
    "lr_2 = LinearRegression()\n",
    "lr_2.fit(X_poly, y_train)\n",
    "#Predict results\n",
    "y_pred_poly = lr_2.predict(X_poly)  # Polynomial Regression\n",
    "#lr_2.fit(pr.fit_transform(X_test), y_test)\n",
    "y_test_pred_poly = lr_2.predict(pr.fit_transform(X_test))\n"
   ]
  },
  {
   "cell_type": "code",
   "execution_count": 520,
   "metadata": {},
   "outputs": [],
   "source": [
    "def poly_plot_predicted_v_actual(y_train, y_pred):\n",
    "  #helps us understand the relationship between the predicted and the actual values\n",
    "  plt.scatter(y_train, y_pred)\n",
    "  plt.plot(y_train, lr_2.predict(pr.fit_transform(X_train)), color = 'firebrick', linestyle='--')\n",
    "  plt.xlabel('Actual Values')\n",
    "  plt.ylabel('Predicted Values')\n",
    "  plt.title('Actual vs. Predicted Values')\n",
    "  plt.show()"
   ]
  },
  {
   "cell_type": "code",
   "execution_count": 521,
   "metadata": {},
   "outputs": [
    {
     "data": {
      "image/png": "[encoded data removed]",
      "text/plain": [
       "<Figure size 432x288 with 1 Axes>"
      ]
     },
     "metadata": {},
     "output_type": "display_data"
    },
    {
     "data": {
      "image/png": "[encoded data removed]",
      "text/plain": [
       "<Figure size 432x288 with 1 Axes>"
      ]
     },
     "metadata": {},
     "output_type": "display_data"
    }
   ],
   "source": [
    "poly_plot_predicted_v_actual(y_train, y_pred_poly)\n",
    "plot_residuals(y_train, y_pred_poly)"
   ]
  },
  {
   "cell_type": "code",
   "execution_count": 522,
   "metadata": {},
   "outputs": [],
   "source": [
    "# This function just computes the mean squared error\n",
    "def MSE(y, pred):\n",
    "    return np.square(np.subtract(y,pred)).mean()"
   ]
  },
  {
   "cell_type": "code",
   "execution_count": 523,
   "metadata": {},
   "outputs": [
    {
     "name": "stdout",
     "output_type": "stream",
     "text": [
      "Linear Train MSE\t 58508926629822.13\n",
      "Linear Test MSE\t 41942324512587.58\n",
      "Linear Train with PCA MSE\t 61000286977606.57\n"
     ]
    },
    {
     "name": "stderr",
     "output_type": "stream",
     "text": [
      "/Applications/anaconda3/lib/python3.9/site-packages/sklearn/base.py:450: UserWarning: X does not have valid feature names, but LinearRegression was fitted with feature names\n",
      "  warnings.warn(\n"
     ]
    }
   ],
   "source": [
    "# linear train and test MSE\n",
    "linear_test_pred = linear_model.predict(X_test)\n",
    "\n",
    "linear_train_MSE = MSE(y_train, linear_pred.flatten())\n",
    "linear_test_MSE = MSE(y_test, linear_test_pred.flatten())\n",
    "print(\"Linear Train MSE\\t\", str(linear_train_MSE))\n",
    "print(\"Linear Test MSE\\t\", str(linear_test_MSE))\n",
    "linear_train_PCA_MSE = MSE(y_train, linear_pred_after_pca.flatten())\n",
    "print(\"Linear Train with PCA MSE\\t\", str(linear_train_PCA_MSE))"
   ]
  },
  {
   "cell_type": "code",
   "execution_count": 524,
   "metadata": {},
   "outputs": [
    {
     "name": "stdout",
     "output_type": "stream",
     "text": [
      "Polynomial Train MSE\t 52629940945372.67\n",
      "Polynomial Train MSE\t 1219829058809169.0\n"
     ]
    }
   ],
   "source": [
    "# polynomial train and test MSE at degree 4\n",
    "poly_train_MSE = MSE(y_train, y_pred_poly.flatten())\n",
    "print(\"Polynomial Train MSE\\t\", str(poly_train_MSE))\n",
    "poly_test_MSE = MSE(y_test, y_test_pred_poly.flatten())\n",
    "print(\"Polynomial Train MSE\\t\", str(poly_test_MSE))"
   ]
  },
  {
   "cell_type": "code",
   "execution_count": 525,
   "metadata": {},
   "outputs": [
    {
     "name": "stdout",
     "output_type": "stream",
     "text": [
      "Polynomial Train MSE at degree 1\t 58508926629822.13\n",
      "Polynomial Test MSE at degree 1\t 41942324512586.83\n",
      "Polynomial Train MSE at degree 2\t 37160692866043.11\n",
      "Polynomial Test MSE at degree 2\t 32307355545434.133\n",
      "Polynomial Train MSE at degree 3\t 42082286104028.375\n",
      "Polynomial Test MSE at degree 3\t 39641701538503.055\n",
      "Polynomial Train MSE at degree 4\t 52629940945372.67\n",
      "Polynomial Test MSE at degree 4\t 1219829058809169.0\n",
      "Polynomial Train MSE at degree 5\t 82187317510436.12\n",
      "Polynomial Test MSE at degree 5\t 1.777568934124226e+16\n",
      "Polynomial Train MSE at degree 6\t 90566519845611.92\n",
      "Polynomial Test MSE at degree 6\t 1.8173598982519468e+16\n",
      "Polynomial Train MSE at degree 7\t 105573098556877.89\n",
      "Polynomial Test MSE at degree 7\t 5075823813185183.0\n"
     ]
    }
   ],
   "source": [
    "# compare train and test MSE for polynomials of degrees 1-7\n",
    "for i in range(7):\n",
    "  pr = PolynomialFeatures(degree = i+1)\n",
    "  X_poly = pr.fit_transform(X_train)\n",
    "  lr_2 = LinearRegression()\n",
    "  lr_2.fit(X_poly, y_train)\n",
    "  #Predict results\n",
    "  y_pred_poly = lr_2.predict(X_poly)  # Polynomial Regression\n",
    "  y_test_pred_poly = lr_2.predict(pr.fit_transform(X_test))\n",
    "  \n",
    "  poly_train_MSE = MSE(y_train, y_pred_poly.flatten())\n",
    "  print((\"Polynomial Train MSE\" + \" at degree \" + str(i+1) + \"\\t\"), str(poly_train_MSE))\n",
    "  poly_test_MSE = MSE(y_test, y_test_pred_poly.flatten())\n",
    "  print((\"Polynomial Test MSE\" + \" at degree \" + str(i+1) + \"\\t\"), str(poly_test_MSE))\n"
   ]
  },
  {
   "cell_type": "code",
   "execution_count": 526,
   "metadata": {},
   "outputs": [],
   "source": [
    "from sklearn.linear_model import LinearRegression, Lasso, Ridge"
   ]
  },
  {
   "cell_type": "code",
   "execution_count": 527,
   "metadata": {},
   "outputs": [],
   "source": [
    "from numpy.random import rand, randn\n",
    "def generate_data(n, w):\n",
    "    X = randn(n,len(w))\n",
    "    y = X@w\n",
    "    return X, y\n",
    "def generate_noisy_data(n, w):\n",
    "    X = randn(n,len(w))\n",
    "    y = X@w + .1*randn(n)\n",
    "    return X, y"
   ]
  },
  {
   "cell_type": "code",
   "execution_count": 556,
   "metadata": {},
   "outputs": [
    {
     "name": "stderr",
     "output_type": "stream",
     "text": [
      "/Applications/anaconda3/lib/python3.9/site-packages/sklearn/linear_model/_ridge.py:157: LinAlgWarning: Ill-conditioned matrix (rcond=1.28181e-17): result may not be accurate.\n",
      "  return linalg.solve(A, Xy, sym_pos=True, overwrite_a=True).T\n"
     ]
    }
   ],
   "source": [
    "y = (netflix[\"weekly_hours_viewed\"]).values\n",
    "X = (netflix.copy().drop(['weekly_hours_viewed'], axis=1)).values\n",
    "X_train, X_test, y_train, y_test = train_test_split(X, y, test_size=0.2, random_state=42)\n",
    "\n",
    "alpha_ridge=.1\n",
    "alpha_lasso=.1\n",
    "\n",
    "w_randn = randn(30)\n",
    "w_ridge = Ridge(alpha = alpha_ridge).fit(X,y).coef_\n",
    "w_lasso = Lasso(alpha = alpha_lasso).fit(X,y).coef_\n",
    "w_nonneg = LinearRegression(positive=True).fit(X,y).coef_\n",
    "w_sparse = w_randn*(abs(w_randn) > 1)\n"
   ]
  },
  {
   "cell_type": "code",
   "execution_count": 557,
   "metadata": {},
   "outputs": [
    {
     "data": {
      "text/plain": [
       "<matplotlib.legend.Legend at 0x175c79610>"
      ]
     },
     "execution_count": 557,
     "metadata": {},
     "output_type": "execute_result"
    },
    {
     "data": {
      "image/png": "[encoded data removed]",
      "text/plain": [
       "<Figure size 432x288 with 1 Axes>"
      ]
     },
     "metadata": {},
     "output_type": "display_data"
    }
   ],
   "source": [
    "#w_randn\n",
    "X,y = generate_data(30, w_randn)\n",
    "Xtest,ytest = generate_data(20,w_randn)\n",
    "\n",
    "yhat_ridge = Ridge(alpha = alpha_ridge).fit(X,y).predict(Xtest)\n",
    "yhat_lasso = Lasso(alpha = alpha_lasso).fit(X,y).predict(Xtest)\n",
    "yhat_nonneg = LinearRegression(positive=True).fit(X,y).predict(Xtest)\n",
    "\n",
    "plt.plot(ytest,ytest)\n",
    "plt.scatter(ytest, yhat_ridge, label=\"ridge\", color=\"purple\")\n",
    "plt.scatter(ytest, yhat_lasso, label=\"lasso\", color=\"orange\")\n",
    "plt.scatter(ytest, yhat_nonneg, label=\"NNLS\", color=\"green\")\n",
    "plt.xlabel(\"true value\")\n",
    "plt.ylabel(\"predicted value\")\n",
    "plt.legend()"
   ]
  },
  {
   "cell_type": "code",
   "execution_count": 558,
   "metadata": {},
   "outputs": [
    {
     "data": {
      "text/plain": [
       "<matplotlib.legend.Legend at 0x175cf38e0>"
      ]
     },
     "execution_count": 558,
     "metadata": {},
     "output_type": "execute_result"
    },
    {
     "data": {
      "image/png": "[encoded data removed]",
      "text/plain": [
       "<Figure size 432x288 with 1 Axes>"
      ]
     },
     "metadata": {},
     "output_type": "display_data"
    }
   ],
   "source": [
    "#w_sparse\n",
    "X,y = generate_data(30, w_sparse)\n",
    "Xtest,ytest = generate_data(20,w_sparse)\n",
    "\n",
    "yhat_ridge = Ridge(alpha = alpha_ridge).fit(X,y).predict(Xtest)\n",
    "yhat_lasso = Lasso(alpha = alpha_lasso).fit(X,y).predict(Xtest)\n",
    "yhat_nonneg = LinearRegression(positive=True).fit(X,y).predict(Xtest)\n",
    "\n",
    "plt.plot(ytest,ytest)\n",
    "plt.scatter(ytest, yhat_ridge, label=\"ridge\", color=\"purple\")\n",
    "plt.scatter(ytest, yhat_lasso, label=\"lasso\", color=\"orange\")\n",
    "plt.scatter(ytest, yhat_nonneg, label=\"NNLS\", color=\"green\")\n",
    "plt.xlabel(\"true value\")\n",
    "plt.ylabel(\"predicted value\")\n",
    "plt.legend()"
   ]
  },
  {
   "cell_type": "code",
   "execution_count": 559,
   "metadata": {},
   "outputs": [
    {
     "data": {
      "text/plain": [
       "<matplotlib.legend.Legend at 0x175ca9220>"
      ]
     },
     "execution_count": 559,
     "metadata": {},
     "output_type": "execute_result"
    },
    {
     "data": {
      "image/png": "[encoded data removed]",
      "text/plain": [
       "<Figure size 432x288 with 1 Axes>"
      ]
     },
     "metadata": {},
     "output_type": "display_data"
    }
   ],
   "source": [
    "#w_nonneg\n",
    "#w_nonneg = LinearRegression(positive=True).fit(X,y).coef_\n",
    "X,y = generate_data(30, w_nonneg)\n",
    "Xtest,ytest = generate_data(20,w_nonneg)\n",
    "\n",
    "yhat_ridge = Ridge(alpha = alpha_ridge).fit(X,y).predict(Xtest)\n",
    "yhat_lasso = Lasso(alpha = alpha_lasso).fit(X,y).predict(Xtest)\n",
    "yhat_nonneg = LinearRegression(positive=True).fit(X,y).predict(Xtest)\n",
    "\n",
    "plt.plot(ytest,ytest)\n",
    "plt.scatter(ytest, yhat_ridge, label=\"ridge\", color=\"purple\")\n",
    "plt.scatter(ytest, yhat_lasso, label=\"lasso\", color=\"orange\")\n",
    "plt.scatter(ytest, yhat_nonneg, label=\"NNLS\", color=\"green\")\n",
    "plt.xlabel(\"true value\")\n",
    "plt.ylabel(\"predicted value\")\n",
    "plt.legend()"
   ]
  },
  {
   "cell_type": "code",
   "execution_count": 560,
   "metadata": {},
   "outputs": [
    {
     "data": {
      "text/plain": [
       "<matplotlib.legend.Legend at 0x175da4dc0>"
      ]
     },
     "execution_count": 560,
     "metadata": {},
     "output_type": "execute_result"
    },
    {
     "data": {
      "image/png": "[encoded data removed]",
      "text/plain": [
       "<Figure size 432x288 with 1 Axes>"
      ]
     },
     "metadata": {},
     "output_type": "display_data"
    }
   ],
   "source": [
    "plt.hist(w_ridge, label=\"ridge coefficients\", bins=50, alpha=.5, color=\"purple\")\n",
    "plt.hist(w_lasso, label=\"lasso coefficients\", bins=50, alpha=.5, color=\"orange\")\n",
    "plt.hist(w_nonneg, label=\"NNLS coefficients\", bins=20, alpha=.5, color=\"green\")\n",
    "plt.legend()"
   ]
  },
  {
   "cell_type": "code",
   "execution_count": 561,
   "metadata": {},
   "outputs": [
    {
     "data": {
      "text/plain": [
       "<matplotlib.legend.Legend at 0x175f50940>"
      ]
     },
     "execution_count": 561,
     "metadata": {},
     "output_type": "execute_result"
    },
    {
     "data": {
      "image/png": "[encoded data removed]",
      "text/plain": [
       "<Figure size 432x288 with 1 Axes>"
      ]
     },
     "metadata": {},
     "output_type": "display_data"
    }
   ],
   "source": [
    "# cross validate over regularization parameter alpha\n",
    "np.random.seed(6)\n",
    "\n",
    "w = randn(40)\n",
    "X,y = generate_noisy_data(30, w)\n",
    "Xtest,ytest = generate_noisy_data(30, w)\n",
    "\n",
    "ridge_error = []\n",
    "lasso_error = []\n",
    "alphas = np.linspace(.01,1,100)\n",
    "for alpha in alphas:\n",
    "    yhat_ridge = Ridge(alpha = alpha).fit(X,y).predict(Xtest)\n",
    "    ridge_error.append(sum((ytest - yhat_ridge)**2))\n",
    "    yhat_lasso = Lasso(alpha = alpha).fit(X,y).predict(Xtest)\n",
    "    lasso_error.append(sum((ytest - yhat_lasso)**2))\n",
    "plt.plot(alphas, ridge_error, label=\"ridge\")\n",
    "plt.plot(alphas, lasso_error, label=\"lasso\")\n",
    "plt.ylabel(\"test error\")\n",
    "plt.xlabel(\"regularization parameter\")\n",
    "plt.legend()"
   ]
  },
  {
   "cell_type": "code",
   "execution_count": null,
   "metadata": {},
   "outputs": [],
   "source": []
  }
 ],
 "metadata": {
  "kernelspec": {
   "display_name": "Python 3.11.9 ('base')",
   "language": "python",
   "name": "python3"
  },
  "language_info": {
   "codemirror_mode": {
    "name": "ipython",
    "version": 3
   },
   "file_extension": ".py",
   "mimetype": "text/x-python",
   "name": "python",
   "nbconvert_exporter": "python",
   "pygments_lexer": "ipython3",
   "version": "3.11.9"
  },
  "orig_nbformat": 4,
  "vscode": {
   "interpreter": {
    "hash": "cd78fef2128015050713e82ca51c6520b11aee7c9ee8df750520bbbc7384cbaa"
   }
  }
 },
 "nbformat": 4,
 "nbformat_minor": 2
}
