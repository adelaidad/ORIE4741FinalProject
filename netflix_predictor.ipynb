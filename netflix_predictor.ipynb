{
 "cells": [
  {
   "cell_type": "markdown",
   "metadata": {},
   "source": [
    "# ORIE 4741 Project\n",
    "### Netflix Success Predictor"
   ]
  },
  {
   "cell_type": "code",
   "execution_count": 43,
   "metadata": {},
   "outputs": [],
   "source": [
    "import numpy as np\n",
    "import pandas as pd\n",
    "import matplotlib.pyplot as plt\n",
    "import seaborn as sns\n",
    "from sklearn.preprocessing import PolynomialFeatures\n",
    "from sklearn.linear_model import SGDClassifier, LogisticRegression\n",
    "from sklearn.metrics import RocCurveDisplay, recall_score, precision_score, roc_curve, roc_auc_score, balanced_accuracy_score\n",
    "import matplotlib.pyplot as plt\n",
    "import matplotlib as mpl"
   ]
  },
  {
   "cell_type": "code",
   "execution_count": 44,
   "metadata": {},
   "outputs": [],
   "source": [
    "netflix=pd.read_csv('datasets/netflix.csv')"
   ]
  },
  {
   "cell_type": "code",
   "execution_count": 45,
   "metadata": {},
   "outputs": [
    {
     "data": {
      "text/html": [
       "<div>\n",
       "<style scoped>\n",
       "    .dataframe tbody tr th:only-of-type {\n",
       "        vertical-align: middle;\n",
       "    }\n",
       "\n",
       "    .dataframe tbody tr th {\n",
       "        vertical-align: top;\n",
       "    }\n",
       "\n",
       "    .dataframe thead th {\n",
       "        text-align: right;\n",
       "    }\n",
       "</style>\n",
       "<table border=\"1\" class=\"dataframe\">\n",
       "  <thead>\n",
       "    <tr style=\"text-align: right;\">\n",
       "      <th></th>\n",
       "      <th>show_title</th>\n",
       "      <th>type</th>\n",
       "      <th>weekly_hours_viewed</th>\n",
       "      <th>weekly_views</th>\n",
       "      <th>cumulative_weeks_in_top_10</th>\n",
       "      <th>runtime</th>\n",
       "      <th>number_of_seasons</th>\n",
       "      <th>language</th>\n",
       "      <th>is_staggered_launch</th>\n",
       "      <th>available_globally</th>\n",
       "      <th>release_date</th>\n",
       "      <th>genre</th>\n",
       "      <th>main_production</th>\n",
       "      <th>week</th>\n",
       "    </tr>\n",
       "  </thead>\n",
       "  <tbody>\n",
       "    <tr>\n",
       "      <th>0</th>\n",
       "      <td>'83</td>\n",
       "      <td>Films</td>\n",
       "      <td>6825000.0</td>\n",
       "      <td>NaN</td>\n",
       "      <td>2</td>\n",
       "      <td>NaN</td>\n",
       "      <td>NaN</td>\n",
       "      <td>Non-English</td>\n",
       "      <td>False</td>\n",
       "      <td>No</td>\n",
       "      <td>NaN</td>\n",
       "      <td>NaN</td>\n",
       "      <td>NaN</td>\n",
       "      <td>2022-04-03</td>\n",
       "    </tr>\n",
       "    <tr>\n",
       "      <th>1</th>\n",
       "      <td>10 Days of a Bad Man</td>\n",
       "      <td>Films</td>\n",
       "      <td>6900000.0</td>\n",
       "      <td>3300000.0</td>\n",
       "      <td>2</td>\n",
       "      <td>2.0667</td>\n",
       "      <td>NaN</td>\n",
       "      <td>Non-English</td>\n",
       "      <td>False</td>\n",
       "      <td>NaN</td>\n",
       "      <td>NaN</td>\n",
       "      <td>NaN</td>\n",
       "      <td>NaN</td>\n",
       "      <td>2023-08-27</td>\n",
       "    </tr>\n",
       "    <tr>\n",
       "      <th>2</th>\n",
       "      <td>10 Days of a Good Man</td>\n",
       "      <td>Films</td>\n",
       "      <td>7415000.0</td>\n",
       "      <td>NaN</td>\n",
       "      <td>2</td>\n",
       "      <td>NaN</td>\n",
       "      <td>NaN</td>\n",
       "      <td>Non-English</td>\n",
       "      <td>False</td>\n",
       "      <td>NaN</td>\n",
       "      <td>NaN</td>\n",
       "      <td>NaN</td>\n",
       "      <td>NaN</td>\n",
       "      <td>2023-03-12</td>\n",
       "    </tr>\n",
       "    <tr>\n",
       "      <th>3</th>\n",
       "      <td>1000 Miles from Christmas</td>\n",
       "      <td>Films</td>\n",
       "      <td>6795000.0</td>\n",
       "      <td>NaN</td>\n",
       "      <td>2</td>\n",
       "      <td>NaN</td>\n",
       "      <td>NaN</td>\n",
       "      <td>Non-English</td>\n",
       "      <td>False</td>\n",
       "      <td>NaN</td>\n",
       "      <td>NaN</td>\n",
       "      <td>NaN</td>\n",
       "      <td>NaN</td>\n",
       "      <td>2022-01-02</td>\n",
       "    </tr>\n",
       "    <tr>\n",
       "      <th>4</th>\n",
       "      <td>12 Strong</td>\n",
       "      <td>Films</td>\n",
       "      <td>8210000.0</td>\n",
       "      <td>NaN</td>\n",
       "      <td>2</td>\n",
       "      <td>NaN</td>\n",
       "      <td>NaN</td>\n",
       "      <td>English</td>\n",
       "      <td>False</td>\n",
       "      <td>No</td>\n",
       "      <td>NaN</td>\n",
       "      <td>NaN</td>\n",
       "      <td>NaN</td>\n",
       "      <td>2022-07-24</td>\n",
       "    </tr>\n",
       "  </tbody>\n",
       "</table>\n",
       "</div>"
      ],
      "text/plain": [
       "                  show_title   type  weekly_hours_viewed  weekly_views  \\\n",
       "0                        '83  Films            6825000.0           NaN   \n",
       "1       10 Days of a Bad Man  Films            6900000.0     3300000.0   \n",
       "2      10 Days of a Good Man  Films            7415000.0           NaN   \n",
       "3  1000 Miles from Christmas  Films            6795000.0           NaN   \n",
       "4                  12 Strong  Films            8210000.0           NaN   \n",
       "\n",
       "   cumulative_weeks_in_top_10  runtime  number_of_seasons     language  \\\n",
       "0                           2      NaN                NaN  Non-English   \n",
       "1                           2   2.0667                NaN  Non-English   \n",
       "2                           2      NaN                NaN  Non-English   \n",
       "3                           2      NaN                NaN  Non-English   \n",
       "4                           2      NaN                NaN      English   \n",
       "\n",
       "   is_staggered_launch available_globally release_date  genre main_production  \\\n",
       "0                False                 No          NaN    NaN             NaN   \n",
       "1                False                NaN          NaN    NaN             NaN   \n",
       "2                False                NaN          NaN    NaN             NaN   \n",
       "3                False                NaN          NaN    NaN             NaN   \n",
       "4                False                 No          NaN    NaN             NaN   \n",
       "\n",
       "         week  \n",
       "0  2022-04-03  \n",
       "1  2023-08-27  \n",
       "2  2023-03-12  \n",
       "3  2022-01-02  \n",
       "4  2022-07-24  "
      ]
     },
     "execution_count": 45,
     "metadata": {},
     "output_type": "execute_result"
    }
   ],
   "source": [
    "netflix.head()"
   ]
  },
  {
   "cell_type": "markdown",
   "metadata": {},
   "source": [
    "## Feature Engineering\n",
    "Before we create a model in order to understand the features of importance for Netflix streaming content success and use it to predict how many views a show/film gets, we need to inspect the data and utilize feature engineering tools. \n",
    "\n",
    "#### Dealing with simple NaN values: "
   ]
  },
  {
   "cell_type": "code",
   "execution_count": 46,
   "metadata": {},
   "outputs": [
    {
     "name": "stdout",
     "output_type": "stream",
     "text": [
      "Out of 1865 total points, if we drop all with missing data, we'll have 0 points (or 0.0   of the original dataset)\n"
     ]
    }
   ],
   "source": [
    "def size_if_na_dropped(df):\n",
    "  print(f\"Out of {df.shape[0]} total points, if we drop all with missing data, \\\n",
    "we'll have {df.dropna().shape[0]} points (or {df.dropna().shape[0]/df.shape[0]} \\\n",
    "  of the original dataset)\")\n",
    "\n",
    "size_if_na_dropped(netflix)"
   ]
  },
  {
   "cell_type": "code",
   "execution_count": 47,
   "metadata": {},
   "outputs": [
    {
     "data": {
      "image/png": "[encoded data removed]",
      "text/plain": [
       "<Figure size 864x576 with 1 Axes>"
      ]
     },
     "metadata": {},
     "output_type": "display_data"
    }
   ],
   "source": [
    "def plot_na(df):\n",
    "  sns.set_style('whitegrid')\n",
    "  plt.figure(figsize=(12,8))\n",
    "  missing_vals = df.isna().sum()/df.shape[0]\n",
    "  missing_vals = missing_vals.sort_values(ascending=False)[0:10]\n",
    "  ax = missing_vals.plot(kind='bar')\n",
    "\n",
    "  ax.set_title('Measuring Rows with the Most Missing Data')\n",
    "  ax.set_ylabel('Proportion')\n",
    "  ax.set_xlabel('Feature')\n",
    "  ax.tick_params(axis='x', rotation=45)\n",
    "\n",
    "plot_na(netflix)"
   ]
  },
  {
   "cell_type": "code",
   "execution_count": 48,
   "metadata": {},
   "outputs": [
    {
     "name": "stdout",
     "output_type": "stream",
     "text": [
      "Out of 1865 total points, if we drop all with missing data, we'll have 0 points (or 0.0   of the original dataset)\n"
     ]
    },
    {
     "data": {
      "image/png": "[encoded data removed]",
      "text/plain": [
       "<Figure size 864x576 with 1 Axes>"
      ]
     },
     "metadata": {},
     "output_type": "display_data"
    }
   ],
   "source": [
    "#The NaN values of number_of_seasons occur b/c they are films not shows, impute with 0\n",
    "netflix['number_of_seasons'] = netflix['number_of_seasons'].fillna(0)\n",
    "plot_na(netflix)\n",
    "size_if_na_dropped(netflix)"
   ]
  },
  {
   "cell_type": "markdown",
   "metadata": {},
   "source": [
    "#### Dealing with Categorical Values\n",
    "There are a few categorical features in our data. To deal with them we will do the following\n",
    "- One hot encoding the binary values: Language, Type, Available Globally\n",
    "- Multi-hot encoding genre list"
   ]
  },
  {
   "cell_type": "code",
   "execution_count": 49,
   "metadata": {},
   "outputs": [
    {
     "data": {
      "text/html": [
       "<div>\n",
       "<style scoped>\n",
       "    .dataframe tbody tr th:only-of-type {\n",
       "        vertical-align: middle;\n",
       "    }\n",
       "\n",
       "    .dataframe tbody tr th {\n",
       "        vertical-align: top;\n",
       "    }\n",
       "\n",
       "    .dataframe thead th {\n",
       "        text-align: right;\n",
       "    }\n",
       "</style>\n",
       "<table border=\"1\" class=\"dataframe\">\n",
       "  <thead>\n",
       "    <tr style=\"text-align: right;\">\n",
       "      <th></th>\n",
       "      <th>show_title</th>\n",
       "      <th>weekly_hours_viewed</th>\n",
       "      <th>weekly_views</th>\n",
       "      <th>cumulative_weeks_in_top_10</th>\n",
       "      <th>runtime</th>\n",
       "      <th>number_of_seasons</th>\n",
       "      <th>release_date</th>\n",
       "      <th>genre</th>\n",
       "      <th>main_production</th>\n",
       "      <th>week</th>\n",
       "      <th>is_staggered_launch</th>\n",
       "      <th>language_English</th>\n",
       "      <th>language_Non-English</th>\n",
       "      <th>type_Films</th>\n",
       "      <th>type_TV</th>\n",
       "      <th>available_globally_No</th>\n",
       "      <th>available_globally_Yes</th>\n",
       "    </tr>\n",
       "  </thead>\n",
       "  <tbody>\n",
       "    <tr>\n",
       "      <th>0</th>\n",
       "      <td>'83</td>\n",
       "      <td>6.825000e+06</td>\n",
       "      <td>NaN</td>\n",
       "      <td>2</td>\n",
       "      <td>NaN</td>\n",
       "      <td>0.0</td>\n",
       "      <td>NaN</td>\n",
       "      <td>NaN</td>\n",
       "      <td>NaN</td>\n",
       "      <td>2022-04-03</td>\n",
       "      <td>False</td>\n",
       "      <td>0</td>\n",
       "      <td>1</td>\n",
       "      <td>1</td>\n",
       "      <td>0</td>\n",
       "      <td>1</td>\n",
       "      <td>0</td>\n",
       "    </tr>\n",
       "    <tr>\n",
       "      <th>1</th>\n",
       "      <td>10 Days of a Bad Man</td>\n",
       "      <td>6.900000e+06</td>\n",
       "      <td>3300000.0</td>\n",
       "      <td>2</td>\n",
       "      <td>2.0667</td>\n",
       "      <td>0.0</td>\n",
       "      <td>NaN</td>\n",
       "      <td>NaN</td>\n",
       "      <td>NaN</td>\n",
       "      <td>2023-08-27</td>\n",
       "      <td>False</td>\n",
       "      <td>0</td>\n",
       "      <td>1</td>\n",
       "      <td>1</td>\n",
       "      <td>0</td>\n",
       "      <td>0</td>\n",
       "      <td>0</td>\n",
       "    </tr>\n",
       "    <tr>\n",
       "      <th>2</th>\n",
       "      <td>10 Days of a Good Man</td>\n",
       "      <td>7.415000e+06</td>\n",
       "      <td>NaN</td>\n",
       "      <td>2</td>\n",
       "      <td>NaN</td>\n",
       "      <td>0.0</td>\n",
       "      <td>NaN</td>\n",
       "      <td>NaN</td>\n",
       "      <td>NaN</td>\n",
       "      <td>2023-03-12</td>\n",
       "      <td>False</td>\n",
       "      <td>0</td>\n",
       "      <td>1</td>\n",
       "      <td>1</td>\n",
       "      <td>0</td>\n",
       "      <td>0</td>\n",
       "      <td>0</td>\n",
       "    </tr>\n",
       "    <tr>\n",
       "      <th>3</th>\n",
       "      <td>1000 Miles from Christmas</td>\n",
       "      <td>6.795000e+06</td>\n",
       "      <td>NaN</td>\n",
       "      <td>2</td>\n",
       "      <td>NaN</td>\n",
       "      <td>0.0</td>\n",
       "      <td>NaN</td>\n",
       "      <td>NaN</td>\n",
       "      <td>NaN</td>\n",
       "      <td>2022-01-02</td>\n",
       "      <td>False</td>\n",
       "      <td>0</td>\n",
       "      <td>1</td>\n",
       "      <td>1</td>\n",
       "      <td>0</td>\n",
       "      <td>0</td>\n",
       "      <td>0</td>\n",
       "    </tr>\n",
       "    <tr>\n",
       "      <th>4</th>\n",
       "      <td>12 Strong</td>\n",
       "      <td>8.210000e+06</td>\n",
       "      <td>NaN</td>\n",
       "      <td>2</td>\n",
       "      <td>NaN</td>\n",
       "      <td>0.0</td>\n",
       "      <td>NaN</td>\n",
       "      <td>NaN</td>\n",
       "      <td>NaN</td>\n",
       "      <td>2022-07-24</td>\n",
       "      <td>False</td>\n",
       "      <td>1</td>\n",
       "      <td>0</td>\n",
       "      <td>1</td>\n",
       "      <td>0</td>\n",
       "      <td>1</td>\n",
       "      <td>0</td>\n",
       "    </tr>\n",
       "    <tr>\n",
       "      <th>...</th>\n",
       "      <td>...</td>\n",
       "      <td>...</td>\n",
       "      <td>...</td>\n",
       "      <td>...</td>\n",
       "      <td>...</td>\n",
       "      <td>...</td>\n",
       "      <td>...</td>\n",
       "      <td>...</td>\n",
       "      <td>...</td>\n",
       "      <td>...</td>\n",
       "      <td>...</td>\n",
       "      <td>...</td>\n",
       "      <td>...</td>\n",
       "      <td>...</td>\n",
       "      <td>...</td>\n",
       "      <td>...</td>\n",
       "      <td>...</td>\n",
       "    </tr>\n",
       "    <tr>\n",
       "      <th>1860</th>\n",
       "      <td>maboroshi</td>\n",
       "      <td>2.400000e+06</td>\n",
       "      <td>1300000.0</td>\n",
       "      <td>1</td>\n",
       "      <td>1.8500</td>\n",
       "      <td>0.0</td>\n",
       "      <td>NaN</td>\n",
       "      <td>NaN</td>\n",
       "      <td>NaN</td>\n",
       "      <td>2024-01-21</td>\n",
       "      <td>False</td>\n",
       "      <td>0</td>\n",
       "      <td>1</td>\n",
       "      <td>1</td>\n",
       "      <td>0</td>\n",
       "      <td>0</td>\n",
       "      <td>0</td>\n",
       "    </tr>\n",
       "    <tr>\n",
       "      <th>1861</th>\n",
       "      <td>¡Que viva México!</td>\n",
       "      <td>1.249250e+07</td>\n",
       "      <td>NaN</td>\n",
       "      <td>4</td>\n",
       "      <td>NaN</td>\n",
       "      <td>0.0</td>\n",
       "      <td>2023-05-11</td>\n",
       "      <td>NaN</td>\n",
       "      <td>NaN</td>\n",
       "      <td>2023-06-04</td>\n",
       "      <td>False</td>\n",
       "      <td>0</td>\n",
       "      <td>1</td>\n",
       "      <td>1</td>\n",
       "      <td>0</td>\n",
       "      <td>0</td>\n",
       "      <td>1</td>\n",
       "    </tr>\n",
       "    <tr>\n",
       "      <th>1862</th>\n",
       "      <td>Ìjọ̀gbọ̀n</td>\n",
       "      <td>4.950000e+06</td>\n",
       "      <td>2550000.0</td>\n",
       "      <td>2</td>\n",
       "      <td>1.9333</td>\n",
       "      <td>0.0</td>\n",
       "      <td>NaN</td>\n",
       "      <td>NaN</td>\n",
       "      <td>NaN</td>\n",
       "      <td>2023-10-22</td>\n",
       "      <td>False</td>\n",
       "      <td>0</td>\n",
       "      <td>1</td>\n",
       "      <td>1</td>\n",
       "      <td>0</td>\n",
       "      <td>0</td>\n",
       "      <td>0</td>\n",
       "    </tr>\n",
       "    <tr>\n",
       "      <th>1863</th>\n",
       "      <td>أصحاب ...ولا أعزّ</td>\n",
       "      <td>2.910000e+06</td>\n",
       "      <td>NaN</td>\n",
       "      <td>3</td>\n",
       "      <td>NaN</td>\n",
       "      <td>0.0</td>\n",
       "      <td>2022-01-20</td>\n",
       "      <td>NaN</td>\n",
       "      <td>NaN</td>\n",
       "      <td>2022-02-06</td>\n",
       "      <td>False</td>\n",
       "      <td>0</td>\n",
       "      <td>1</td>\n",
       "      <td>1</td>\n",
       "      <td>0</td>\n",
       "      <td>1</td>\n",
       "      <td>0</td>\n",
       "    </tr>\n",
       "    <tr>\n",
       "      <th>1864</th>\n",
       "      <td>비상선언</td>\n",
       "      <td>5.463333e+06</td>\n",
       "      <td>NaN</td>\n",
       "      <td>3</td>\n",
       "      <td>NaN</td>\n",
       "      <td>0.0</td>\n",
       "      <td>NaN</td>\n",
       "      <td>NaN</td>\n",
       "      <td>NaN</td>\n",
       "      <td>2023-04-16</td>\n",
       "      <td>False</td>\n",
       "      <td>0</td>\n",
       "      <td>1</td>\n",
       "      <td>1</td>\n",
       "      <td>0</td>\n",
       "      <td>1</td>\n",
       "      <td>0</td>\n",
       "    </tr>\n",
       "  </tbody>\n",
       "</table>\n",
       "<p>1865 rows × 17 columns</p>\n",
       "</div>"
      ],
      "text/plain": [
       "                     show_title  weekly_hours_viewed  weekly_views  \\\n",
       "0                           '83         6.825000e+06           NaN   \n",
       "1          10 Days of a Bad Man         6.900000e+06     3300000.0   \n",
       "2         10 Days of a Good Man         7.415000e+06           NaN   \n",
       "3     1000 Miles from Christmas         6.795000e+06           NaN   \n",
       "4                     12 Strong         8.210000e+06           NaN   \n",
       "...                         ...                  ...           ...   \n",
       "1860                  maboroshi         2.400000e+06     1300000.0   \n",
       "1861          ¡Que viva México!         1.249250e+07           NaN   \n",
       "1862                  Ìjọ̀gbọ̀n         4.950000e+06     2550000.0   \n",
       "1863          أصحاب ...ولا أعزّ         2.910000e+06           NaN   \n",
       "1864                       비상선언         5.463333e+06           NaN   \n",
       "\n",
       "      cumulative_weeks_in_top_10  runtime  number_of_seasons release_date  \\\n",
       "0                              2      NaN                0.0          NaN   \n",
       "1                              2   2.0667                0.0          NaN   \n",
       "2                              2      NaN                0.0          NaN   \n",
       "3                              2      NaN                0.0          NaN   \n",
       "4                              2      NaN                0.0          NaN   \n",
       "...                          ...      ...                ...          ...   \n",
       "1860                           1   1.8500                0.0          NaN   \n",
       "1861                           4      NaN                0.0   2023-05-11   \n",
       "1862                           2   1.9333                0.0          NaN   \n",
       "1863                           3      NaN                0.0   2022-01-20   \n",
       "1864                           3      NaN                0.0          NaN   \n",
       "\n",
       "      genre main_production        week  is_staggered_launch  \\\n",
       "0       NaN             NaN  2022-04-03                False   \n",
       "1       NaN             NaN  2023-08-27                False   \n",
       "2       NaN             NaN  2023-03-12                False   \n",
       "3       NaN             NaN  2022-01-02                False   \n",
       "4       NaN             NaN  2022-07-24                False   \n",
       "...     ...             ...         ...                  ...   \n",
       "1860    NaN             NaN  2024-01-21                False   \n",
       "1861    NaN             NaN  2023-06-04                False   \n",
       "1862    NaN             NaN  2023-10-22                False   \n",
       "1863    NaN             NaN  2022-02-06                False   \n",
       "1864    NaN             NaN  2023-04-16                False   \n",
       "\n",
       "      language_English  language_Non-English  type_Films  type_TV  \\\n",
       "0                    0                     1           1        0   \n",
       "1                    0                     1           1        0   \n",
       "2                    0                     1           1        0   \n",
       "3                    0                     1           1        0   \n",
       "4                    1                     0           1        0   \n",
       "...                ...                   ...         ...      ...   \n",
       "1860                 0                     1           1        0   \n",
       "1861                 0                     1           1        0   \n",
       "1862                 0                     1           1        0   \n",
       "1863                 0                     1           1        0   \n",
       "1864                 0                     1           1        0   \n",
       "\n",
       "      available_globally_No  available_globally_Yes  \n",
       "0                         1                       0  \n",
       "1                         0                       0  \n",
       "2                         0                       0  \n",
       "3                         0                       0  \n",
       "4                         1                       0  \n",
       "...                     ...                     ...  \n",
       "1860                      0                       0  \n",
       "1861                      0                       1  \n",
       "1862                      0                       0  \n",
       "1863                      1                       0  \n",
       "1864                      1                       0  \n",
       "\n",
       "[1865 rows x 17 columns]"
      ]
     },
     "execution_count": 49,
     "metadata": {},
     "output_type": "execute_result"
    }
   ],
   "source": [
    "encoded_df= pd.get_dummies(netflix[['language','type','is_staggered_launch','available_globally' ]])\n",
    "netflix = pd.concat([netflix.drop(columns=['language','type','is_staggered_launch','available_globally' ]), encoded_df], axis=1)\n",
    "netflix"
   ]
  },
  {
   "cell_type": "markdown",
   "metadata": {},
   "source": [
    "#### Dealing with Missing Data\n"
   ]
  },
  {
   "cell_type": "code",
   "execution_count": 50,
   "metadata": {},
   "outputs": [],
   "source": [
    "from numpy.linalg import svd"
   ]
  },
  {
   "cell_type": "code",
   "execution_count": 51,
   "metadata": {},
   "outputs": [],
   "source": [
    "netflix_fill=netflix.copy()"
   ]
  },
  {
   "cell_type": "code",
   "execution_count": 52,
   "metadata": {},
   "outputs": [],
   "source": [
    "#Imputing runtime values based on content type\n",
    "meanfilm=netflix[netflix['type_Films']==1]['runtime'].mean()\n",
    "netflix_fill.loc[netflix_fill['type_Films'] == 1, 'runtime'] = netflix.loc[netflix['type_Films'] == 1, 'runtime'].fillna(meanfilm)\n",
    "meantv=netflix[netflix['type_Films']==0]['runtime'].mean()\n",
    "netflix_fill.loc[netflix_fill['type_Films'] == 0, 'runtime'] = netflix.loc[netflix['type_Films'] == 0, 'runtime'].fillna(meantv)\n",
    "\n",
    "#Imputing availably globally\n",
    "netflix_fill['available_globally_Yes'] = netflix_fill.apply(lambda row: True if row['language_Non-English'] == True else row['available_globally_Yes'], axis=1)"
   ]
  },
  {
   "cell_type": "code",
   "execution_count": 53,
   "metadata": {},
   "outputs": [],
   "source": [
    "netflix_np=netflix_fill[['weekly_views',\n",
    "       'cumulative_weeks_in_top_10', 'runtime', 'number_of_seasons',\n",
    "       'is_staggered_launch', 'language_English', 'language_Non-English',\n",
    "       'type_Films', 'type_TV', 'available_globally_No',\n",
    "       'available_globally_Yes']].to_numpy()\n",
    "netflix_np=netflix_np.astype(float)"
   ]
  },
  {
   "cell_type": "code",
   "execution_count": 54,
   "metadata": {},
   "outputs": [],
   "source": [
    "column_means = np.nanmean(netflix_np, axis=0)\n",
    "nan_indices = np.isnan(netflix_np)\n",
    "netflix_np[nan_indices] = np.take(column_means, np.where(nan_indices)[1])"
   ]
  },
  {
   "cell_type": "code",
   "execution_count": 55,
   "metadata": {},
   "outputs": [],
   "source": [
    "netflix_copy = netflix[['weekly_views',\n",
    "       'cumulative_weeks_in_top_10', 'runtime', 'number_of_seasons',\n",
    "       'is_staggered_launch', 'language_English', 'language_Non-English',\n",
    "       'type_Films', 'type_TV', 'available_globally_No',\n",
    "       'available_globally_Yes']].to_numpy()\n",
    "netflix_copy=netflix_copy.astype(float)\n",
    "netflix_copy2=netflix_copy.copy()"
   ]
  },
  {
   "cell_type": "code",
   "execution_count": 56,
   "metadata": {},
   "outputs": [],
   "source": [
    "#Normalize ** DONT KNOW \n",
    "normalized_matrix = (netflix_np - np.mean(netflix_np, axis=0)) / np.std(netflix_np, axis=0)\n",
    "U, S, VT = svd(normalized_matrix)\n",
    "\n",
    "rank = 5\n",
    "U_ranked = U[:, :rank]\n",
    "S_ranked = np.diag(S[:rank])\n",
    "VT_ranked = VT[:rank, :]\n",
    "reconstructed_matrix = U_ranked.dot(S_ranked).dot(VT_ranked)\n",
    "\n",
    "denormalized_matrix = (reconstructed_matrix * np.std(netflix_np, axis=0)) + np.mean(netflix_np, axis=0)\n",
    "\n",
    "missing_indices = np.isnan(netflix_copy)\n",
    "netflix_copy[missing_indices] = denormalized_matrix[missing_indices]\n",
    "\n"
   ]
  },
  {
   "cell_type": "code",
   "execution_count": 57,
   "metadata": {},
   "outputs": [
    {
     "data": {
      "text/html": [
       "<div>\n",
       "<style scoped>\n",
       "    .dataframe tbody tr th:only-of-type {\n",
       "        vertical-align: middle;\n",
       "    }\n",
       "\n",
       "    .dataframe tbody tr th {\n",
       "        vertical-align: top;\n",
       "    }\n",
       "\n",
       "    .dataframe thead th {\n",
       "        text-align: right;\n",
       "    }\n",
       "</style>\n",
       "<table border=\"1\" class=\"dataframe\">\n",
       "  <thead>\n",
       "    <tr style=\"text-align: right;\">\n",
       "      <th></th>\n",
       "      <th>weekly_views</th>\n",
       "      <th>cumulative_weeks_in_top_10</th>\n",
       "      <th>runtime</th>\n",
       "      <th>number_of_seasons</th>\n",
       "      <th>is_staggered_launch</th>\n",
       "      <th>language_English</th>\n",
       "      <th>language_Non-English</th>\n",
       "      <th>type_Films</th>\n",
       "      <th>type_TV</th>\n",
       "      <th>available_globally_No</th>\n",
       "      <th>available_globally_Yes</th>\n",
       "      <th>weekly_hours_viewed</th>\n",
       "    </tr>\n",
       "  </thead>\n",
       "  <tbody>\n",
       "    <tr>\n",
       "      <th>0</th>\n",
       "      <td>2.530794e+06</td>\n",
       "      <td>2.0</td>\n",
       "      <td>1.465588</td>\n",
       "      <td>0.0</td>\n",
       "      <td>0.0</td>\n",
       "      <td>0.0</td>\n",
       "      <td>1.0</td>\n",
       "      <td>1.0</td>\n",
       "      <td>0.0</td>\n",
       "      <td>1.0</td>\n",
       "      <td>0.0</td>\n",
       "      <td>6825000.0</td>\n",
       "    </tr>\n",
       "    <tr>\n",
       "      <th>1</th>\n",
       "      <td>3.300000e+06</td>\n",
       "      <td>2.0</td>\n",
       "      <td>2.066700</td>\n",
       "      <td>0.0</td>\n",
       "      <td>0.0</td>\n",
       "      <td>0.0</td>\n",
       "      <td>1.0</td>\n",
       "      <td>1.0</td>\n",
       "      <td>0.0</td>\n",
       "      <td>0.0</td>\n",
       "      <td>0.0</td>\n",
       "      <td>6900000.0</td>\n",
       "    </tr>\n",
       "    <tr>\n",
       "      <th>2</th>\n",
       "      <td>3.670209e+06</td>\n",
       "      <td>2.0</td>\n",
       "      <td>1.835480</td>\n",
       "      <td>0.0</td>\n",
       "      <td>0.0</td>\n",
       "      <td>0.0</td>\n",
       "      <td>1.0</td>\n",
       "      <td>1.0</td>\n",
       "      <td>0.0</td>\n",
       "      <td>0.0</td>\n",
       "      <td>0.0</td>\n",
       "      <td>7415000.0</td>\n",
       "    </tr>\n",
       "    <tr>\n",
       "      <th>3</th>\n",
       "      <td>3.670209e+06</td>\n",
       "      <td>2.0</td>\n",
       "      <td>1.835480</td>\n",
       "      <td>0.0</td>\n",
       "      <td>0.0</td>\n",
       "      <td>0.0</td>\n",
       "      <td>1.0</td>\n",
       "      <td>1.0</td>\n",
       "      <td>0.0</td>\n",
       "      <td>0.0</td>\n",
       "      <td>0.0</td>\n",
       "      <td>6795000.0</td>\n",
       "    </tr>\n",
       "    <tr>\n",
       "      <th>4</th>\n",
       "      <td>3.629453e+06</td>\n",
       "      <td>2.0</td>\n",
       "      <td>1.428049</td>\n",
       "      <td>0.0</td>\n",
       "      <td>0.0</td>\n",
       "      <td>1.0</td>\n",
       "      <td>0.0</td>\n",
       "      <td>1.0</td>\n",
       "      <td>0.0</td>\n",
       "      <td>1.0</td>\n",
       "      <td>0.0</td>\n",
       "      <td>8210000.0</td>\n",
       "    </tr>\n",
       "  </tbody>\n",
       "</table>\n",
       "</div>"
      ],
      "text/plain": [
       "   weekly_views  cumulative_weeks_in_top_10   runtime  number_of_seasons  \\\n",
       "0  2.530794e+06                         2.0  1.465588                0.0   \n",
       "1  3.300000e+06                         2.0  2.066700                0.0   \n",
       "2  3.670209e+06                         2.0  1.835480                0.0   \n",
       "3  3.670209e+06                         2.0  1.835480                0.0   \n",
       "4  3.629453e+06                         2.0  1.428049                0.0   \n",
       "\n",
       "   is_staggered_launch  language_English  language_Non-English  type_Films  \\\n",
       "0                  0.0               0.0                   1.0         1.0   \n",
       "1                  0.0               0.0                   1.0         1.0   \n",
       "2                  0.0               0.0                   1.0         1.0   \n",
       "3                  0.0               0.0                   1.0         1.0   \n",
       "4                  0.0               1.0                   0.0         1.0   \n",
       "\n",
       "   type_TV  available_globally_No  available_globally_Yes  weekly_hours_viewed  \n",
       "0      0.0                    1.0                     0.0            6825000.0  \n",
       "1      0.0                    0.0                     0.0            6900000.0  \n",
       "2      0.0                    0.0                     0.0            7415000.0  \n",
       "3      0.0                    0.0                     0.0            6795000.0  \n",
       "4      0.0                    1.0                     0.0            8210000.0  "
      ]
     },
     "execution_count": 57,
     "metadata": {},
     "output_type": "execute_result"
    }
   ],
   "source": [
    "netflix_complete = pd.DataFrame(netflix_copy, columns=['weekly_views',\n",
    "                                                  'cumulative_weeks_in_top_10', 'runtime', \n",
    "                                                  'number_of_seasons', 'is_staggered_launch', \n",
    "                                                  'language_English', 'language_Non-English', \n",
    "                                                  'type_Films', 'type_TV', \n",
    "                                                  'available_globally_No', 'available_globally_Yes'])\n",
    "netflix_complete['weekly_hours_viewed']=netflix['weekly_hours_viewed']\n",
    "netflix_complete.head()"
   ]
  },
  {
   "cell_type": "code",
   "execution_count": 58,
   "metadata": {},
   "outputs": [],
   "source": [
    "#double check this but i dropped these columns because they are one hot encoded so we shouldn't need both\n",
    "netflix_complete=netflix_complete.drop(columns=['language_Non-English', 'type_TV', 'available_globally_Yes'])"
   ]
  },
  {
   "cell_type": "code",
   "execution_count": 59,
   "metadata": {},
   "outputs": [],
   "source": [
    "netflix=netflix_complete.copy()"
   ]
  },
  {
   "cell_type": "code",
   "execution_count": 60,
   "metadata": {},
   "outputs": [
    {
     "data": {
      "text/html": [
       "<div>\n",
       "<style scoped>\n",
       "    .dataframe tbody tr th:only-of-type {\n",
       "        vertical-align: middle;\n",
       "    }\n",
       "\n",
       "    .dataframe tbody tr th {\n",
       "        vertical-align: top;\n",
       "    }\n",
       "\n",
       "    .dataframe thead th {\n",
       "        text-align: right;\n",
       "    }\n",
       "</style>\n",
       "<table border=\"1\" class=\"dataframe\">\n",
       "  <thead>\n",
       "    <tr style=\"text-align: right;\">\n",
       "      <th></th>\n",
       "      <th>weekly_views</th>\n",
       "      <th>cumulative_weeks_in_top_10</th>\n",
       "      <th>runtime</th>\n",
       "      <th>number_of_seasons</th>\n",
       "      <th>is_staggered_launch</th>\n",
       "      <th>language_English</th>\n",
       "      <th>type_Films</th>\n",
       "      <th>available_globally_No</th>\n",
       "      <th>weekly_hours_viewed</th>\n",
       "    </tr>\n",
       "  </thead>\n",
       "  <tbody>\n",
       "    <tr>\n",
       "      <th>0</th>\n",
       "      <td>2.530794e+06</td>\n",
       "      <td>2.0</td>\n",
       "      <td>1.465588</td>\n",
       "      <td>0.0</td>\n",
       "      <td>0.0</td>\n",
       "      <td>0.0</td>\n",
       "      <td>1.0</td>\n",
       "      <td>1.0</td>\n",
       "      <td>6.825000e+06</td>\n",
       "    </tr>\n",
       "    <tr>\n",
       "      <th>1</th>\n",
       "      <td>3.300000e+06</td>\n",
       "      <td>2.0</td>\n",
       "      <td>2.066700</td>\n",
       "      <td>0.0</td>\n",
       "      <td>0.0</td>\n",
       "      <td>0.0</td>\n",
       "      <td>1.0</td>\n",
       "      <td>0.0</td>\n",
       "      <td>6.900000e+06</td>\n",
       "    </tr>\n",
       "    <tr>\n",
       "      <th>2</th>\n",
       "      <td>3.670209e+06</td>\n",
       "      <td>2.0</td>\n",
       "      <td>1.835480</td>\n",
       "      <td>0.0</td>\n",
       "      <td>0.0</td>\n",
       "      <td>0.0</td>\n",
       "      <td>1.0</td>\n",
       "      <td>0.0</td>\n",
       "      <td>7.415000e+06</td>\n",
       "    </tr>\n",
       "    <tr>\n",
       "      <th>3</th>\n",
       "      <td>3.670209e+06</td>\n",
       "      <td>2.0</td>\n",
       "      <td>1.835480</td>\n",
       "      <td>0.0</td>\n",
       "      <td>0.0</td>\n",
       "      <td>0.0</td>\n",
       "      <td>1.0</td>\n",
       "      <td>0.0</td>\n",
       "      <td>6.795000e+06</td>\n",
       "    </tr>\n",
       "    <tr>\n",
       "      <th>4</th>\n",
       "      <td>3.629453e+06</td>\n",
       "      <td>2.0</td>\n",
       "      <td>1.428049</td>\n",
       "      <td>0.0</td>\n",
       "      <td>0.0</td>\n",
       "      <td>1.0</td>\n",
       "      <td>1.0</td>\n",
       "      <td>1.0</td>\n",
       "      <td>8.210000e+06</td>\n",
       "    </tr>\n",
       "    <tr>\n",
       "      <th>...</th>\n",
       "      <td>...</td>\n",
       "      <td>...</td>\n",
       "      <td>...</td>\n",
       "      <td>...</td>\n",
       "      <td>...</td>\n",
       "      <td>...</td>\n",
       "      <td>...</td>\n",
       "      <td>...</td>\n",
       "      <td>...</td>\n",
       "    </tr>\n",
       "    <tr>\n",
       "      <th>1860</th>\n",
       "      <td>1.300000e+06</td>\n",
       "      <td>1.0</td>\n",
       "      <td>1.850000</td>\n",
       "      <td>0.0</td>\n",
       "      <td>0.0</td>\n",
       "      <td>0.0</td>\n",
       "      <td>1.0</td>\n",
       "      <td>0.0</td>\n",
       "      <td>2.400000e+06</td>\n",
       "    </tr>\n",
       "    <tr>\n",
       "      <th>1861</th>\n",
       "      <td>4.173987e+06</td>\n",
       "      <td>4.0</td>\n",
       "      <td>1.865367</td>\n",
       "      <td>0.0</td>\n",
       "      <td>0.0</td>\n",
       "      <td>0.0</td>\n",
       "      <td>1.0</td>\n",
       "      <td>0.0</td>\n",
       "      <td>1.249250e+07</td>\n",
       "    </tr>\n",
       "    <tr>\n",
       "      <th>1862</th>\n",
       "      <td>2.550000e+06</td>\n",
       "      <td>2.0</td>\n",
       "      <td>1.933300</td>\n",
       "      <td>0.0</td>\n",
       "      <td>0.0</td>\n",
       "      <td>0.0</td>\n",
       "      <td>1.0</td>\n",
       "      <td>0.0</td>\n",
       "      <td>4.950000e+06</td>\n",
       "    </tr>\n",
       "    <tr>\n",
       "      <th>1863</th>\n",
       "      <td>2.782683e+06</td>\n",
       "      <td>3.0</td>\n",
       "      <td>1.480532</td>\n",
       "      <td>0.0</td>\n",
       "      <td>0.0</td>\n",
       "      <td>0.0</td>\n",
       "      <td>1.0</td>\n",
       "      <td>1.0</td>\n",
       "      <td>2.910000e+06</td>\n",
       "    </tr>\n",
       "    <tr>\n",
       "      <th>1864</th>\n",
       "      <td>2.782683e+06</td>\n",
       "      <td>3.0</td>\n",
       "      <td>1.480532</td>\n",
       "      <td>0.0</td>\n",
       "      <td>0.0</td>\n",
       "      <td>0.0</td>\n",
       "      <td>1.0</td>\n",
       "      <td>1.0</td>\n",
       "      <td>5.463333e+06</td>\n",
       "    </tr>\n",
       "  </tbody>\n",
       "</table>\n",
       "<p>1865 rows × 9 columns</p>\n",
       "</div>"
      ],
      "text/plain": [
       "      weekly_views  cumulative_weeks_in_top_10   runtime  number_of_seasons  \\\n",
       "0     2.530794e+06                         2.0  1.465588                0.0   \n",
       "1     3.300000e+06                         2.0  2.066700                0.0   \n",
       "2     3.670209e+06                         2.0  1.835480                0.0   \n",
       "3     3.670209e+06                         2.0  1.835480                0.0   \n",
       "4     3.629453e+06                         2.0  1.428049                0.0   \n",
       "...            ...                         ...       ...                ...   \n",
       "1860  1.300000e+06                         1.0  1.850000                0.0   \n",
       "1861  4.173987e+06                         4.0  1.865367                0.0   \n",
       "1862  2.550000e+06                         2.0  1.933300                0.0   \n",
       "1863  2.782683e+06                         3.0  1.480532                0.0   \n",
       "1864  2.782683e+06                         3.0  1.480532                0.0   \n",
       "\n",
       "      is_staggered_launch  language_English  type_Films  \\\n",
       "0                     0.0               0.0         1.0   \n",
       "1                     0.0               0.0         1.0   \n",
       "2                     0.0               0.0         1.0   \n",
       "3                     0.0               0.0         1.0   \n",
       "4                     0.0               1.0         1.0   \n",
       "...                   ...               ...         ...   \n",
       "1860                  0.0               0.0         1.0   \n",
       "1861                  0.0               0.0         1.0   \n",
       "1862                  0.0               0.0         1.0   \n",
       "1863                  0.0               0.0         1.0   \n",
       "1864                  0.0               0.0         1.0   \n",
       "\n",
       "      available_globally_No  weekly_hours_viewed  \n",
       "0                       1.0         6.825000e+06  \n",
       "1                       0.0         6.900000e+06  \n",
       "2                       0.0         7.415000e+06  \n",
       "3                       0.0         6.795000e+06  \n",
       "4                       1.0         8.210000e+06  \n",
       "...                     ...                  ...  \n",
       "1860                    0.0         2.400000e+06  \n",
       "1861                    0.0         1.249250e+07  \n",
       "1862                    0.0         4.950000e+06  \n",
       "1863                    1.0         2.910000e+06  \n",
       "1864                    1.0         5.463333e+06  \n",
       "\n",
       "[1865 rows x 9 columns]"
      ]
     },
     "execution_count": 60,
     "metadata": {},
     "output_type": "execute_result"
    }
   ],
   "source": [
    "netflix"
   ]
  },
  {
   "cell_type": "markdown",
   "metadata": {},
   "source": [
    "## Modeling\n",
    "Now that the feature engineering is completed. We will explore different models to find the best fit to predict our success variable\n",
    "We will explore\n",
    "- Linear Regression\n",
    "- Polynomial Fits\n",
    "- Regression Trees"
   ]
  },
  {
   "cell_type": "code",
   "execution_count": 61,
   "metadata": {},
   "outputs": [
    {
     "data": {
      "text/html": [
       "<div>\n",
       "<style scoped>\n",
       "    .dataframe tbody tr th:only-of-type {\n",
       "        vertical-align: middle;\n",
       "    }\n",
       "\n",
       "    .dataframe tbody tr th {\n",
       "        vertical-align: top;\n",
       "    }\n",
       "\n",
       "    .dataframe thead th {\n",
       "        text-align: right;\n",
       "    }\n",
       "</style>\n",
       "<table border=\"1\" class=\"dataframe\">\n",
       "  <thead>\n",
       "    <tr style=\"text-align: right;\">\n",
       "      <th></th>\n",
       "      <th>weekly_views</th>\n",
       "      <th>cumulative_weeks_in_top_10</th>\n",
       "      <th>runtime</th>\n",
       "      <th>number_of_seasons</th>\n",
       "      <th>is_staggered_launch</th>\n",
       "      <th>language_English</th>\n",
       "      <th>type_Films</th>\n",
       "      <th>available_globally_No</th>\n",
       "      <th>weekly_hours_viewed</th>\n",
       "    </tr>\n",
       "  </thead>\n",
       "  <tbody>\n",
       "    <tr>\n",
       "      <th>0</th>\n",
       "      <td>2.530794e+06</td>\n",
       "      <td>2.0</td>\n",
       "      <td>1.465588</td>\n",
       "      <td>0.0</td>\n",
       "      <td>0.0</td>\n",
       "      <td>0.0</td>\n",
       "      <td>1.0</td>\n",
       "      <td>1.0</td>\n",
       "      <td>6.825000e+06</td>\n",
       "    </tr>\n",
       "    <tr>\n",
       "      <th>1</th>\n",
       "      <td>3.300000e+06</td>\n",
       "      <td>2.0</td>\n",
       "      <td>2.066700</td>\n",
       "      <td>0.0</td>\n",
       "      <td>0.0</td>\n",
       "      <td>0.0</td>\n",
       "      <td>1.0</td>\n",
       "      <td>0.0</td>\n",
       "      <td>6.900000e+06</td>\n",
       "    </tr>\n",
       "    <tr>\n",
       "      <th>2</th>\n",
       "      <td>3.670209e+06</td>\n",
       "      <td>2.0</td>\n",
       "      <td>1.835480</td>\n",
       "      <td>0.0</td>\n",
       "      <td>0.0</td>\n",
       "      <td>0.0</td>\n",
       "      <td>1.0</td>\n",
       "      <td>0.0</td>\n",
       "      <td>7.415000e+06</td>\n",
       "    </tr>\n",
       "    <tr>\n",
       "      <th>3</th>\n",
       "      <td>3.670209e+06</td>\n",
       "      <td>2.0</td>\n",
       "      <td>1.835480</td>\n",
       "      <td>0.0</td>\n",
       "      <td>0.0</td>\n",
       "      <td>0.0</td>\n",
       "      <td>1.0</td>\n",
       "      <td>0.0</td>\n",
       "      <td>6.795000e+06</td>\n",
       "    </tr>\n",
       "    <tr>\n",
       "      <th>4</th>\n",
       "      <td>3.629453e+06</td>\n",
       "      <td>2.0</td>\n",
       "      <td>1.428049</td>\n",
       "      <td>0.0</td>\n",
       "      <td>0.0</td>\n",
       "      <td>1.0</td>\n",
       "      <td>1.0</td>\n",
       "      <td>1.0</td>\n",
       "      <td>8.210000e+06</td>\n",
       "    </tr>\n",
       "    <tr>\n",
       "      <th>...</th>\n",
       "      <td>...</td>\n",
       "      <td>...</td>\n",
       "      <td>...</td>\n",
       "      <td>...</td>\n",
       "      <td>...</td>\n",
       "      <td>...</td>\n",
       "      <td>...</td>\n",
       "      <td>...</td>\n",
       "      <td>...</td>\n",
       "    </tr>\n",
       "    <tr>\n",
       "      <th>1860</th>\n",
       "      <td>1.300000e+06</td>\n",
       "      <td>1.0</td>\n",
       "      <td>1.850000</td>\n",
       "      <td>0.0</td>\n",
       "      <td>0.0</td>\n",
       "      <td>0.0</td>\n",
       "      <td>1.0</td>\n",
       "      <td>0.0</td>\n",
       "      <td>2.400000e+06</td>\n",
       "    </tr>\n",
       "    <tr>\n",
       "      <th>1861</th>\n",
       "      <td>4.173987e+06</td>\n",
       "      <td>4.0</td>\n",
       "      <td>1.865367</td>\n",
       "      <td>0.0</td>\n",
       "      <td>0.0</td>\n",
       "      <td>0.0</td>\n",
       "      <td>1.0</td>\n",
       "      <td>0.0</td>\n",
       "      <td>1.249250e+07</td>\n",
       "    </tr>\n",
       "    <tr>\n",
       "      <th>1862</th>\n",
       "      <td>2.550000e+06</td>\n",
       "      <td>2.0</td>\n",
       "      <td>1.933300</td>\n",
       "      <td>0.0</td>\n",
       "      <td>0.0</td>\n",
       "      <td>0.0</td>\n",
       "      <td>1.0</td>\n",
       "      <td>0.0</td>\n",
       "      <td>4.950000e+06</td>\n",
       "    </tr>\n",
       "    <tr>\n",
       "      <th>1863</th>\n",
       "      <td>2.782683e+06</td>\n",
       "      <td>3.0</td>\n",
       "      <td>1.480532</td>\n",
       "      <td>0.0</td>\n",
       "      <td>0.0</td>\n",
       "      <td>0.0</td>\n",
       "      <td>1.0</td>\n",
       "      <td>1.0</td>\n",
       "      <td>2.910000e+06</td>\n",
       "    </tr>\n",
       "    <tr>\n",
       "      <th>1864</th>\n",
       "      <td>2.782683e+06</td>\n",
       "      <td>3.0</td>\n",
       "      <td>1.480532</td>\n",
       "      <td>0.0</td>\n",
       "      <td>0.0</td>\n",
       "      <td>0.0</td>\n",
       "      <td>1.0</td>\n",
       "      <td>1.0</td>\n",
       "      <td>5.463333e+06</td>\n",
       "    </tr>\n",
       "  </tbody>\n",
       "</table>\n",
       "<p>1865 rows × 9 columns</p>\n",
       "</div>"
      ],
      "text/plain": [
       "      weekly_views  cumulative_weeks_in_top_10   runtime  number_of_seasons  \\\n",
       "0     2.530794e+06                         2.0  1.465588                0.0   \n",
       "1     3.300000e+06                         2.0  2.066700                0.0   \n",
       "2     3.670209e+06                         2.0  1.835480                0.0   \n",
       "3     3.670209e+06                         2.0  1.835480                0.0   \n",
       "4     3.629453e+06                         2.0  1.428049                0.0   \n",
       "...            ...                         ...       ...                ...   \n",
       "1860  1.300000e+06                         1.0  1.850000                0.0   \n",
       "1861  4.173987e+06                         4.0  1.865367                0.0   \n",
       "1862  2.550000e+06                         2.0  1.933300                0.0   \n",
       "1863  2.782683e+06                         3.0  1.480532                0.0   \n",
       "1864  2.782683e+06                         3.0  1.480532                0.0   \n",
       "\n",
       "      is_staggered_launch  language_English  type_Films  \\\n",
       "0                     0.0               0.0         1.0   \n",
       "1                     0.0               0.0         1.0   \n",
       "2                     0.0               0.0         1.0   \n",
       "3                     0.0               0.0         1.0   \n",
       "4                     0.0               1.0         1.0   \n",
       "...                   ...               ...         ...   \n",
       "1860                  0.0               0.0         1.0   \n",
       "1861                  0.0               0.0         1.0   \n",
       "1862                  0.0               0.0         1.0   \n",
       "1863                  0.0               0.0         1.0   \n",
       "1864                  0.0               0.0         1.0   \n",
       "\n",
       "      available_globally_No  weekly_hours_viewed  \n",
       "0                       1.0         6.825000e+06  \n",
       "1                       0.0         6.900000e+06  \n",
       "2                       0.0         7.415000e+06  \n",
       "3                       0.0         6.795000e+06  \n",
       "4                       1.0         8.210000e+06  \n",
       "...                     ...                  ...  \n",
       "1860                    0.0         2.400000e+06  \n",
       "1861                    0.0         1.249250e+07  \n",
       "1862                    0.0         4.950000e+06  \n",
       "1863                    1.0         2.910000e+06  \n",
       "1864                    1.0         5.463333e+06  \n",
       "\n",
       "[1865 rows x 9 columns]"
      ]
     },
     "execution_count": 61,
     "metadata": {},
     "output_type": "execute_result"
    }
   ],
   "source": [
    "netflix"
   ]
  },
  {
   "cell_type": "markdown",
   "metadata": {},
   "source": [
    "#### Linear Model"
   ]
  },
  {
   "cell_type": "code",
   "execution_count": 62,
   "metadata": {},
   "outputs": [
    {
     "data": {
      "text/html": [
       "<div>\n",
       "<style scoped>\n",
       "    .dataframe tbody tr th:only-of-type {\n",
       "        vertical-align: middle;\n",
       "    }\n",
       "\n",
       "    .dataframe tbody tr th {\n",
       "        vertical-align: top;\n",
       "    }\n",
       "\n",
       "    .dataframe thead th {\n",
       "        text-align: right;\n",
       "    }\n",
       "</style>\n",
       "<table border=\"1\" class=\"dataframe\">\n",
       "  <thead>\n",
       "    <tr style=\"text-align: right;\">\n",
       "      <th></th>\n",
       "      <th>weekly_views</th>\n",
       "      <th>cumulative_weeks_in_top_10</th>\n",
       "      <th>runtime</th>\n",
       "      <th>number_of_seasons</th>\n",
       "      <th>is_staggered_launch</th>\n",
       "      <th>language_English</th>\n",
       "      <th>type_Films</th>\n",
       "      <th>available_globally_No</th>\n",
       "      <th>weekly_hours_viewed</th>\n",
       "    </tr>\n",
       "  </thead>\n",
       "  <tbody>\n",
       "    <tr>\n",
       "      <th>0</th>\n",
       "      <td>-0.644959</td>\n",
       "      <td>-0.28472</td>\n",
       "      <td>-0.743534</td>\n",
       "      <td>-0.145597</td>\n",
       "      <td>-0.080474</td>\n",
       "      <td>-1.028834</td>\n",
       "      <td>0.741816</td>\n",
       "      <td>2.010110</td>\n",
       "      <td>-0.492864</td>\n",
       "    </tr>\n",
       "    <tr>\n",
       "      <th>1</th>\n",
       "      <td>-0.268775</td>\n",
       "      <td>-0.28472</td>\n",
       "      <td>-0.448582</td>\n",
       "      <td>-0.145597</td>\n",
       "      <td>-0.080474</td>\n",
       "      <td>-1.028834</td>\n",
       "      <td>0.741816</td>\n",
       "      <td>-0.497485</td>\n",
       "      <td>-0.486369</td>\n",
       "    </tr>\n",
       "    <tr>\n",
       "      <th>2</th>\n",
       "      <td>-0.087722</td>\n",
       "      <td>-0.28472</td>\n",
       "      <td>-0.562037</td>\n",
       "      <td>-0.145597</td>\n",
       "      <td>-0.080474</td>\n",
       "      <td>-1.028834</td>\n",
       "      <td>0.741816</td>\n",
       "      <td>-0.497485</td>\n",
       "      <td>-0.441764</td>\n",
       "    </tr>\n",
       "    <tr>\n",
       "      <th>3</th>\n",
       "      <td>-0.087722</td>\n",
       "      <td>-0.28472</td>\n",
       "      <td>-0.562037</td>\n",
       "      <td>-0.145597</td>\n",
       "      <td>-0.080474</td>\n",
       "      <td>-1.028834</td>\n",
       "      <td>0.741816</td>\n",
       "      <td>-0.497485</td>\n",
       "      <td>-0.495463</td>\n",
       "    </tr>\n",
       "    <tr>\n",
       "      <th>4</th>\n",
       "      <td>-0.107654</td>\n",
       "      <td>-0.28472</td>\n",
       "      <td>-0.761953</td>\n",
       "      <td>-0.145597</td>\n",
       "      <td>-0.080474</td>\n",
       "      <td>0.971974</td>\n",
       "      <td>0.741816</td>\n",
       "      <td>2.010110</td>\n",
       "      <td>-0.372909</td>\n",
       "    </tr>\n",
       "  </tbody>\n",
       "</table>\n",
       "</div>"
      ],
      "text/plain": [
       "   weekly_views  cumulative_weeks_in_top_10   runtime  number_of_seasons  \\\n",
       "0     -0.644959                    -0.28472 -0.743534          -0.145597   \n",
       "1     -0.268775                    -0.28472 -0.448582          -0.145597   \n",
       "2     -0.087722                    -0.28472 -0.562037          -0.145597   \n",
       "3     -0.087722                    -0.28472 -0.562037          -0.145597   \n",
       "4     -0.107654                    -0.28472 -0.761953          -0.145597   \n",
       "\n",
       "   is_staggered_launch  language_English  type_Films  available_globally_No  \\\n",
       "0            -0.080474         -1.028834    0.741816               2.010110   \n",
       "1            -0.080474         -1.028834    0.741816              -0.497485   \n",
       "2            -0.080474         -1.028834    0.741816              -0.497485   \n",
       "3            -0.080474         -1.028834    0.741816              -0.497485   \n",
       "4            -0.080474          0.971974    0.741816               2.010110   \n",
       "\n",
       "   weekly_hours_viewed  \n",
       "0            -0.492864  \n",
       "1            -0.486369  \n",
       "2            -0.441764  \n",
       "3            -0.495463  \n",
       "4            -0.372909  "
      ]
     },
     "execution_count": 62,
     "metadata": {},
     "output_type": "execute_result"
    }
   ],
   "source": [
    "#Linear Regression \n",
    "from sklearn.linear_model import LinearRegression\n",
    "from sklearn.model_selection import train_test_split\n",
    "from sklearn.metrics import mean_absolute_error \n",
    "from sklearn.linear_model import LinearRegression, Lasso, Ridge\n",
    "from sklearn.preprocessing import StandardScaler\n",
    "from sklearn.pipeline import Pipeline\n",
    "import sys \n",
    "\n",
    "netflix_std = StandardScaler().fit_transform(netflix)\n",
    "\n",
    "netflix_complete = pd.DataFrame(netflix_std, columns=['weekly_views',\n",
    "                                                  'cumulative_weeks_in_top_10', 'runtime', \n",
    "                                                  'number_of_seasons', 'is_staggered_launch', \n",
    "                                                  'language_English', \n",
    "                                                  'type_Films', \n",
    "                                                  'available_globally_No', 'weekly_hours_viewed'])\n",
    "\n",
    "netflix_complete.head()"
   ]
  },
  {
   "cell_type": "code",
   "execution_count": 63,
   "metadata": {},
   "outputs": [
    {
     "name": "stdout",
     "output_type": "stream",
     "text": [
      "shape of X_train  (1492, 8)\n",
      "shape of y_train  (1492,)\n",
      "shape of X_test  (373, 8)\n",
      "shape of y_test  (373,)\n"
     ]
    }
   ],
   "source": [
    "X_std = netflix_std[:, :8]\n",
    "y_std = netflix_std[:, 8]\n",
    "\n",
    "X_train, X_test, y_train, y_test = train_test_split(X_std, y_std, test_size=0.2, random_state=42)\n",
    "\n",
    "\n",
    "print(\"shape of X_train \", X_train.shape)\n",
    "print(\"shape of y_train \", y_train.shape)\n",
    "print(\"shape of X_test \", X_test.shape)\n",
    "print(\"shape of y_test \", y_test.shape)\n",
    "\n"
   ]
  },
  {
   "cell_type": "code",
   "execution_count": 64,
   "metadata": {},
   "outputs": [
    {
     "data": {
      "text/plain": [
       "array([[-0.17096392, -0.66373787, -0.65304717, ...,  0.97197433,\n",
       "         0.74181597, -0.49748532],\n",
       "       [ 0.32639496, -0.66373787, -0.58778853, ...,  0.97197433,\n",
       "         0.74181597, -0.49748532],\n",
       "       [ 0.51371321, -0.66373787, -0.59578522, ...,  0.97197433,\n",
       "         0.74181597,  2.01010958],\n",
       "       ...,\n",
       "       [ 0.16648409,  1.61036708,  2.65902427, ...,  0.97197433,\n",
       "        -1.34804323, -0.49748532],\n",
       "       [ 0.87738185,  3.88447202,  1.17583041, ..., -1.02883376,\n",
       "        -1.34804323, -0.49748532],\n",
       "       [ 0.44958247, -0.28472038, -0.58045608, ...,  0.97197433,\n",
       "         0.74181597, -0.49748532]])"
      ]
     },
     "execution_count": 64,
     "metadata": {},
     "output_type": "execute_result"
    }
   ],
   "source": [
    "X_train"
   ]
  },
  {
   "cell_type": "code",
   "execution_count": 65,
   "metadata": {},
   "outputs": [],
   "source": [
    "linear_model = LinearRegression(fit_intercept=True).fit(X_train,y_train)\n",
    "linear_pred = linear_model.predict(X_train)"
   ]
  },
  {
   "cell_type": "code",
   "execution_count": 66,
   "metadata": {},
   "outputs": [],
   "source": [
    "#Vizualizations for the linear model made \n",
    "\n",
    "def plot_predicted_v_actual(y_train, y_pred):\n",
    "  #helps us understand the relationship between the predicted and the actual values\n",
    "  plt.scatter(y_train, y_pred)\n",
    "  plt.plot([min(y_train), max(y_train)], [min(y_train), max(y_train)], color='red', linestyle='--')\n",
    "  plt.xlabel('Actual Values')\n",
    "  plt.ylabel('Predicted Values')\n",
    "  plt.title('Actual vs. Predicted Values')\n",
    "  plt.show()\n",
    "  \n",
    "\n",
    "def plot_residuals (y, y_pred):\n",
    "  residuals = y - y_pred\n",
    "  plt.scatter(y_pred, residuals)\n",
    "  plt.xlabel(\"Predicted Values\")\n",
    "  plt.ylabel(\"Residuals\")\n",
    "  plt.title(\"Residual Plot\")\n",
    "  plt.axhline(y=0, color='r', linestyle='-')\n",
    "  plt.show()\n"
   ]
  },
  {
   "cell_type": "code",
   "execution_count": 67,
   "metadata": {},
   "outputs": [
    {
     "data": {
      "image/png": "[encoded data removed]",
      "text/plain": [
       "<Figure size 432x288 with 1 Axes>"
      ]
     },
     "metadata": {},
     "output_type": "display_data"
    },
    {
     "data": {
      "image/png": "[encoded data removed]",
      "text/plain": [
       "<Figure size 432x288 with 1 Axes>"
      ]
     },
     "metadata": {},
     "output_type": "display_data"
    }
   ],
   "source": [
    "plot_predicted_v_actual(y_train, linear_pred)\n",
    "plot_residuals(y_train, linear_pred)\n"
   ]
  },
  {
   "cell_type": "markdown",
   "metadata": {},
   "source": [
    "The residual plot informs us that the residual (difference between the predicted and actual value) increases as the predicted values increases in size. This is a symptom of heteroscedasticity (https://www.qualtrics.com/support/stats-iq/analyses/regression-guides/interpreting-residual-plots-improve-regression/). Hence, we will employ regression techinques to reduce this. \n"
   ]
  },
  {
   "cell_type": "code",
   "execution_count": 68,
   "metadata": {},
   "outputs": [
    {
     "name": "stdout",
     "output_type": "stream",
     "text": [
      "linear R^2 score:  0.5605274033764223\n",
      "linear MSE score:  0.45018202022884707\n",
      "Cross-Validation Results (Accuracy): [0.64996453 0.57565537 0.41547032 0.67342388 0.5953813  0.59070962\n",
      " 0.50424602 0.53634601 0.55372164 0.51100335]\n",
      "0.56 accuracy with a standard deviation of 0.07\n"
     ]
    }
   ],
   "source": [
    "from sklearn.metrics import r2_score, mean_squared_error\n",
    "#calculating the R-squared score \n",
    "r_squared_lin = r2_score(y_train, linear_pred)\n",
    "print(\"linear R^2 score: \", r_squared_lin)\n",
    "\n",
    "#calculating the mean squared error(MSE)\n",
    "mse_lin = mean_squared_error(y_train, linear_pred)\n",
    "print(\"linear MSE score: \", mse_lin) #whoops we were printing out the r2 score again here\n",
    "\n",
    "#https://www.geeksforgeeks.org/cross-validation-machine-learning/\n",
    "from sklearn.model_selection import cross_val_score, KFold\n",
    "num_folds = 10\n",
    "kf = KFold(n_splits=num_folds, shuffle=True, random_state=42)\n",
    "cross_val_results_lin = cross_val_score(LinearRegression(), X_train, y_train, cv=kf)\n",
    "print(f'Cross-Validation Results (Accuracy): {cross_val_results_lin}')\n",
    "print(\"%0.2f accuracy with a standard deviation of %0.2f\" % (cross_val_results_lin.mean(), cross_val_results_lin.std()))\n",
    "\n"
   ]
  },
  {
   "cell_type": "markdown",
   "metadata": {},
   "source": [
    "### Testing for the present of multicolinearity within features to reduce dimensionality within X "
   ]
  },
  {
   "cell_type": "markdown",
   "metadata": {},
   "source": [
    "## the accuracy did not improve much, we will proceed with generalization methods we will generalize data obtained before and after PCA to do a comparison to see if PCA makes a true difference "
   ]
  },
  {
   "cell_type": "code",
   "execution_count": 69,
   "metadata": {},
   "outputs": [
    {
     "name": "stdout",
     "output_type": "stream",
     "text": [
      "pre : 0.32964302433595427\n"
     ]
    }
   ],
   "source": [
    "from sklearn.metrics import mean_absolute_error \n",
    "from sklearn.linear_model import LinearRegression, Lasso, Ridge\n",
    "from sklearn.preprocessing import StandardScaler\n",
    "from sklearn.pipeline import Pipeline\n",
    "import sys \n",
    "#doing plain ridge \n",
    "a = 0.65\n",
    "\n",
    "#standarising the pre PCA values \n",
    "netflix_std = StandardScaler().fit_transform(netflix)\n",
    "# netflix_std = pd.DataFrame(netflix_std)\n",
    "# netflix_std.head()\n",
    "X_std = netflix_std[:, :8]\n",
    "y_std = netflix_std[:, 8]\n",
    "\n",
    "X_train_std,X_test_std, y_train_std, y_test_std = train_test_split(X_std, y_std, test_size=0.2, random_state=42)\n",
    "\n",
    "ridge =  Ridge(fit_intercept=True, alpha=a)\n",
    "model=ridge.fit(X_train_std, y_train_std)\n",
    "ridge_prePCA= model.predict(X_test_std)\n",
    "#ridge_postPCA = Ridge(fit_intercept=True, alpha=a).fit(x_train_after_pca, y_train_after_pca).predict(x_test_after_pca)\n",
    "mse_ridge_pre = mean_squared_error(y_test_std, ridge_prePCA)\n",
    "#mse_ridge_post = mean_squared_error(y_test_after_pca, ridge_postPCA)\n",
    "\n",
    "print(\"pre :\",mse_ridge_pre )\n",
    "#print(\"post :\",mse_ridge_post )"
   ]
  },
  {
   "cell_type": "code",
   "execution_count": 70,
   "metadata": {},
   "outputs": [
    {
     "name": "stdout",
     "output_type": "stream",
     "text": [
      "ALPHA VALUE IS : 0\n",
      "Ridge MSE:  0.3296427853141805\n",
      "linear R^2 score:  0.6346545948234228\n",
      "Lasso MSE:  0.32964278531418056\n",
      "ALPHA VALUE IS : 0.0001\n",
      "Ridge MSE:  0.329642785605804\n",
      "linear R^2 score:  0.6346545945002144\n",
      "Lasso MSE:  0.32963302394566213\n",
      "ALPHA VALUE IS : 0.1\n",
      "Ridge MSE:  0.3296430778168607\n",
      "linear R^2 score:  0.634654270640656\n",
      "Lasso MSE:  0.35884133089525044\n",
      "ALPHA VALUE IS : 0.5\n",
      "Ridge MSE:  0.329644265401668\n",
      "linear R^2 score:  0.6346529544321056\n",
      "Lasso MSE:  0.8895208522661039\n",
      "ALPHA VALUE IS : 1\n",
      "Ridge MSE:  0.32964578929881017\n",
      "linear R^2 score:  0.6346512654862416\n",
      "Lasso MSE:  0.9025866868907988\n",
      "ALPHA VALUE IS : 5\n",
      "Ridge MSE:  0.32965953340845977\n",
      "linear R^2 score:  0.6346360327933618\n",
      "Lasso MSE:  0.9025866868907988\n",
      "ALPHA VALUE IS : 10\n",
      "Ridge MSE:  0.3296804890237055\n",
      "linear R^2 score:  0.6346128075383775\n",
      "Lasso MSE:  0.9025866868907988\n",
      "ALPHA VALUE IS : 20\n",
      "Ridge MSE:  0.3297343664711549\n",
      "linear R^2 score:  0.6345530947864375\n",
      "Lasso MSE:  0.9025866868907988\n",
      "ALPHA VALUE IS : 50\n",
      "Ridge MSE:  0.32998331866485475\n",
      "linear R^2 score:  0.6342771793284663\n",
      "Lasso MSE:  0.9025866868907988\n",
      "ALPHA VALUE IS : 100\n",
      "Ridge MSE:  0.330657592983207\n",
      "linear R^2 score:  0.6335298763841479\n",
      "Lasso MSE:  0.9025866868907988\n",
      "ALPHA VALUE IS : 500\n",
      "Ridge MSE:  0.34498430983661293\n",
      "linear R^2 score:  0.6176514758644187\n",
      "Lasso MSE:  0.9025866868907988\n",
      "ALPHA VALUE IS : 1000\n",
      "Ridge MSE:  0.3749666077899912\n",
      "linear R^2 score:  0.5844218852836276\n",
      "Lasso MSE:  0.9025866868907988\n",
      "Consolidated values: \n",
      "METHOD : lasso\n",
      "ALPHA : 0.0001\n",
      "MIN ERROR : 0.6346654134164432\n"
     ]
    },
    {
     "name": "stderr",
     "output_type": "stream",
     "text": [
      "/var/folders/b7/8z5_rxhj3j7brh5_gncbm6w00000gn/T/ipykernel_92156/1514942161.py:30: UserWarning: With alpha=0, this algorithm does not converge well. You are advised to use the LinearRegression estimator\n",
      "  yhat_lasso = Lasso(fit_intercept=True, alpha = a).fit(X_beforePCA, y_train).predict(X_test)\n",
      "/Applications/anaconda3/lib/python3.9/site-packages/sklearn/linear_model/_coordinate_descent.py:647: UserWarning: Coordinate descent with no regularization may lead to unexpected results and is discouraged.\n",
      "  model = cd_fast.enet_coordinate_descent(\n",
      "/Applications/anaconda3/lib/python3.9/site-packages/sklearn/linear_model/_coordinate_descent.py:647: ConvergenceWarning: Objective did not converge. You might want to increase the number of iterations, check the scale of the features or consider increasing regularisation. Duality gap: 3.358e+02, tolerance: 1.528e-01 Linear regression models with null weight for the l1 regularization term are more efficiently fitted using one of the solvers implemented in sklearn.linear_model.Ridge/RidgeCV instead.\n",
      "  model = cd_fast.enet_coordinate_descent(\n"
     ]
    }
   ],
   "source": [
    "\n",
    "X_beforePCA = X_train.copy()\n",
    "y_to_test = y_test.copy()\n",
    "\n",
    "alpha_values = [0, 0.0001, 0.1, 0.5, 1, 5, 10, 20, 50, 100, 500, 1000]\n",
    "max_r2_score = sys.float_info.min\n",
    "method = \"\"\n",
    "alpha_min = 0\n",
    "\n",
    "#Attempting Ridge for data before PCA\n",
    "for a in alpha_values:\n",
    "  print(\"ALPHA VALUE IS :\", a)\n",
    "  # Create a pipeline with StandardScaler and Ridge regression\n",
    "  ridge_pipeline = Pipeline([\n",
    "      ('scaler', StandardScaler()),\n",
    "      ('ridge', Ridge(fit_intercept=True, alpha=a))  # You can adjust the alpha parameter as needed\n",
    "  ])\n",
    "  lin = ridge_pipeline.fit(X_beforePCA ,y_train)\n",
    "\n",
    "  yhat = lin.predict(X_test)\n",
    "  mse_lin = mean_squared_error(y_to_test, yhat)\n",
    "  print(\"Ridge MSE: \", mse_lin)\n",
    "  r_squared_lin = r2_score(y_to_test, yhat)\n",
    "  print(\"linear R^2 score: \", r_squared_lin)\n",
    "\n",
    "  if r_squared_lin > max_r2_score:\n",
    "    method = \"ridge\"\n",
    "    alpha_min = a\n",
    "    max_r2_score = r_squared_lin\n",
    "\n",
    "  yhat_lasso = Lasso(fit_intercept=True, alpha = a).fit(X_beforePCA, y_train).predict(X_test)\n",
    "  lasso_lin = mean_squared_error(y_to_test, yhat_lasso)\n",
    "  r_squared_lasso = r2_score(y_to_test, yhat_lasso)\n",
    "  print(\"Lasso MSE: \", lasso_lin)\n",
    "\n",
    "  if r_squared_lasso > max_r2_score:\n",
    "    method = \"lasso\"\n",
    "    alpha_min = a\n",
    "    max_r2_score = r_squared_lasso\n",
    "\n",
    "print(\"Consolidated values: \")\n",
    "print(\"METHOD :\", method)\n",
    "print(\"ALPHA :\",alpha_min)\n",
    "print(\"MIN ERROR :\", max_r2_score)\n"
   ]
  },
  {
   "cell_type": "markdown",
   "metadata": {},
   "source": [
    "\n",
    "# We should ask about the fix to heteroscedasticity faced - doesnt seem too simple??"
   ]
  },
  {
   "cell_type": "code",
   "execution_count": 71,
   "metadata": {},
   "outputs": [
    {
     "name": "stderr",
     "output_type": "stream",
     "text": [
      "/Applications/anaconda3/lib/python3.9/site-packages/seaborn/distributions.py:2619: FutureWarning: `distplot` is a deprecated function and will be removed in a future version. Please adapt your code to use either `displot` (a figure-level function with similar flexibility) or `histplot` (an axes-level function for histograms).\n",
      "  warnings.warn(msg, FutureWarning)\n"
     ]
    },
    {
     "data": {
      "image/png": "[encoded data removed]",
      "text/plain": [
       "<Figure size 432x288 with 1 Axes>"
      ]
     },
     "metadata": {},
     "output_type": "display_data"
    }
   ],
   "source": [
    "# Data distribution\n",
    "plt.title('Weekly Hours Viewed Distribution Plot')\n",
    "sns.distplot(netflix['weekly_hours_viewed'])\n",
    "plt.show()"
   ]
  },
  {
   "cell_type": "markdown",
   "metadata": {},
   "source": [
    "### Polynomial Model"
   ]
  },
  {
   "cell_type": "code",
   "execution_count": 72,
   "metadata": {},
   "outputs": [],
   "source": [
    "#y = (netflix[\"weekly_hours_viewed\"]).values\n",
    "#X = (netflix.copy().drop(['weekly_hours_viewed'], axis=1)).values\n",
    "#X_train, X_test, y_train, y_test = train_test_split(X, y, test_size=0.2, random_state=42)"
   ]
  },
  {
   "cell_type": "code",
   "execution_count": 73,
   "metadata": {},
   "outputs": [],
   "source": [
    "# Fitting Polynomial Regression to the dataset\n",
    "from sklearn.preprocessing import PolynomialFeatures\n",
    " \n",
    "pr = PolynomialFeatures(degree = 4)\n",
    "X_poly = pr.fit_transform(X_train)\n",
    "lr_2 = LinearRegression()\n",
    "lr_2.fit(X_poly, y_train)\n",
    "#Predict results\n",
    "y_pred_poly = lr_2.predict(X_poly)  # Polynomial Regression\n",
    "#lr_2.fit(pr.fit_transform(X_test), y_test)\n",
    "y_test_pred_poly = lr_2.predict(pr.fit_transform(X_test))\n"
   ]
  },
  {
   "cell_type": "code",
   "execution_count": 74,
   "metadata": {},
   "outputs": [],
   "source": [
    "def poly_plot_predicted_v_actual(y_train, y_pred):\n",
    "  #helps us understand the relationship between the predicted and the actual values\n",
    "  plt.scatter(y_train, y_pred)\n",
    "  plt.plot(y_train, lr_2.predict(pr.fit_transform(X_train)), color = 'firebrick', linestyle='--')\n",
    "  plt.xlabel('Actual Values')\n",
    "  plt.ylabel('Predicted Values')\n",
    "  plt.title('Actual vs. Predicted Values')\n",
    "  plt.show()"
   ]
  },
  {
   "cell_type": "code",
   "execution_count": 75,
   "metadata": {},
   "outputs": [
    {
     "data": {
      "image/png": "[encoded data removed]",
      "text/plain": [
       "<Figure size 432x288 with 1 Axes>"
      ]
     },
     "metadata": {},
     "output_type": "display_data"
    },
    {
     "data": {
      "image/png": "[encoded data removed]",
      "text/plain": [
       "<Figure size 432x288 with 1 Axes>"
      ]
     },
     "metadata": {},
     "output_type": "display_data"
    }
   ],
   "source": [
    "poly_plot_predicted_v_actual(y_train, y_pred_poly)\n",
    "plot_residuals(y_train, y_pred_poly)"
   ]
  },
  {
   "cell_type": "code",
   "execution_count": 76,
   "metadata": {},
   "outputs": [
    {
     "data": {
      "text/plain": [
       "-2.559436031469238e+20"
      ]
     },
     "execution_count": 76,
     "metadata": {},
     "output_type": "execute_result"
    }
   ],
   "source": [
    "from sklearn.model_selection import cross_val_score\n",
    "cross_val_poly=cross_val_score(lr_2, X_poly, y_train, cv=10)\n",
    "avg_cross_val_poly = cross_val_poly.mean()\n",
    "avg_cross_val_poly"
   ]
  },
  {
   "cell_type": "code",
   "execution_count": 77,
   "metadata": {},
   "outputs": [],
   "source": [
    "# This function just computes the mean squared error\n",
    "def MSE(y, pred):\n",
    "    return np.square(np.subtract(y,pred)).mean()"
   ]
  },
  {
   "cell_type": "code",
   "execution_count": 78,
   "metadata": {},
   "outputs": [
    {
     "name": "stdout",
     "output_type": "stream",
     "text": [
      "Polynomial Train MSE at degree 1\t 0.45018202022884707\n",
      "Polynomial Test MSE at degree 1\t 0.3296427853141805\n",
      "Polynomial Train MSE at degree 2\t 0.29615078955033874\n",
      "Polynomial Test MSE at degree 2\t 5.889571892576112e+19\n",
      "Polynomial Train MSE at degree 3\t 0.24379222512713747\n",
      "Polynomial Test MSE at degree 3\t 4.056821452137808\n",
      "Polynomial Train MSE at degree 4\t 0.2189081874520294\n",
      "Polynomial Test MSE at degree 4\t 3.800146158675303e+21\n",
      "Polynomial Train MSE at degree 5\t 0.1875502461196158\n",
      "Polynomial Test MSE at degree 5\t 2.910492274946647e+22\n",
      "Polynomial Train MSE at degree 6\t 0.159817918826642\n",
      "Polynomial Test MSE at degree 6\t 2.1940592187817066e+20\n",
      "Polynomial Train MSE at degree 7\t 0.1243601470092938\n",
      "Polynomial Test MSE at degree 7\t 4435606506416.757\n"
     ]
    }
   ],
   "source": [
    "# compare train and test MSE for polynomials of degrees 1-7\n",
    "for i in range(7):\n",
    "  pr = PolynomialFeatures(degree = i+1)\n",
    "  X_poly = pr.fit_transform(X_train)\n",
    "  lr_2 = LinearRegression()\n",
    "  lr_2.fit(X_poly, y_train)\n",
    "  #Predict results\n",
    "  y_pred_poly = lr_2.predict(X_poly)  # Polynomial Regression\n",
    "  y_test_pred_poly = lr_2.predict(pr.fit_transform(X_test))\n",
    "  \n",
    "  poly_train_MSE = MSE(y_train, y_pred_poly.flatten())\n",
    "  print((\"Polynomial Train MSE\" + \" at degree \" + str(i+1) + \"\\t\"), str(poly_train_MSE))\n",
    "  poly_test_MSE = MSE(y_test, y_test_pred_poly.flatten())\n",
    "  print((\"Polynomial Test MSE\" + \" at degree \" + str(i+1) + \"\\t\"), str(poly_test_MSE))\n"
   ]
  },
  {
   "cell_type": "code",
   "execution_count": 79,
   "metadata": {},
   "outputs": [],
   "source": [
    "from sklearn.linear_model import LinearRegression, Lasso, Ridge"
   ]
  },
  {
   "cell_type": "code",
   "execution_count": 80,
   "metadata": {},
   "outputs": [],
   "source": [
    "from numpy.random import rand, randn\n",
    "def generate_data(n, w):\n",
    "    X = randn(n,len(w))\n",
    "    y = X@w\n",
    "    return X, y\n",
    "def generate_noisy_data(n, w):\n",
    "    X = randn(n,len(w))\n",
    "    y = X@w + .1*randn(n)\n",
    "    return X, y"
   ]
  },
  {
   "cell_type": "markdown",
   "metadata": {},
   "source": [
    "### Decision Tree Regression"
   ]
  },
  {
   "cell_type": "code",
   "execution_count": 81,
   "metadata": {},
   "outputs": [],
   "source": [
    "from sklearn.model_selection import cross_val_score\n",
    "from sklearn.tree import DecisionTreeRegressor, plot_tree\n",
    "from sklearn import tree"
   ]
  },
  {
   "cell_type": "code",
   "execution_count": 82,
   "metadata": {},
   "outputs": [
    {
     "name": "stdout",
     "output_type": "stream",
     "text": [
      "Average Cross Validation Score for 10 folds: 0.4787\n",
      "Accuracy on Train Set: 0.8883\n",
      "Accuracy on Test Set: 0.3971\n"
     ]
    }
   ],
   "source": [
    "regressor = DecisionTreeRegressor(random_state=0, max_depth=12)\n",
    "cross_val_scores = cross_val_score(regressor, X_train, y_train, cv=10)\n",
    "average_score = cross_val_scores.mean()\n",
    "print(f\"Average Cross Validation Score for 10 folds: {average_score:.4f}\")\n",
    "\n",
    "regressor.fit(X_train, y_train)\n",
    "test_score = regressor.score(X_test, y_test)\n",
    "train_score = regressor.score(X_train, y_train)\n",
    "print(f\"Accuracy on Train Set: {train_score:.4f}\")\n",
    "print(f\"Accuracy on Test Set: {test_score:.4f}\")\n"
   ]
  },
  {
   "cell_type": "code",
   "execution_count": 83,
   "metadata": {},
   "outputs": [
    {
     "data": {
      "image/png": "[encoded data removed]",
      "text/plain": [
       "<Figure size 720x432 with 1 Axes>"
      ]
     },
     "metadata": {},
     "output_type": "display_data"
    }
   ],
   "source": [
    "regressor.fit(X_train,y_train)\n",
    "plt.figure(figsize=(10, 6))\n",
    "plot_tree(regressor, filled=True)\n",
    "plt.title(\"Decision Tree\")\n",
    "plt.show()"
   ]
  },
  {
   "cell_type": "code",
   "execution_count": 84,
   "metadata": {},
   "outputs": [
    {
     "name": "stdout",
     "output_type": "stream",
     "text": [
      "MSE on training set: 0.11442233758134285\n",
      "MSE on test set: 0.5439877705560399\n"
     ]
    }
   ],
   "source": [
    "# Score based on squared error\n",
    "y_pred_train = regressor.predict(X_train)\n",
    "y_pred_test = regressor.predict(X_test)\n",
    "tree_train_MSE = mean_squared_error(y_train, y_pred_train)\n",
    "tree_test_MSE = mean_squared_error(y_test, y_pred_test)\n",
    "print(\"MSE on training set:\", tree_train_MSE)\n",
    "print(\"MSE on test set:\", tree_test_MSE)"
   ]
  },
  {
   "cell_type": "markdown",
   "metadata": {},
   "source": [
    "We can see that both the accuracy and the test set are high, so we can utilize ensemble methods to try and reduce the bias. We will use Decision Tree Boosting technique"
   ]
  },
  {
   "cell_type": "code",
   "execution_count": 85,
   "metadata": {},
   "outputs": [],
   "source": [
    "from sklearn.ensemble import GradientBoostingRegressor # uses squared loss, default learning rate 0.1"
   ]
  },
  {
   "cell_type": "code",
   "execution_count": 86,
   "metadata": {},
   "outputs": [
    {
     "name": "stdout",
     "output_type": "stream",
     "text": [
      "Best parameters: {'learning_rate': 0.1, 'max_depth': 3, 'n_estimators': 50}\n",
      "Test set MSE for best boosted regression model: 0.3170637501783764\n"
     ]
    }
   ],
   "source": [
    "# First, grid search to find the best hyperparameters\n",
    "from sklearn.model_selection import GridSearchCV\n",
    "\n",
    "param_grid = {\n",
    "    'n_estimators': [50, 100, 150, 200],\n",
    "    'learning_rate': [0.01, 0.1, 0.2, 0.5],\n",
    "    'max_depth': [3, 5, 7, 10]\n",
    "}\n",
    "\n",
    "boosted_reg = GradientBoostingRegressor(random_state=0)\n",
    "\n",
    "grid_search = GridSearchCV(estimator=boosted_reg, param_grid=param_grid, cv=10, scoring='neg_mean_squared_error')\n",
    "\n",
    "grid_search.fit(X_train, y_train)\n",
    "\n",
    "print(\"Best parameters:\", grid_search.best_params_)\n",
    "\n",
    "boosted = grid_search.best_estimator_\n",
    "\n",
    "best_boosted_reg_test_MSE = mean_squared_error(y_test, boosted.predict(X_test))\n",
    "print(\"Test set MSE for best boosted regression model:\", best_boosted_reg_test_MSE)\n"
   ]
  },
  {
   "cell_type": "code",
   "execution_count": 87,
   "metadata": {},
   "outputs": [
    {
     "name": "stdout",
     "output_type": "stream",
     "text": [
      "Average Cross Validation Score for 10 folds in Boosted Model: 0.6375\n"
     ]
    }
   ],
   "source": [
    "# boosted = GradientBoostingRegressor(random_state=0, max_depth=12, n_estimators=10000)\n",
    "# boosted.fit(X_train, y_train)\n",
    "\n",
    "cross_val_scores_gb = cross_val_score(boosted, X_train, y_train, cv=10)\n",
    "average_score_gb = cross_val_scores_gb.mean()\n",
    "print(f\"Average Cross Validation Score for 10 folds in Boosted Model: {average_score_gb:.4f}\")"
   ]
  },
  {
   "cell_type": "code",
   "execution_count": 88,
   "metadata": {},
   "outputs": [
    {
     "name": "stdout",
     "output_type": "stream",
     "text": [
      "Accuracy on Train Set: 0.7940\n",
      "Accuracy on Test Set: 0.6486\n"
     ]
    }
   ],
   "source": [
    "test_score_gb = boosted.score(X_test, y_test)\n",
    "train_score_gb = boosted.score(X_train, y_train)\n",
    "print(f\"Accuracy on Train Set: {train_score_gb:.4f}\")\n",
    "print(f\"Accuracy on Test Set: {test_score_gb:.4f}\")"
   ]
  },
  {
   "cell_type": "code",
   "execution_count": 89,
   "metadata": {},
   "outputs": [
    {
     "name": "stdout",
     "output_type": "stream",
     "text": [
      "MSE on training set: 0.11442233758134285\n",
      "MSE on test set: 0.5439877705560399\n"
     ]
    }
   ],
   "source": [
    "y_pred_train_boosted = boosted.predict(X_train)\n",
    "y_pred_test_boosted = boosted.predict(X_test)\n",
    "\n",
    "boosted_train_MSE= mean_squared_error(y_train, y_pred_train)\n",
    "boosted_test_MSE = mean_squared_error(y_test, y_pred_test)\n",
    "\n",
    "print(\"MSE on training set:\", boosted_train_MSE)\n",
    "print(\"MSE on test set:\", boosted_test_MSE)"
   ]
  },
  {
   "cell_type": "code",
   "execution_count": 95,
   "metadata": {},
   "outputs": [],
   "source": [
    "mse_lin_test=mean_squared_error(y_test, linear_model.predict(X_test))"
   ]
  },
  {
   "cell_type": "markdown",
   "metadata": {},
   "source": [
    "### Comparing Results from all 3 models"
   ]
  },
  {
   "cell_type": "code",
   "execution_count": 98,
   "metadata": {},
   "outputs": [
    {
     "name": "stdout",
     "output_type": "stream",
     "text": [
      "Training set MSE:\n",
      "Linear Regression: 0.3749666077899912\n",
      "Polynomial Regression: 0.1243601470092938\n",
      "Regular Decision Tree Regressor: 0.11442233758134285\n",
      "Boosted Regression: 0.11442233758134285\n",
      "\n",
      "Test set MSE:\n",
      "Linear Regression: 0.3296427853141808\n",
      "Polynomial Regression: 4435606506416.757\n",
      "Regular Decision Tree Regressor: 0.5439877705560399\n",
      "Boosted Regression: 0.5439877705560399\n",
      "\n",
      "10-fold cross-validation:\n",
      "Linear Regression: 0.5605922054086668\n",
      "Polynomial Regression: -2.559436031469238e+20\n",
      "Regular Decision Tree Regressor: 0.4786684675300868\n",
      "Boosted Regression: 0.6375358361214667\n",
      "\n",
      "\n",
      "The best model for train set is Regular Decision Tree Regressor.\n",
      "The best model for test set is Linear Regression.\n"
     ]
    }
   ],
   "source": [
    "print(\"Training set MSE:\")\n",
    "print(\"Linear Regression:\", mse_lin)\n",
    "print(\"Polynomial Regression:\", poly_train_MSE)\n",
    "print(\"Regular Decision Tree Regressor:\", tree_train_MSE)\n",
    "print(\"Boosted Regression:\", boosted_train_MSE)\n",
    "\n",
    "print(\"\\nTest set MSE:\")\n",
    "print(\"Linear Regression:\", mse_lin_test)\n",
    "print(\"Polynomial Regression:\", poly_test_MSE)\n",
    "print(\"Regular Decision Tree Regressor:\", tree_test_MSE)\n",
    "print(\"Boosted Regression:\", boosted_test_MSE)\n",
    "\n",
    "print(\"\\n10-fold cross-validation:\")\n",
    "print(\"Linear Regression:\", cross_val_results_lin.mean())\n",
    "print(\"Polynomial Regression:\", avg_cross_val_poly)\n",
    "print(\"Regular Decision Tree Regressor:\", average_score)\n",
    "print(\"Boosted Regression:\", average_score_gb)\n",
    "print(\"\\n\")\n",
    "\n",
    "\n",
    "best_model_train = min(mse_lin, poly_train_MSE, boosted_train_MSE, boosted_train_MSE)\n",
    "best_model_test = min(mse_lin_test, poly_test_MSE,tree_test_MSE, boosted_test_MSE)\n",
    "\n",
    "if best_model_train == mse_lin:\n",
    "    print(\"\\nThe best model for training set is Linear Regression.\")\n",
    "elif best_model_train == poly_train_MSE:\n",
    "    print(\"\\nThe best model for training set is Polynomial Regression.\")\n",
    "elif best_model_train==boosted_train_MSE:\n",
    "    print(\"The best model for train set is Regular Decision Tree Regressor.\")\n",
    "else:\n",
    "    print(\"\\nThe best model for training set is Boosted Regression.\")\n",
    "\n",
    "if best_model_test == mse_lin_test:\n",
    "    print(\"The best model for test set is Linear Regression.\")\n",
    "elif best_model_test == poly_test_MSE:\n",
    "    print(\"The best model for test set is Polynomial Regression.\")\n",
    "elif best_model_test==boosted_test_MSE:\n",
    "    print(\"The best model for test set is Regular Decision Tree Regressor.\")\n",
    "else:\n",
    "    print(\"The best model for test set is Boosted Regression.\")\n"
   ]
  },
  {
   "cell_type": "markdown",
   "metadata": {},
   "source": [
    "### Understand Feature Importance"
   ]
  },
  {
   "cell_type": "code",
   "execution_count": 61,
   "metadata": {},
   "outputs": [
    {
     "data": {
      "image/png": "[encoded data removed]",
      "text/plain": [
       "<Figure size 1000x600 with 1 Axes>"
      ]
     },
     "metadata": {},
     "output_type": "display_data"
    }
   ],
   "source": [
    "feature_names=['weekly_views','cumulative_weeks_in_top_10', 'runtime', 'number_of_seasons', 'is_staggered_launch', \n",
    "'language_English', 'language_Non-English', 'type_Films', 'type_TV', 'available_globally_No', 'available_globally_Yes']\n",
    "feature_coef = model.coef_\n",
    "\n",
    "sorted_indices = np.argsort(feature_coef)[::-1]\n",
    "sorted_feature_importances = feature_coef[sorted_indices]\n",
    "sorted_features = np.array(feature_names)[sorted_indices]\n",
    "\n",
    "plt.figure(figsize=(10, 6))\n",
    "plt.bar(range(len(feature_coef)), sorted_feature_importances, align='center')\n",
    "plt.xticks(range(len(feature_coef)), sorted_features, rotation=90)\n",
    "plt.xlabel('Features')\n",
    "plt.ylabel('Coefficients')\n",
    "plt.title('Feature Coefficients from Ridge Regression')\n",
    "plt.tight_layout()\n",
    "plt.show()\n"
   ]
  },
  {
   "cell_type": "code",
   "execution_count": 62,
   "metadata": {},
   "outputs": [
    {
     "data": {
      "image/png": "[encoded data removed]",
      "text/plain": [
       "<Figure size 1000x600 with 1 Axes>"
      ]
     },
     "metadata": {},
     "output_type": "display_data"
    }
   ],
   "source": [
    "feature_names=['weekly_views','cumulative_weeks_in_top_10', 'runtime', 'number_of_seasons', 'is_staggered_launch', \n",
    "'language_English', 'language_Non-English', 'type_Films', 'type_TV', 'available_globally_No', 'available_globally_Yes']\n",
    "feature_importances = boosted.feature_importances_\n",
    "\n",
    "sorted_indices = np.argsort(feature_importances)[::-1]\n",
    "sorted_feature_importances = feature_importances[sorted_indices]\n",
    "sorted_features = np.array(feature_names)[sorted_indices]\n",
    "\n",
    "plt.figure(figsize=(10, 6))\n",
    "plt.bar(range(len(feature_importances)), sorted_feature_importances, align='center')\n",
    "plt.xticks(range(len(feature_importances)), sorted_features, rotation=90)\n",
    "plt.xlabel('Features')\n",
    "plt.ylabel('Mean Decrease in Impurity')\n",
    "plt.title('Mean Decrease Impurity for Features')\n",
    "plt.tight_layout()\n",
    "plt.show()"
   ]
  },
  {
   "cell_type": "code",
   "execution_count": null,
   "metadata": {},
   "outputs": [],
   "source": []
  },
  {
   "cell_type": "code",
   "execution_count": null,
   "metadata": {},
   "outputs": [],
   "source": []
  },
  {
   "cell_type": "code",
   "execution_count": null,
   "metadata": {},
   "outputs": [],
   "source": []
  },
  {
   "cell_type": "code",
   "execution_count": null,
   "metadata": {},
   "outputs": [],
   "source": []
  },
  {
   "cell_type": "code",
   "execution_count": null,
   "metadata": {},
   "outputs": [],
   "source": []
  },
  {
   "cell_type": "code",
   "execution_count": null,
   "metadata": {},
   "outputs": [],
   "source": []
  },
  {
   "cell_type": "code",
   "execution_count": null,
   "metadata": {},
   "outputs": [],
   "source": []
  },
  {
   "cell_type": "code",
   "execution_count": null,
   "metadata": {},
   "outputs": [],
   "source": []
  },
  {
   "cell_type": "code",
   "execution_count": null,
   "metadata": {},
   "outputs": [],
   "source": []
  },
  {
   "cell_type": "code",
   "execution_count": null,
   "metadata": {},
   "outputs": [],
   "source": []
  }
 ],
 "metadata": {
  "kernelspec": {
   "display_name": "Python 3.11.9 ('base')",
   "language": "python",
   "name": "python3"
  },
  "language_info": {
   "codemirror_mode": {
    "name": "ipython",
    "version": 3
   },
   "file_extension": ".py",
   "mimetype": "text/x-python",
   "name": "python",
   "nbconvert_exporter": "python",
   "pygments_lexer": "ipython3",
   "version": "3.9.12"
  },
  "orig_nbformat": 4,
  "vscode": {
   "interpreter": {
    "hash": "cd78fef2128015050713e82ca51c6520b11aee7c9ee8df750520bbbc7384cbaa"
   }
  }
 },
 "nbformat": 4,
 "nbformat_minor": 2
}
