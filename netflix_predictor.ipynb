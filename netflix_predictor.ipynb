{
 "cells": [
  {
   "cell_type": "markdown",
   "metadata": {},
   "source": [
    "# ORIE 4741 Project\n",
    "### Netflix Success Predictor"
   ]
  },
  {
   "cell_type": "code",
   "execution_count": null,
   "metadata": {},
   "outputs": [],
   "source": [
    "import numpy as np\n",
    "import pandas as pd\n",
    "import matplotlib.pyplot as plt\n",
    "import seaborn as sns\n",
    "from sklearn.preprocessing import PolynomialFeatures\n",
    "from sklearn.linear_model import SGDClassifier, LogisticRegression\n",
    "from sklearn.metrics import RocCurveDisplay, recall_score, precision_score, roc_curve, roc_auc_score, balanced_accuracy_score\n",
    "import matplotlib.pyplot as plt\n",
    "import matplotlib as mpl"
   ]
  },
  {
   "cell_type": "code",
   "execution_count": null,
   "metadata": {},
   "outputs": [],
   "source": [
    "#add correct path\n",
    "#netflix=pd.read_csv('datasets/all-weeks-global.csv')"
   ]
  },
  {
   "cell_type": "markdown",
   "metadata": {},
   "source": [
    "## Feature Engineering\n",
    "Before we create a model in order to understand the features of importance for Netflix streaming content success and use it to predict how many views a show/film gets, we need to inspect the data and utilize feature engineering tools. \n",
    "\n",
    "#### Dealing with NaN values: "
   ]
  },
  {
   "cell_type": "code",
   "execution_count": null,
   "metadata": {},
   "outputs": [],
   "source": [
    "def size_if_na_dropped(df):\n",
    "  print(f\"Out of {df.shape[0]} total points, if we drop all with missing data, \\\n",
    "we'll have {df.dropna().shape[0]} points (or {df.dropna().shape[0]/df.shape[0]} \\\n",
    "  of the original dataset)\")\n",
    "\n",
    "size_if_na_dropped(netflix)"
   ]
  },
  {
   "cell_type": "code",
   "execution_count": null,
   "metadata": {},
   "outputs": [],
   "source": [
    "def plot_na(df):\n",
    "  sns.set_style('whitegrid')\n",
    "  plt.figure(figsize=(12,8))\n",
    "  missing_vals = df.isna().sum()/df.shape[0]\n",
    "  missing_vals = missing_vals.sort_values(ascending=False)[0:10]\n",
    "  ax = missing_vals.plot(kind='bar')\n",
    "\n",
    "  ax.set_title('Measuring Rows with the Most Missing Data')\n",
    "  ax.set_ylabel('Proportion')\n",
    "  ax.set_xlabel('Feature')\n",
    "  ax.tick_params(axis='x', rotation=45)\n",
    "\n",
    "plot_na(netflix)"
   ]
  },
  {
   "cell_type": "code",
   "execution_count": null,
   "metadata": {},
   "outputs": [],
   "source": [
    "#The NaN values of number_of_seasons occur b/c they are films not shows, impute with 0\n",
    "netfix['NUMBER_OF_SEASONS'] = grouped_df['NUMBER_OF_SEASONS'].fillna(0)\n",
    "# print(comb_df['NUMBER_OF_SEASONS'].isna().sum())\n",
    "\n",
    "plot_na(netflix)\n",
    "size_if_na_dropped(netflix)"
   ]
  },
  {
   "cell_type": "markdown",
   "metadata": {},
   "source": [
    "#### Dealing with na for runtime variable\n",
    "The variable runtime still has a lot of missing values so will impute mean values\n",
    "- For films, we will impute the value with the mean runtime for films. \n",
    "- For TV shows, we will impute the value with the mean runtime of tv shows with the same number of seasons"
   ]
  },
  {
   "cell_type": "markdown",
   "metadata": {},
   "source": [
    "#### Dealing with Categorical Values\n",
    "There are a few categorical features in our data. To deal with them we will do the following\n",
    "- One hot encoding the binary values: Language, Type, Available Globally\n",
    "- Multi-hot encoding genre list"
   ]
  },
  {
   "cell_type": "markdown",
   "metadata": {},
   "source": [
    "#### Standardizing\n",
    "Our metric to determine success is weekly views, however, the runtime of the content may affect this (for example, a show that has multiple episodes will likely get more views than one individual film) to account for that, we want to standardize our data. \n",
    "Options\n",
    "- Standardize\n",
    "- Normalize\n",
    "- divide by runtime (and then delete runtime from the df since it would be a covariate)"
   ]
  }
 ],
 "metadata": {
  "kernelspec": {
   "display_name": "Python 3.8.8",
   "language": "python",
   "name": "python3"
  },
  "language_info": {
   "name": "python",
   "version": "3.8.8"
  },
  "orig_nbformat": 4,
  "vscode": {
   "interpreter": {
    "hash": "2b2ad00cb0be52bc3ca4fe97dd10f4b2d6fc96e45e2590028a1afba0c70b4da1"
   }
  }
 },
 "nbformat": 4,
 "nbformat_minor": 2
}
