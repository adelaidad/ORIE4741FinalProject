{
 "cells": [
  {
   "cell_type": "markdown",
   "metadata": {},
   "source": [
    "# ORIE 4741 Project\n",
    "### Netflix Success Predictor"
   ]
  },
  {
   "cell_type": "code",
   "execution_count": 18,
   "metadata": {},
   "outputs": [],
   "source": [
    "import numpy as np\n",
    "import pandas as pd\n",
    "import matplotlib.pyplot as plt\n",
    "import seaborn as sns\n",
    "from sklearn.preprocessing import PolynomialFeatures\n",
    "from sklearn.linear_model import SGDClassifier, LogisticRegression\n",
    "from sklearn.metrics import RocCurveDisplay, recall_score, precision_score, roc_curve, roc_auc_score, balanced_accuracy_score\n",
    "import matplotlib.pyplot as plt\n",
    "import matplotlib as mpl"
   ]
  },
  {
   "cell_type": "code",
   "execution_count": 19,
   "metadata": {},
   "outputs": [],
   "source": [
    "netflix=pd.read_csv('datasets/netflix.csv')"
   ]
  },
  {
   "cell_type": "code",
   "execution_count": 20,
   "metadata": {},
   "outputs": [
    {
     "data": {
      "text/html": [
       "<div>\n",
       "<style scoped>\n",
       "    .dataframe tbody tr th:only-of-type {\n",
       "        vertical-align: middle;\n",
       "    }\n",
       "\n",
       "    .dataframe tbody tr th {\n",
       "        vertical-align: top;\n",
       "    }\n",
       "\n",
       "    .dataframe thead th {\n",
       "        text-align: right;\n",
       "    }\n",
       "</style>\n",
       "<table border=\"1\" class=\"dataframe\">\n",
       "  <thead>\n",
       "    <tr style=\"text-align: right;\">\n",
       "      <th></th>\n",
       "      <th>show_title</th>\n",
       "      <th>type</th>\n",
       "      <th>weekly_hours_viewed</th>\n",
       "      <th>weekly_views</th>\n",
       "      <th>cumulative_weeks_in_top_10</th>\n",
       "      <th>runtime</th>\n",
       "      <th>number_of_seasons</th>\n",
       "      <th>language</th>\n",
       "      <th>is_staggered_launch</th>\n",
       "      <th>available_globally</th>\n",
       "      <th>release_date</th>\n",
       "      <th>genre</th>\n",
       "      <th>main_production</th>\n",
       "      <th>week</th>\n",
       "    </tr>\n",
       "  </thead>\n",
       "  <tbody>\n",
       "    <tr>\n",
       "      <th>0</th>\n",
       "      <td>'83</td>\n",
       "      <td>Films</td>\n",
       "      <td>6825000.0</td>\n",
       "      <td>NaN</td>\n",
       "      <td>2</td>\n",
       "      <td>NaN</td>\n",
       "      <td>NaN</td>\n",
       "      <td>Non-English</td>\n",
       "      <td>False</td>\n",
       "      <td>No</td>\n",
       "      <td>NaN</td>\n",
       "      <td>NaN</td>\n",
       "      <td>NaN</td>\n",
       "      <td>2022-04-03</td>\n",
       "    </tr>\n",
       "    <tr>\n",
       "      <th>1</th>\n",
       "      <td>10 Days of a Bad Man</td>\n",
       "      <td>Films</td>\n",
       "      <td>6900000.0</td>\n",
       "      <td>3300000.0</td>\n",
       "      <td>2</td>\n",
       "      <td>2.0667</td>\n",
       "      <td>NaN</td>\n",
       "      <td>Non-English</td>\n",
       "      <td>False</td>\n",
       "      <td>NaN</td>\n",
       "      <td>NaN</td>\n",
       "      <td>NaN</td>\n",
       "      <td>NaN</td>\n",
       "      <td>2023-08-27</td>\n",
       "    </tr>\n",
       "    <tr>\n",
       "      <th>2</th>\n",
       "      <td>10 Days of a Good Man</td>\n",
       "      <td>Films</td>\n",
       "      <td>7415000.0</td>\n",
       "      <td>NaN</td>\n",
       "      <td>2</td>\n",
       "      <td>NaN</td>\n",
       "      <td>NaN</td>\n",
       "      <td>Non-English</td>\n",
       "      <td>False</td>\n",
       "      <td>NaN</td>\n",
       "      <td>NaN</td>\n",
       "      <td>NaN</td>\n",
       "      <td>NaN</td>\n",
       "      <td>2023-03-12</td>\n",
       "    </tr>\n",
       "    <tr>\n",
       "      <th>3</th>\n",
       "      <td>1000 Miles from Christmas</td>\n",
       "      <td>Films</td>\n",
       "      <td>6795000.0</td>\n",
       "      <td>NaN</td>\n",
       "      <td>2</td>\n",
       "      <td>NaN</td>\n",
       "      <td>NaN</td>\n",
       "      <td>Non-English</td>\n",
       "      <td>False</td>\n",
       "      <td>NaN</td>\n",
       "      <td>NaN</td>\n",
       "      <td>NaN</td>\n",
       "      <td>NaN</td>\n",
       "      <td>2022-01-02</td>\n",
       "    </tr>\n",
       "    <tr>\n",
       "      <th>4</th>\n",
       "      <td>12 Strong</td>\n",
       "      <td>Films</td>\n",
       "      <td>8210000.0</td>\n",
       "      <td>NaN</td>\n",
       "      <td>2</td>\n",
       "      <td>NaN</td>\n",
       "      <td>NaN</td>\n",
       "      <td>English</td>\n",
       "      <td>False</td>\n",
       "      <td>No</td>\n",
       "      <td>NaN</td>\n",
       "      <td>NaN</td>\n",
       "      <td>NaN</td>\n",
       "      <td>2022-07-24</td>\n",
       "    </tr>\n",
       "  </tbody>\n",
       "</table>\n",
       "</div>"
      ],
      "text/plain": [
       "                  show_title   type  weekly_hours_viewed  weekly_views  \\\n",
       "0                        '83  Films            6825000.0           NaN   \n",
       "1       10 Days of a Bad Man  Films            6900000.0     3300000.0   \n",
       "2      10 Days of a Good Man  Films            7415000.0           NaN   \n",
       "3  1000 Miles from Christmas  Films            6795000.0           NaN   \n",
       "4                  12 Strong  Films            8210000.0           NaN   \n",
       "\n",
       "   cumulative_weeks_in_top_10  runtime  number_of_seasons     language  \\\n",
       "0                           2      NaN                NaN  Non-English   \n",
       "1                           2   2.0667                NaN  Non-English   \n",
       "2                           2      NaN                NaN  Non-English   \n",
       "3                           2      NaN                NaN  Non-English   \n",
       "4                           2      NaN                NaN      English   \n",
       "\n",
       "   is_staggered_launch available_globally release_date  genre main_production  \\\n",
       "0                False                 No          NaN    NaN             NaN   \n",
       "1                False                NaN          NaN    NaN             NaN   \n",
       "2                False                NaN          NaN    NaN             NaN   \n",
       "3                False                NaN          NaN    NaN             NaN   \n",
       "4                False                 No          NaN    NaN             NaN   \n",
       "\n",
       "         week  \n",
       "0  2022-04-03  \n",
       "1  2023-08-27  \n",
       "2  2023-03-12  \n",
       "3  2022-01-02  \n",
       "4  2022-07-24  "
      ]
     },
     "execution_count": 20,
     "metadata": {},
     "output_type": "execute_result"
    }
   ],
   "source": [
    "netflix.head()"
   ]
  },
  {
   "cell_type": "markdown",
   "metadata": {},
   "source": [
    "## Feature Engineering\n",
    "Before we create a model in order to understand the features of importance for Netflix streaming content success and use it to predict how many views a show/film gets, we need to inspect the data and utilize feature engineering tools. \n",
    "\n",
    "#### Dealing with simple NaN values: "
   ]
  },
  {
   "cell_type": "code",
   "execution_count": 21,
   "metadata": {},
   "outputs": [
    {
     "name": "stdout",
     "output_type": "stream",
     "text": [
      "Out of 1865 total points, if we drop all with missing data, we'll have 0 points (or 0.0   of the original dataset)\n"
     ]
    }
   ],
   "source": [
    "def size_if_na_dropped(df):\n",
    "  print(f\"Out of {df.shape[0]} total points, if we drop all with missing data, \\\n",
    "we'll have {df.dropna().shape[0]} points (or {df.dropna().shape[0]/df.shape[0]} \\\n",
    "  of the original dataset)\")\n",
    "\n",
    "size_if_na_dropped(netflix)"
   ]
  },
  {
   "cell_type": "code",
   "execution_count": 22,
   "metadata": {},
   "outputs": [
    {
     "data": {
      "image/png": "[encoded data removed]",
      "text/plain": [
       "<Figure size 864x576 with 1 Axes>"
      ]
     },
     "metadata": {},
     "output_type": "display_data"
    }
   ],
   "source": [
    "def plot_na(df):\n",
    "  sns.set_style('whitegrid')\n",
    "  plt.figure(figsize=(12,8))\n",
    "  missing_vals = df.isna().sum()/df.shape[0]\n",
    "  missing_vals = missing_vals.sort_values(ascending=False)[0:10]\n",
    "  ax = missing_vals.plot(kind='bar')\n",
    "\n",
    "  ax.set_title('Measuring Rows with the Most Missing Data')\n",
    "  ax.set_ylabel('Proportion')\n",
    "  ax.set_xlabel('Feature')\n",
    "  ax.tick_params(axis='x', rotation=45)\n",
    "\n",
    "plot_na(netflix)"
   ]
  },
  {
   "cell_type": "code",
   "execution_count": 23,
   "metadata": {},
   "outputs": [
    {
     "name": "stdout",
     "output_type": "stream",
     "text": [
      "Out of 1865 total points, if we drop all with missing data, we'll have 0 points (or 0.0   of the original dataset)\n"
     ]
    },
    {
     "data": {
      "image/png": "[encoded data removed]",
      "text/plain": [
       "<Figure size 864x576 with 1 Axes>"
      ]
     },
     "metadata": {},
     "output_type": "display_data"
    }
   ],
   "source": [
    "#The NaN values of number_of_seasons occur b/c they are films not shows, impute with 0\n",
    "netflix['number_of_seasons'] = netflix['number_of_seasons'].fillna(0)\n",
    "plot_na(netflix)\n",
    "size_if_na_dropped(netflix)"
   ]
  },
  {
   "cell_type": "markdown",
   "metadata": {},
   "source": [
    "#### Dealing with Categorical Values\n",
    "There are a few categorical features in our data. To deal with them we will do the following\n",
    "- One hot encoding the binary values: Language, Type, Available Globally\n",
    "- Multi-hot encoding genre list"
   ]
  },
  {
   "cell_type": "code",
   "execution_count": 24,
   "metadata": {},
   "outputs": [
    {
     "data": {
      "text/html": [
       "<div>\n",
       "<style scoped>\n",
       "    .dataframe tbody tr th:only-of-type {\n",
       "        vertical-align: middle;\n",
       "    }\n",
       "\n",
       "    .dataframe tbody tr th {\n",
       "        vertical-align: top;\n",
       "    }\n",
       "\n",
       "    .dataframe thead th {\n",
       "        text-align: right;\n",
       "    }\n",
       "</style>\n",
       "<table border=\"1\" class=\"dataframe\">\n",
       "  <thead>\n",
       "    <tr style=\"text-align: right;\">\n",
       "      <th></th>\n",
       "      <th>show_title</th>\n",
       "      <th>weekly_hours_viewed</th>\n",
       "      <th>weekly_views</th>\n",
       "      <th>cumulative_weeks_in_top_10</th>\n",
       "      <th>runtime</th>\n",
       "      <th>number_of_seasons</th>\n",
       "      <th>release_date</th>\n",
       "      <th>genre</th>\n",
       "      <th>main_production</th>\n",
       "      <th>week</th>\n",
       "      <th>is_staggered_launch</th>\n",
       "      <th>language_English</th>\n",
       "      <th>language_Non-English</th>\n",
       "      <th>type_Films</th>\n",
       "      <th>type_TV</th>\n",
       "      <th>available_globally_No</th>\n",
       "      <th>available_globally_Yes</th>\n",
       "    </tr>\n",
       "  </thead>\n",
       "  <tbody>\n",
       "    <tr>\n",
       "      <th>0</th>\n",
       "      <td>'83</td>\n",
       "      <td>6.825000e+06</td>\n",
       "      <td>NaN</td>\n",
       "      <td>2</td>\n",
       "      <td>NaN</td>\n",
       "      <td>0.0</td>\n",
       "      <td>NaN</td>\n",
       "      <td>NaN</td>\n",
       "      <td>NaN</td>\n",
       "      <td>2022-04-03</td>\n",
       "      <td>False</td>\n",
       "      <td>0</td>\n",
       "      <td>1</td>\n",
       "      <td>1</td>\n",
       "      <td>0</td>\n",
       "      <td>1</td>\n",
       "      <td>0</td>\n",
       "    </tr>\n",
       "    <tr>\n",
       "      <th>1</th>\n",
       "      <td>10 Days of a Bad Man</td>\n",
       "      <td>6.900000e+06</td>\n",
       "      <td>3300000.0</td>\n",
       "      <td>2</td>\n",
       "      <td>2.0667</td>\n",
       "      <td>0.0</td>\n",
       "      <td>NaN</td>\n",
       "      <td>NaN</td>\n",
       "      <td>NaN</td>\n",
       "      <td>2023-08-27</td>\n",
       "      <td>False</td>\n",
       "      <td>0</td>\n",
       "      <td>1</td>\n",
       "      <td>1</td>\n",
       "      <td>0</td>\n",
       "      <td>0</td>\n",
       "      <td>0</td>\n",
       "    </tr>\n",
       "    <tr>\n",
       "      <th>2</th>\n",
       "      <td>10 Days of a Good Man</td>\n",
       "      <td>7.415000e+06</td>\n",
       "      <td>NaN</td>\n",
       "      <td>2</td>\n",
       "      <td>NaN</td>\n",
       "      <td>0.0</td>\n",
       "      <td>NaN</td>\n",
       "      <td>NaN</td>\n",
       "      <td>NaN</td>\n",
       "      <td>2023-03-12</td>\n",
       "      <td>False</td>\n",
       "      <td>0</td>\n",
       "      <td>1</td>\n",
       "      <td>1</td>\n",
       "      <td>0</td>\n",
       "      <td>0</td>\n",
       "      <td>0</td>\n",
       "    </tr>\n",
       "    <tr>\n",
       "      <th>3</th>\n",
       "      <td>1000 Miles from Christmas</td>\n",
       "      <td>6.795000e+06</td>\n",
       "      <td>NaN</td>\n",
       "      <td>2</td>\n",
       "      <td>NaN</td>\n",
       "      <td>0.0</td>\n",
       "      <td>NaN</td>\n",
       "      <td>NaN</td>\n",
       "      <td>NaN</td>\n",
       "      <td>2022-01-02</td>\n",
       "      <td>False</td>\n",
       "      <td>0</td>\n",
       "      <td>1</td>\n",
       "      <td>1</td>\n",
       "      <td>0</td>\n",
       "      <td>0</td>\n",
       "      <td>0</td>\n",
       "    </tr>\n",
       "    <tr>\n",
       "      <th>4</th>\n",
       "      <td>12 Strong</td>\n",
       "      <td>8.210000e+06</td>\n",
       "      <td>NaN</td>\n",
       "      <td>2</td>\n",
       "      <td>NaN</td>\n",
       "      <td>0.0</td>\n",
       "      <td>NaN</td>\n",
       "      <td>NaN</td>\n",
       "      <td>NaN</td>\n",
       "      <td>2022-07-24</td>\n",
       "      <td>False</td>\n",
       "      <td>1</td>\n",
       "      <td>0</td>\n",
       "      <td>1</td>\n",
       "      <td>0</td>\n",
       "      <td>1</td>\n",
       "      <td>0</td>\n",
       "    </tr>\n",
       "    <tr>\n",
       "      <th>...</th>\n",
       "      <td>...</td>\n",
       "      <td>...</td>\n",
       "      <td>...</td>\n",
       "      <td>...</td>\n",
       "      <td>...</td>\n",
       "      <td>...</td>\n",
       "      <td>...</td>\n",
       "      <td>...</td>\n",
       "      <td>...</td>\n",
       "      <td>...</td>\n",
       "      <td>...</td>\n",
       "      <td>...</td>\n",
       "      <td>...</td>\n",
       "      <td>...</td>\n",
       "      <td>...</td>\n",
       "      <td>...</td>\n",
       "      <td>...</td>\n",
       "    </tr>\n",
       "    <tr>\n",
       "      <th>1860</th>\n",
       "      <td>maboroshi</td>\n",
       "      <td>2.400000e+06</td>\n",
       "      <td>1300000.0</td>\n",
       "      <td>1</td>\n",
       "      <td>1.8500</td>\n",
       "      <td>0.0</td>\n",
       "      <td>NaN</td>\n",
       "      <td>NaN</td>\n",
       "      <td>NaN</td>\n",
       "      <td>2024-01-21</td>\n",
       "      <td>False</td>\n",
       "      <td>0</td>\n",
       "      <td>1</td>\n",
       "      <td>1</td>\n",
       "      <td>0</td>\n",
       "      <td>0</td>\n",
       "      <td>0</td>\n",
       "    </tr>\n",
       "    <tr>\n",
       "      <th>1861</th>\n",
       "      <td>¡Que viva México!</td>\n",
       "      <td>1.249250e+07</td>\n",
       "      <td>NaN</td>\n",
       "      <td>4</td>\n",
       "      <td>NaN</td>\n",
       "      <td>0.0</td>\n",
       "      <td>2023-05-11</td>\n",
       "      <td>NaN</td>\n",
       "      <td>NaN</td>\n",
       "      <td>2023-06-04</td>\n",
       "      <td>False</td>\n",
       "      <td>0</td>\n",
       "      <td>1</td>\n",
       "      <td>1</td>\n",
       "      <td>0</td>\n",
       "      <td>0</td>\n",
       "      <td>1</td>\n",
       "    </tr>\n",
       "    <tr>\n",
       "      <th>1862</th>\n",
       "      <td>Ìjọ̀gbọ̀n</td>\n",
       "      <td>4.950000e+06</td>\n",
       "      <td>2550000.0</td>\n",
       "      <td>2</td>\n",
       "      <td>1.9333</td>\n",
       "      <td>0.0</td>\n",
       "      <td>NaN</td>\n",
       "      <td>NaN</td>\n",
       "      <td>NaN</td>\n",
       "      <td>2023-10-22</td>\n",
       "      <td>False</td>\n",
       "      <td>0</td>\n",
       "      <td>1</td>\n",
       "      <td>1</td>\n",
       "      <td>0</td>\n",
       "      <td>0</td>\n",
       "      <td>0</td>\n",
       "    </tr>\n",
       "    <tr>\n",
       "      <th>1863</th>\n",
       "      <td>أصحاب ...ولا أعزّ</td>\n",
       "      <td>2.910000e+06</td>\n",
       "      <td>NaN</td>\n",
       "      <td>3</td>\n",
       "      <td>NaN</td>\n",
       "      <td>0.0</td>\n",
       "      <td>2022-01-20</td>\n",
       "      <td>NaN</td>\n",
       "      <td>NaN</td>\n",
       "      <td>2022-02-06</td>\n",
       "      <td>False</td>\n",
       "      <td>0</td>\n",
       "      <td>1</td>\n",
       "      <td>1</td>\n",
       "      <td>0</td>\n",
       "      <td>1</td>\n",
       "      <td>0</td>\n",
       "    </tr>\n",
       "    <tr>\n",
       "      <th>1864</th>\n",
       "      <td>비상선언</td>\n",
       "      <td>5.463333e+06</td>\n",
       "      <td>NaN</td>\n",
       "      <td>3</td>\n",
       "      <td>NaN</td>\n",
       "      <td>0.0</td>\n",
       "      <td>NaN</td>\n",
       "      <td>NaN</td>\n",
       "      <td>NaN</td>\n",
       "      <td>2023-04-16</td>\n",
       "      <td>False</td>\n",
       "      <td>0</td>\n",
       "      <td>1</td>\n",
       "      <td>1</td>\n",
       "      <td>0</td>\n",
       "      <td>1</td>\n",
       "      <td>0</td>\n",
       "    </tr>\n",
       "  </tbody>\n",
       "</table>\n",
       "<p>1865 rows × 17 columns</p>\n",
       "</div>"
      ],
      "text/plain": [
       "                     show_title  weekly_hours_viewed  weekly_views  \\\n",
       "0                           '83         6.825000e+06           NaN   \n",
       "1          10 Days of a Bad Man         6.900000e+06     3300000.0   \n",
       "2         10 Days of a Good Man         7.415000e+06           NaN   \n",
       "3     1000 Miles from Christmas         6.795000e+06           NaN   \n",
       "4                     12 Strong         8.210000e+06           NaN   \n",
       "...                         ...                  ...           ...   \n",
       "1860                  maboroshi         2.400000e+06     1300000.0   \n",
       "1861          ¡Que viva México!         1.249250e+07           NaN   \n",
       "1862                  Ìjọ̀gbọ̀n         4.950000e+06     2550000.0   \n",
       "1863          أصحاب ...ولا أعزّ         2.910000e+06           NaN   \n",
       "1864                       비상선언         5.463333e+06           NaN   \n",
       "\n",
       "      cumulative_weeks_in_top_10  runtime  number_of_seasons release_date  \\\n",
       "0                              2      NaN                0.0          NaN   \n",
       "1                              2   2.0667                0.0          NaN   \n",
       "2                              2      NaN                0.0          NaN   \n",
       "3                              2      NaN                0.0          NaN   \n",
       "4                              2      NaN                0.0          NaN   \n",
       "...                          ...      ...                ...          ...   \n",
       "1860                           1   1.8500                0.0          NaN   \n",
       "1861                           4      NaN                0.0   2023-05-11   \n",
       "1862                           2   1.9333                0.0          NaN   \n",
       "1863                           3      NaN                0.0   2022-01-20   \n",
       "1864                           3      NaN                0.0          NaN   \n",
       "\n",
       "      genre main_production        week  is_staggered_launch  \\\n",
       "0       NaN             NaN  2022-04-03                False   \n",
       "1       NaN             NaN  2023-08-27                False   \n",
       "2       NaN             NaN  2023-03-12                False   \n",
       "3       NaN             NaN  2022-01-02                False   \n",
       "4       NaN             NaN  2022-07-24                False   \n",
       "...     ...             ...         ...                  ...   \n",
       "1860    NaN             NaN  2024-01-21                False   \n",
       "1861    NaN             NaN  2023-06-04                False   \n",
       "1862    NaN             NaN  2023-10-22                False   \n",
       "1863    NaN             NaN  2022-02-06                False   \n",
       "1864    NaN             NaN  2023-04-16                False   \n",
       "\n",
       "      language_English  language_Non-English  type_Films  type_TV  \\\n",
       "0                    0                     1           1        0   \n",
       "1                    0                     1           1        0   \n",
       "2                    0                     1           1        0   \n",
       "3                    0                     1           1        0   \n",
       "4                    1                     0           1        0   \n",
       "...                ...                   ...         ...      ...   \n",
       "1860                 0                     1           1        0   \n",
       "1861                 0                     1           1        0   \n",
       "1862                 0                     1           1        0   \n",
       "1863                 0                     1           1        0   \n",
       "1864                 0                     1           1        0   \n",
       "\n",
       "      available_globally_No  available_globally_Yes  \n",
       "0                         1                       0  \n",
       "1                         0                       0  \n",
       "2                         0                       0  \n",
       "3                         0                       0  \n",
       "4                         1                       0  \n",
       "...                     ...                     ...  \n",
       "1860                      0                       0  \n",
       "1861                      0                       1  \n",
       "1862                      0                       0  \n",
       "1863                      1                       0  \n",
       "1864                      1                       0  \n",
       "\n",
       "[1865 rows x 17 columns]"
      ]
     },
     "execution_count": 24,
     "metadata": {},
     "output_type": "execute_result"
    }
   ],
   "source": [
    "encoded_df= pd.get_dummies(netflix[['language','type','is_staggered_launch','available_globally' ]])\n",
    "netflix = pd.concat([netflix.drop(columns=['language','type','is_staggered_launch','available_globally' ]), encoded_df], axis=1)\n",
    "netflix"
   ]
  },
  {
   "cell_type": "markdown",
   "metadata": {},
   "source": [
    "#### Dealing with Missing Data\n"
   ]
  },
  {
   "cell_type": "code",
   "execution_count": 25,
   "metadata": {},
   "outputs": [],
   "source": [
    "from numpy.linalg import svd"
   ]
  },
  {
   "cell_type": "code",
   "execution_count": 26,
   "metadata": {},
   "outputs": [],
   "source": [
    "netflix_fill=netflix.copy()"
   ]
  },
  {
   "cell_type": "code",
   "execution_count": 27,
   "metadata": {},
   "outputs": [],
   "source": [
    "#Imputing runtime values based on content type\n",
    "meanfilm=netflix[netflix['type_Films']==1]['runtime'].mean()\n",
    "netflix_fill.loc[netflix_fill['type_Films'] == 1, 'runtime'] = netflix.loc[netflix['type_Films'] == 1, 'runtime'].fillna(meanfilm)\n",
    "meantv=netflix[netflix['type_Films']==0]['runtime'].mean()\n",
    "netflix_fill.loc[netflix_fill['type_Films'] == 0, 'runtime'] = netflix.loc[netflix['type_Films'] == 0, 'runtime'].fillna(meantv)\n",
    "\n",
    "#Imputing availably globally\n",
    "netflix_fill['available_globally_Yes'] = netflix_fill.apply(lambda row: True if row['language_Non-English'] == True else row['available_globally_Yes'], axis=1)"
   ]
  },
  {
   "cell_type": "code",
   "execution_count": 28,
   "metadata": {},
   "outputs": [],
   "source": [
    "netflix_np=netflix_fill[['weekly_views',\n",
    "       'cumulative_weeks_in_top_10', 'runtime', 'number_of_seasons',\n",
    "       'is_staggered_launch', 'language_English', 'language_Non-English',\n",
    "       'type_Films', 'type_TV', 'available_globally_No',\n",
    "       'available_globally_Yes']].to_numpy()\n",
    "netflix_np=netflix_np.astype(float)"
   ]
  },
  {
   "cell_type": "code",
   "execution_count": 29,
   "metadata": {},
   "outputs": [],
   "source": [
    "column_means = np.nanmean(netflix_np, axis=0)\n",
    "nan_indices = np.isnan(netflix_np)\n",
    "netflix_np[nan_indices] = np.take(column_means, np.where(nan_indices)[1])"
   ]
  },
  {
   "cell_type": "code",
   "execution_count": 30,
   "metadata": {},
   "outputs": [],
   "source": [
    "netflix_copy = netflix[['weekly_views',\n",
    "       'cumulative_weeks_in_top_10', 'runtime', 'number_of_seasons',\n",
    "       'is_staggered_launch', 'language_English', 'language_Non-English',\n",
    "       'type_Films', 'type_TV', 'available_globally_No',\n",
    "       'available_globally_Yes']].to_numpy()\n",
    "netflix_copy=netflix_copy.astype(float)\n",
    "netflix_copy2=netflix_copy.copy()"
   ]
  },
  {
   "cell_type": "code",
   "execution_count": 31,
   "metadata": {},
   "outputs": [],
   "source": [
    "#Normalize ** DONT KNOW \n",
    "normalized_matrix = (netflix_np - np.mean(netflix_np, axis=0)) / np.std(netflix_np, axis=0)\n",
    "U, S, VT = svd(normalized_matrix)\n",
    "\n",
    "rank = 5\n",
    "U_ranked = U[:, :rank]\n",
    "S_ranked = np.diag(S[:rank])\n",
    "VT_ranked = VT[:rank, :]\n",
    "reconstructed_matrix = U_ranked.dot(S_ranked).dot(VT_ranked)\n",
    "\n",
    "denormalized_matrix = (reconstructed_matrix * np.std(netflix_np, axis=0)) + np.mean(netflix_np, axis=0)\n",
    "\n",
    "missing_indices = np.isnan(netflix_copy)\n",
    "netflix_copy[missing_indices] = denormalized_matrix[missing_indices]\n",
    "\n"
   ]
  },
  {
   "cell_type": "code",
   "execution_count": 32,
   "metadata": {},
   "outputs": [
    {
     "data": {
      "text/html": [
       "<div>\n",
       "<style scoped>\n",
       "    .dataframe tbody tr th:only-of-type {\n",
       "        vertical-align: middle;\n",
       "    }\n",
       "\n",
       "    .dataframe tbody tr th {\n",
       "        vertical-align: top;\n",
       "    }\n",
       "\n",
       "    .dataframe thead th {\n",
       "        text-align: right;\n",
       "    }\n",
       "</style>\n",
       "<table border=\"1\" class=\"dataframe\">\n",
       "  <thead>\n",
       "    <tr style=\"text-align: right;\">\n",
       "      <th></th>\n",
       "      <th>weekly_views</th>\n",
       "      <th>cumulative_weeks_in_top_10</th>\n",
       "      <th>runtime</th>\n",
       "      <th>number_of_seasons</th>\n",
       "      <th>is_staggered_launch</th>\n",
       "      <th>language_English</th>\n",
       "      <th>language_Non-English</th>\n",
       "      <th>type_Films</th>\n",
       "      <th>type_TV</th>\n",
       "      <th>available_globally_No</th>\n",
       "      <th>available_globally_Yes</th>\n",
       "      <th>weekly_hours_viewed</th>\n",
       "    </tr>\n",
       "  </thead>\n",
       "  <tbody>\n",
       "    <tr>\n",
       "      <th>0</th>\n",
       "      <td>2.530794e+06</td>\n",
       "      <td>2.0</td>\n",
       "      <td>1.465588</td>\n",
       "      <td>0.0</td>\n",
       "      <td>0.0</td>\n",
       "      <td>0.0</td>\n",
       "      <td>1.0</td>\n",
       "      <td>1.0</td>\n",
       "      <td>0.0</td>\n",
       "      <td>1.0</td>\n",
       "      <td>0.0</td>\n",
       "      <td>6825000.0</td>\n",
       "    </tr>\n",
       "    <tr>\n",
       "      <th>1</th>\n",
       "      <td>3.300000e+06</td>\n",
       "      <td>2.0</td>\n",
       "      <td>2.066700</td>\n",
       "      <td>0.0</td>\n",
       "      <td>0.0</td>\n",
       "      <td>0.0</td>\n",
       "      <td>1.0</td>\n",
       "      <td>1.0</td>\n",
       "      <td>0.0</td>\n",
       "      <td>0.0</td>\n",
       "      <td>0.0</td>\n",
       "      <td>6900000.0</td>\n",
       "    </tr>\n",
       "    <tr>\n",
       "      <th>2</th>\n",
       "      <td>3.670209e+06</td>\n",
       "      <td>2.0</td>\n",
       "      <td>1.835480</td>\n",
       "      <td>0.0</td>\n",
       "      <td>0.0</td>\n",
       "      <td>0.0</td>\n",
       "      <td>1.0</td>\n",
       "      <td>1.0</td>\n",
       "      <td>0.0</td>\n",
       "      <td>0.0</td>\n",
       "      <td>0.0</td>\n",
       "      <td>7415000.0</td>\n",
       "    </tr>\n",
       "    <tr>\n",
       "      <th>3</th>\n",
       "      <td>3.670209e+06</td>\n",
       "      <td>2.0</td>\n",
       "      <td>1.835480</td>\n",
       "      <td>0.0</td>\n",
       "      <td>0.0</td>\n",
       "      <td>0.0</td>\n",
       "      <td>1.0</td>\n",
       "      <td>1.0</td>\n",
       "      <td>0.0</td>\n",
       "      <td>0.0</td>\n",
       "      <td>0.0</td>\n",
       "      <td>6795000.0</td>\n",
       "    </tr>\n",
       "    <tr>\n",
       "      <th>4</th>\n",
       "      <td>3.629453e+06</td>\n",
       "      <td>2.0</td>\n",
       "      <td>1.428049</td>\n",
       "      <td>0.0</td>\n",
       "      <td>0.0</td>\n",
       "      <td>1.0</td>\n",
       "      <td>0.0</td>\n",
       "      <td>1.0</td>\n",
       "      <td>0.0</td>\n",
       "      <td>1.0</td>\n",
       "      <td>0.0</td>\n",
       "      <td>8210000.0</td>\n",
       "    </tr>\n",
       "  </tbody>\n",
       "</table>\n",
       "</div>"
      ],
      "text/plain": [
       "   weekly_views  cumulative_weeks_in_top_10   runtime  number_of_seasons  \\\n",
       "0  2.530794e+06                         2.0  1.465588                0.0   \n",
       "1  3.300000e+06                         2.0  2.066700                0.0   \n",
       "2  3.670209e+06                         2.0  1.835480                0.0   \n",
       "3  3.670209e+06                         2.0  1.835480                0.0   \n",
       "4  3.629453e+06                         2.0  1.428049                0.0   \n",
       "\n",
       "   is_staggered_launch  language_English  language_Non-English  type_Films  \\\n",
       "0                  0.0               0.0                   1.0         1.0   \n",
       "1                  0.0               0.0                   1.0         1.0   \n",
       "2                  0.0               0.0                   1.0         1.0   \n",
       "3                  0.0               0.0                   1.0         1.0   \n",
       "4                  0.0               1.0                   0.0         1.0   \n",
       "\n",
       "   type_TV  available_globally_No  available_globally_Yes  weekly_hours_viewed  \n",
       "0      0.0                    1.0                     0.0            6825000.0  \n",
       "1      0.0                    0.0                     0.0            6900000.0  \n",
       "2      0.0                    0.0                     0.0            7415000.0  \n",
       "3      0.0                    0.0                     0.0            6795000.0  \n",
       "4      0.0                    1.0                     0.0            8210000.0  "
      ]
     },
     "execution_count": 32,
     "metadata": {},
     "output_type": "execute_result"
    }
   ],
   "source": [
    "netflix_complete = pd.DataFrame(netflix_copy, columns=['weekly_views',\n",
    "                                                  'cumulative_weeks_in_top_10', 'runtime', \n",
    "                                                  'number_of_seasons', 'is_staggered_launch', \n",
    "                                                  'language_English', 'language_Non-English', \n",
    "                                                  'type_Films', 'type_TV', \n",
    "                                                  'available_globally_No', 'available_globally_Yes'])\n",
    "netflix_complete['weekly_hours_viewed']=netflix['weekly_hours_viewed']\n",
    "netflix_complete.head()"
   ]
  },
  {
   "cell_type": "code",
   "execution_count": 33,
   "metadata": {},
   "outputs": [],
   "source": [
    "#double check this but i dropped these columns because they are one hot encoded so we shouldn't need both\n",
    "netflix_complete=netflix_complete.drop(columns=['language_Non-English', 'type_TV', 'available_globally_Yes'])"
   ]
  },
  {
   "cell_type": "code",
   "execution_count": 34,
   "metadata": {},
   "outputs": [],
   "source": [
    "netflix=netflix_complete.copy()"
   ]
  },
  {
   "cell_type": "code",
   "execution_count": 35,
   "metadata": {},
   "outputs": [
    {
     "data": {
      "text/html": [
       "<div>\n",
       "<style scoped>\n",
       "    .dataframe tbody tr th:only-of-type {\n",
       "        vertical-align: middle;\n",
       "    }\n",
       "\n",
       "    .dataframe tbody tr th {\n",
       "        vertical-align: top;\n",
       "    }\n",
       "\n",
       "    .dataframe thead th {\n",
       "        text-align: right;\n",
       "    }\n",
       "</style>\n",
       "<table border=\"1\" class=\"dataframe\">\n",
       "  <thead>\n",
       "    <tr style=\"text-align: right;\">\n",
       "      <th></th>\n",
       "      <th>weekly_views</th>\n",
       "      <th>cumulative_weeks_in_top_10</th>\n",
       "      <th>runtime</th>\n",
       "      <th>number_of_seasons</th>\n",
       "      <th>is_staggered_launch</th>\n",
       "      <th>language_English</th>\n",
       "      <th>type_Films</th>\n",
       "      <th>available_globally_No</th>\n",
       "      <th>weekly_hours_viewed</th>\n",
       "    </tr>\n",
       "  </thead>\n",
       "  <tbody>\n",
       "    <tr>\n",
       "      <th>0</th>\n",
       "      <td>2.530794e+06</td>\n",
       "      <td>2.0</td>\n",
       "      <td>1.465588</td>\n",
       "      <td>0.0</td>\n",
       "      <td>0.0</td>\n",
       "      <td>0.0</td>\n",
       "      <td>1.0</td>\n",
       "      <td>1.0</td>\n",
       "      <td>6.825000e+06</td>\n",
       "    </tr>\n",
       "    <tr>\n",
       "      <th>1</th>\n",
       "      <td>3.300000e+06</td>\n",
       "      <td>2.0</td>\n",
       "      <td>2.066700</td>\n",
       "      <td>0.0</td>\n",
       "      <td>0.0</td>\n",
       "      <td>0.0</td>\n",
       "      <td>1.0</td>\n",
       "      <td>0.0</td>\n",
       "      <td>6.900000e+06</td>\n",
       "    </tr>\n",
       "    <tr>\n",
       "      <th>2</th>\n",
       "      <td>3.670209e+06</td>\n",
       "      <td>2.0</td>\n",
       "      <td>1.835480</td>\n",
       "      <td>0.0</td>\n",
       "      <td>0.0</td>\n",
       "      <td>0.0</td>\n",
       "      <td>1.0</td>\n",
       "      <td>0.0</td>\n",
       "      <td>7.415000e+06</td>\n",
       "    </tr>\n",
       "    <tr>\n",
       "      <th>3</th>\n",
       "      <td>3.670209e+06</td>\n",
       "      <td>2.0</td>\n",
       "      <td>1.835480</td>\n",
       "      <td>0.0</td>\n",
       "      <td>0.0</td>\n",
       "      <td>0.0</td>\n",
       "      <td>1.0</td>\n",
       "      <td>0.0</td>\n",
       "      <td>6.795000e+06</td>\n",
       "    </tr>\n",
       "    <tr>\n",
       "      <th>4</th>\n",
       "      <td>3.629453e+06</td>\n",
       "      <td>2.0</td>\n",
       "      <td>1.428049</td>\n",
       "      <td>0.0</td>\n",
       "      <td>0.0</td>\n",
       "      <td>1.0</td>\n",
       "      <td>1.0</td>\n",
       "      <td>1.0</td>\n",
       "      <td>8.210000e+06</td>\n",
       "    </tr>\n",
       "    <tr>\n",
       "      <th>...</th>\n",
       "      <td>...</td>\n",
       "      <td>...</td>\n",
       "      <td>...</td>\n",
       "      <td>...</td>\n",
       "      <td>...</td>\n",
       "      <td>...</td>\n",
       "      <td>...</td>\n",
       "      <td>...</td>\n",
       "      <td>...</td>\n",
       "    </tr>\n",
       "    <tr>\n",
       "      <th>1860</th>\n",
       "      <td>1.300000e+06</td>\n",
       "      <td>1.0</td>\n",
       "      <td>1.850000</td>\n",
       "      <td>0.0</td>\n",
       "      <td>0.0</td>\n",
       "      <td>0.0</td>\n",
       "      <td>1.0</td>\n",
       "      <td>0.0</td>\n",
       "      <td>2.400000e+06</td>\n",
       "    </tr>\n",
       "    <tr>\n",
       "      <th>1861</th>\n",
       "      <td>4.173987e+06</td>\n",
       "      <td>4.0</td>\n",
       "      <td>1.865367</td>\n",
       "      <td>0.0</td>\n",
       "      <td>0.0</td>\n",
       "      <td>0.0</td>\n",
       "      <td>1.0</td>\n",
       "      <td>0.0</td>\n",
       "      <td>1.249250e+07</td>\n",
       "    </tr>\n",
       "    <tr>\n",
       "      <th>1862</th>\n",
       "      <td>2.550000e+06</td>\n",
       "      <td>2.0</td>\n",
       "      <td>1.933300</td>\n",
       "      <td>0.0</td>\n",
       "      <td>0.0</td>\n",
       "      <td>0.0</td>\n",
       "      <td>1.0</td>\n",
       "      <td>0.0</td>\n",
       "      <td>4.950000e+06</td>\n",
       "    </tr>\n",
       "    <tr>\n",
       "      <th>1863</th>\n",
       "      <td>2.782683e+06</td>\n",
       "      <td>3.0</td>\n",
       "      <td>1.480532</td>\n",
       "      <td>0.0</td>\n",
       "      <td>0.0</td>\n",
       "      <td>0.0</td>\n",
       "      <td>1.0</td>\n",
       "      <td>1.0</td>\n",
       "      <td>2.910000e+06</td>\n",
       "    </tr>\n",
       "    <tr>\n",
       "      <th>1864</th>\n",
       "      <td>2.782683e+06</td>\n",
       "      <td>3.0</td>\n",
       "      <td>1.480532</td>\n",
       "      <td>0.0</td>\n",
       "      <td>0.0</td>\n",
       "      <td>0.0</td>\n",
       "      <td>1.0</td>\n",
       "      <td>1.0</td>\n",
       "      <td>5.463333e+06</td>\n",
       "    </tr>\n",
       "  </tbody>\n",
       "</table>\n",
       "<p>1865 rows × 9 columns</p>\n",
       "</div>"
      ],
      "text/plain": [
       "      weekly_views  cumulative_weeks_in_top_10   runtime  number_of_seasons  \\\n",
       "0     2.530794e+06                         2.0  1.465588                0.0   \n",
       "1     3.300000e+06                         2.0  2.066700                0.0   \n",
       "2     3.670209e+06                         2.0  1.835480                0.0   \n",
       "3     3.670209e+06                         2.0  1.835480                0.0   \n",
       "4     3.629453e+06                         2.0  1.428049                0.0   \n",
       "...            ...                         ...       ...                ...   \n",
       "1860  1.300000e+06                         1.0  1.850000                0.0   \n",
       "1861  4.173987e+06                         4.0  1.865367                0.0   \n",
       "1862  2.550000e+06                         2.0  1.933300                0.0   \n",
       "1863  2.782683e+06                         3.0  1.480532                0.0   \n",
       "1864  2.782683e+06                         3.0  1.480532                0.0   \n",
       "\n",
       "      is_staggered_launch  language_English  type_Films  \\\n",
       "0                     0.0               0.0         1.0   \n",
       "1                     0.0               0.0         1.0   \n",
       "2                     0.0               0.0         1.0   \n",
       "3                     0.0               0.0         1.0   \n",
       "4                     0.0               1.0         1.0   \n",
       "...                   ...               ...         ...   \n",
       "1860                  0.0               0.0         1.0   \n",
       "1861                  0.0               0.0         1.0   \n",
       "1862                  0.0               0.0         1.0   \n",
       "1863                  0.0               0.0         1.0   \n",
       "1864                  0.0               0.0         1.0   \n",
       "\n",
       "      available_globally_No  weekly_hours_viewed  \n",
       "0                       1.0         6.825000e+06  \n",
       "1                       0.0         6.900000e+06  \n",
       "2                       0.0         7.415000e+06  \n",
       "3                       0.0         6.795000e+06  \n",
       "4                       1.0         8.210000e+06  \n",
       "...                     ...                  ...  \n",
       "1860                    0.0         2.400000e+06  \n",
       "1861                    0.0         1.249250e+07  \n",
       "1862                    0.0         4.950000e+06  \n",
       "1863                    1.0         2.910000e+06  \n",
       "1864                    1.0         5.463333e+06  \n",
       "\n",
       "[1865 rows x 9 columns]"
      ]
     },
     "execution_count": 35,
     "metadata": {},
     "output_type": "execute_result"
    }
   ],
   "source": [
    "netflix"
   ]
  },
  {
   "cell_type": "markdown",
   "metadata": {},
   "source": [
    "## Modeling\n",
    "Now that the feature engineering is completed. We will explore different models to find the best fit to predict our success variable\n",
    "We will explore\n",
    "- Linear Regression\n",
    "- Polynomial Fits\n",
    "- Regression Trees"
   ]
  },
  {
   "cell_type": "markdown",
   "metadata": {},
   "source": [
    "#### Linear Model"
   ]
  },
  {
   "cell_type": "code",
   "execution_count": 36,
   "metadata": {},
   "outputs": [
    {
     "name": "stdout",
     "output_type": "stream",
     "text": [
      "shape of X_train  (1492, 8)\n",
      "shape of y_train  (1492,)\n",
      "shape of X_test  (373, 8)\n",
      "shape of y_test  (373,)\n"
     ]
    }
   ],
   "source": [
    "#Linear Regression \n",
    "from sklearn.linear_model import LinearRegression\n",
    "from sklearn.model_selection import train_test_split\n",
    "\n",
    "y = netflix[\"weekly_hours_viewed\"]\n",
    "X = netflix.copy().drop(['weekly_hours_viewed'], axis=1)\n",
    "\n",
    "X_train, X_test, y_train, y_test = train_test_split(X, y, test_size=0.2, random_state=42)\n",
    "print(\"shape of X_train \", X_train.shape)\n",
    "print(\"shape of y_train \", y_train.shape)\n",
    "print(\"shape of X_test \", X_test.shape)\n",
    "print(\"shape of y_test \", y_test.shape)\n",
    "\n"
   ]
  },
  {
   "cell_type": "code",
   "execution_count": 37,
   "metadata": {},
   "outputs": [
    {
     "data": {
      "text/html": [
       "<div>\n",
       "<style scoped>\n",
       "    .dataframe tbody tr th:only-of-type {\n",
       "        vertical-align: middle;\n",
       "    }\n",
       "\n",
       "    .dataframe tbody tr th {\n",
       "        vertical-align: top;\n",
       "    }\n",
       "\n",
       "    .dataframe thead th {\n",
       "        text-align: right;\n",
       "    }\n",
       "</style>\n",
       "<table border=\"1\" class=\"dataframe\">\n",
       "  <thead>\n",
       "    <tr style=\"text-align: right;\">\n",
       "      <th></th>\n",
       "      <th>weekly_views</th>\n",
       "      <th>cumulative_weeks_in_top_10</th>\n",
       "      <th>runtime</th>\n",
       "      <th>number_of_seasons</th>\n",
       "      <th>is_staggered_launch</th>\n",
       "      <th>language_English</th>\n",
       "      <th>type_Films</th>\n",
       "      <th>available_globally_No</th>\n",
       "    </tr>\n",
       "  </thead>\n",
       "  <tbody>\n",
       "    <tr>\n",
       "      <th>898</th>\n",
       "      <td>3.500000e+06</td>\n",
       "      <td>1.0</td>\n",
       "      <td>1.650000</td>\n",
       "      <td>0.0</td>\n",
       "      <td>0.0</td>\n",
       "      <td>1.0</td>\n",
       "      <td>1.0</td>\n",
       "      <td>0.0</td>\n",
       "    </tr>\n",
       "    <tr>\n",
       "      <th>244</th>\n",
       "      <td>4.516979e+06</td>\n",
       "      <td>1.0</td>\n",
       "      <td>1.782997</td>\n",
       "      <td>0.0</td>\n",
       "      <td>0.0</td>\n",
       "      <td>1.0</td>\n",
       "      <td>1.0</td>\n",
       "      <td>0.0</td>\n",
       "    </tr>\n",
       "    <tr>\n",
       "      <th>710</th>\n",
       "      <td>4.900000e+06</td>\n",
       "      <td>1.0</td>\n",
       "      <td>1.766700</td>\n",
       "      <td>0.0</td>\n",
       "      <td>0.0</td>\n",
       "      <td>1.0</td>\n",
       "      <td>1.0</td>\n",
       "      <td>1.0</td>\n",
       "    </tr>\n",
       "    <tr>\n",
       "      <th>1190</th>\n",
       "      <td>3.124727e+06</td>\n",
       "      <td>3.0</td>\n",
       "      <td>5.227822</td>\n",
       "      <td>0.0</td>\n",
       "      <td>0.0</td>\n",
       "      <td>0.0</td>\n",
       "      <td>0.0</td>\n",
       "      <td>0.0</td>\n",
       "    </tr>\n",
       "    <tr>\n",
       "      <th>720</th>\n",
       "      <td>2.620949e+06</td>\n",
       "      <td>1.0</td>\n",
       "      <td>5.197934</td>\n",
       "      <td>0.0</td>\n",
       "      <td>0.0</td>\n",
       "      <td>0.0</td>\n",
       "      <td>0.0</td>\n",
       "      <td>0.0</td>\n",
       "    </tr>\n",
       "    <tr>\n",
       "      <th>...</th>\n",
       "      <td>...</td>\n",
       "      <td>...</td>\n",
       "      <td>...</td>\n",
       "      <td>...</td>\n",
       "      <td>...</td>\n",
       "      <td>...</td>\n",
       "      <td>...</td>\n",
       "      <td>...</td>\n",
       "    </tr>\n",
       "    <tr>\n",
       "      <th>1130</th>\n",
       "      <td>4.876148e+06</td>\n",
       "      <td>6.0</td>\n",
       "      <td>5.375531</td>\n",
       "      <td>0.0</td>\n",
       "      <td>0.0</td>\n",
       "      <td>1.0</td>\n",
       "      <td>0.0</td>\n",
       "      <td>0.0</td>\n",
       "    </tr>\n",
       "    <tr>\n",
       "      <th>1294</th>\n",
       "      <td>3.719608e+06</td>\n",
       "      <td>1.0</td>\n",
       "      <td>5.160395</td>\n",
       "      <td>0.0</td>\n",
       "      <td>0.0</td>\n",
       "      <td>1.0</td>\n",
       "      <td>0.0</td>\n",
       "      <td>0.0</td>\n",
       "    </tr>\n",
       "    <tr>\n",
       "      <th>860</th>\n",
       "      <td>4.190000e+06</td>\n",
       "      <td>7.0</td>\n",
       "      <td>8.400010</td>\n",
       "      <td>0.0</td>\n",
       "      <td>0.0</td>\n",
       "      <td>1.0</td>\n",
       "      <td>0.0</td>\n",
       "      <td>0.0</td>\n",
       "    </tr>\n",
       "    <tr>\n",
       "      <th>1459</th>\n",
       "      <td>5.643615e+06</td>\n",
       "      <td>13.0</td>\n",
       "      <td>5.377257</td>\n",
       "      <td>0.0</td>\n",
       "      <td>0.0</td>\n",
       "      <td>0.0</td>\n",
       "      <td>0.0</td>\n",
       "      <td>0.0</td>\n",
       "    </tr>\n",
       "    <tr>\n",
       "      <th>1126</th>\n",
       "      <td>4.768868e+06</td>\n",
       "      <td>2.0</td>\n",
       "      <td>1.797941</td>\n",
       "      <td>0.0</td>\n",
       "      <td>0.0</td>\n",
       "      <td>1.0</td>\n",
       "      <td>1.0</td>\n",
       "      <td>0.0</td>\n",
       "    </tr>\n",
       "  </tbody>\n",
       "</table>\n",
       "<p>1492 rows × 8 columns</p>\n",
       "</div>"
      ],
      "text/plain": [
       "      weekly_views  cumulative_weeks_in_top_10   runtime  number_of_seasons  \\\n",
       "898   3.500000e+06                         1.0  1.650000                0.0   \n",
       "244   4.516979e+06                         1.0  1.782997                0.0   \n",
       "710   4.900000e+06                         1.0  1.766700                0.0   \n",
       "1190  3.124727e+06                         3.0  5.227822                0.0   \n",
       "720   2.620949e+06                         1.0  5.197934                0.0   \n",
       "...            ...                         ...       ...                ...   \n",
       "1130  4.876148e+06                         6.0  5.375531                0.0   \n",
       "1294  3.719608e+06                         1.0  5.160395                0.0   \n",
       "860   4.190000e+06                         7.0  8.400010                0.0   \n",
       "1459  5.643615e+06                        13.0  5.377257                0.0   \n",
       "1126  4.768868e+06                         2.0  1.797941                0.0   \n",
       "\n",
       "      is_staggered_launch  language_English  type_Films  available_globally_No  \n",
       "898                   0.0               1.0         1.0                    0.0  \n",
       "244                   0.0               1.0         1.0                    0.0  \n",
       "710                   0.0               1.0         1.0                    1.0  \n",
       "1190                  0.0               0.0         0.0                    0.0  \n",
       "720                   0.0               0.0         0.0                    0.0  \n",
       "...                   ...               ...         ...                    ...  \n",
       "1130                  0.0               1.0         0.0                    0.0  \n",
       "1294                  0.0               1.0         0.0                    0.0  \n",
       "860                   0.0               1.0         0.0                    0.0  \n",
       "1459                  0.0               0.0         0.0                    0.0  \n",
       "1126                  0.0               1.0         1.0                    0.0  \n",
       "\n",
       "[1492 rows x 8 columns]"
      ]
     },
     "execution_count": 37,
     "metadata": {},
     "output_type": "execute_result"
    }
   ],
   "source": [
    "X_train"
   ]
  },
  {
   "cell_type": "code",
   "execution_count": 38,
   "metadata": {},
   "outputs": [],
   "source": [
    "linear_model = LinearRegression(fit_intercept=True).fit(X_train,y_train)\n",
    "linear_pred = linear_model.predict(X_train)"
   ]
  },
  {
   "cell_type": "code",
   "execution_count": 39,
   "metadata": {},
   "outputs": [],
   "source": [
    "#Vizualizations for the linear model made \n",
    "\n",
    "def plot_predicted_v_actual(y_train, y_pred):\n",
    "  #helps us understand the relationship between the predicted and the actual values\n",
    "  plt.scatter(y_train, y_pred)\n",
    "  plt.plot([min(y_train), max(y_train)], [min(y_train), max(y_train)], color='red', linestyle='--')\n",
    "  plt.xlabel('Actual Values')\n",
    "  plt.ylabel('Predicted Values')\n",
    "  plt.title('Actual vs. Predicted Values')\n",
    "  plt.show()\n",
    "  \n",
    "\n",
    "def plot_residuals (y, y_pred):\n",
    "  residuals = y - y_pred\n",
    "  plt.scatter(y_pred, residuals)\n",
    "  plt.xlabel(\"Predicted Values\")\n",
    "  plt.ylabel(\"Residuals\")\n",
    "  plt.title(\"Residual Plot\")\n",
    "  plt.axhline(y=0, color='r', linestyle='-')\n",
    "  plt.show()\n"
   ]
  },
  {
   "cell_type": "code",
   "execution_count": 40,
   "metadata": {},
   "outputs": [
    {
     "data": {
      "image/png": "[encoded data removed]",
      "text/plain": [
       "<Figure size 432x288 with 1 Axes>"
      ]
     },
     "metadata": {},
     "output_type": "display_data"
    },
    {
     "data": {
      "image/png": "[encoded data removed]",
      "text/plain": [
       "<Figure size 432x288 with 1 Axes>"
      ]
     },
     "metadata": {},
     "output_type": "display_data"
    }
   ],
   "source": [
    "plot_predicted_v_actual(y_train, linear_pred)\n",
    "plot_residuals(y_train, linear_pred)\n"
   ]
  },
  {
   "cell_type": "markdown",
   "metadata": {},
   "source": [
    "The residual plot informs us that the residual (difference between the predicted and actual value) increases as the predicted values increases in size. This is a symptom of heteroscedasticity (https://www.qualtrics.com/support/stats-iq/analyses/regression-guides/interpreting-residual-plots-improve-regression/). Hence, we will employ regression techinques to reduce this. \n"
   ]
  },
  {
   "cell_type": "code",
   "execution_count": 41,
   "metadata": {},
   "outputs": [
    {
     "name": "stdout",
     "output_type": "stream",
     "text": [
      "linear R^2 score:  0.5605274033764223\n",
      "linear MSE score:  60013795240291.54\n",
      "Cross-Validation Results (Accuracy): [0.64996453 0.57565537 0.41547032 0.67342388 0.5953813  0.59070962\n",
      " 0.50424602 0.53634601 0.55372164 0.51100335]\n",
      "0.56 accuracy with a standard deviation of 0.07\n"
     ]
    }
   ],
   "source": [
    "from sklearn.metrics import r2_score, mean_squared_error\n",
    "#calculating the R-squared score \n",
    "r_squared_lin = r2_score(y_train, linear_pred)\n",
    "print(\"linear R^2 score: \", r_squared_lin)\n",
    "\n",
    "#calculating the mean squared error(MSE)\n",
    "mse_lin = mean_squared_error(y_train, linear_pred)\n",
    "print(\"linear MSE score: \", mse_lin) #whoops we were printing out the r2 score again here\n",
    "\n",
    "#https://www.geeksforgeeks.org/cross-validation-machine-learning/\n",
    "from sklearn.model_selection import cross_val_score, KFold\n",
    "num_folds = 10\n",
    "kf = KFold(n_splits=num_folds, shuffle=True, random_state=42)\n",
    "cross_val_results_lin = cross_val_score(LinearRegression(), X_train, y_train, cv=kf)\n",
    "print(f'Cross-Validation Results (Accuracy): {cross_val_results_lin}')\n",
    "print(\"%0.2f accuracy with a standard deviation of %0.2f\" % (cross_val_results_lin.mean(), cross_val_results_lin.std()))\n",
    "\n"
   ]
  },
  {
   "cell_type": "markdown",
   "metadata": {},
   "source": [
    "### Testing for the present of multicolinearity within features to reduce dimensionality within X "
   ]
  },
  {
   "cell_type": "code",
   "execution_count": 42,
   "metadata": {},
   "outputs": [],
   "source": [
    "from statsmodels.stats.outliers_influence import variance_inflation_factor\n",
    "# calculating VIF for each feature \n",
    "vif_data = pd.DataFrame() \n",
    "vif_data[\"feature\"] = X.columns \n",
    "vif_data[\"VIF\"] = [variance_inflation_factor(X_train.values, i) \n",
    "                          for i in range(len(X_train.columns))] \n"
   ]
  },
  {
   "cell_type": "code",
   "execution_count": 43,
   "metadata": {},
   "outputs": [
    {
     "data": {
      "text/html": [
       "<div>\n",
       "<style scoped>\n",
       "    .dataframe tbody tr th:only-of-type {\n",
       "        vertical-align: middle;\n",
       "    }\n",
       "\n",
       "    .dataframe tbody tr th {\n",
       "        vertical-align: top;\n",
       "    }\n",
       "\n",
       "    .dataframe thead th {\n",
       "        text-align: right;\n",
       "    }\n",
       "</style>\n",
       "<table border=\"1\" class=\"dataframe\">\n",
       "  <thead>\n",
       "    <tr style=\"text-align: right;\">\n",
       "      <th></th>\n",
       "      <th>feature</th>\n",
       "      <th>VIF</th>\n",
       "    </tr>\n",
       "  </thead>\n",
       "  <tbody>\n",
       "    <tr>\n",
       "      <th>0</th>\n",
       "      <td>weekly_views</td>\n",
       "      <td>7.223859</td>\n",
       "    </tr>\n",
       "    <tr>\n",
       "      <th>1</th>\n",
       "      <td>cumulative_weeks_in_top_10</td>\n",
       "      <td>2.707092</td>\n",
       "    </tr>\n",
       "    <tr>\n",
       "      <th>2</th>\n",
       "      <td>runtime</td>\n",
       "      <td>2.692103</td>\n",
       "    </tr>\n",
       "    <tr>\n",
       "      <th>3</th>\n",
       "      <td>number_of_seasons</td>\n",
       "      <td>1.090190</td>\n",
       "    </tr>\n",
       "    <tr>\n",
       "      <th>4</th>\n",
       "      <td>is_staggered_launch</td>\n",
       "      <td>1.025651</td>\n",
       "    </tr>\n",
       "    <tr>\n",
       "      <th>5</th>\n",
       "      <td>language_English</td>\n",
       "      <td>2.756723</td>\n",
       "    </tr>\n",
       "    <tr>\n",
       "      <th>6</th>\n",
       "      <td>type_Films</td>\n",
       "      <td>3.129528</td>\n",
       "    </tr>\n",
       "    <tr>\n",
       "      <th>7</th>\n",
       "      <td>available_globally_No</td>\n",
       "      <td>1.427345</td>\n",
       "    </tr>\n",
       "  </tbody>\n",
       "</table>\n",
       "</div>"
      ],
      "text/plain": [
       "                      feature       VIF\n",
       "0                weekly_views  7.223859\n",
       "1  cumulative_weeks_in_top_10  2.707092\n",
       "2                     runtime  2.692103\n",
       "3           number_of_seasons  1.090190\n",
       "4         is_staggered_launch  1.025651\n",
       "5            language_English  2.756723\n",
       "6                  type_Films  3.129528\n",
       "7       available_globally_No  1.427345"
      ]
     },
     "execution_count": 43,
     "metadata": {},
     "output_type": "execute_result"
    }
   ],
   "source": [
    "vif_data"
   ]
  },
  {
   "cell_type": "markdown",
   "metadata": {},
   "source": [
    "It is clear that multiple features have high multicolinearity hence we will employ PCA to tackle this issue"
   ]
  },
  {
   "cell_type": "code",
   "execution_count": 44,
   "metadata": {},
   "outputs": [
    {
     "name": "stdout",
     "output_type": "stream",
     "text": [
      "(1492, 8)\n",
      "[0.25870354 0.17952375 0.14531329 0.12951402 0.11447901 0.1059866\n",
      " 0.04525802 0.02122176]\n"
     ]
    }
   ],
   "source": [
    "from sklearn.decomposition import PCA\n",
    "from sklearn.preprocessing import StandardScaler\n",
    "\n",
    "# Scale data before applying PCA\n",
    "scaling=StandardScaler()\n",
    "\n",
    "# Use fit and transform method \n",
    "scaling.fit(X_train)\n",
    "Scaled_data=scaling.transform(X_train)\n",
    " \n",
    "# Set the n_components=3\n",
    "principal=PCA(n_components=8)\n",
    "principal.fit(Scaled_data)\n",
    "x_train_after_pca =principal.transform(Scaled_data)\n",
    "\n",
    "# Check the dimensions of data after PCA\n",
    "print(x_train_after_pca.shape)\n",
    "\n",
    "# check how much variance is explained by each principal component\n",
    "print(principal.explained_variance_ratio_)\n",
    "\n",
    "\n"
   ]
  },
  {
   "cell_type": "markdown",
   "metadata": {},
   "source": [
    "### Retraining after the PCA reduced dimensionality to 9 features (since most of the information can be captured by 9 features instead of 11)"
   ]
  },
  {
   "cell_type": "code",
   "execution_count": 45,
   "metadata": {},
   "outputs": [
    {
     "data": {
      "image/png": "[encoded data removed]",
      "text/plain": [
       "<Figure size 432x288 with 1 Axes>"
      ]
     },
     "metadata": {},
     "output_type": "display_data"
    },
    {
     "data": {
      "image/png": "[encoded data removed]",
      "text/plain": [
       "<Figure size 432x288 with 1 Axes>"
      ]
     },
     "metadata": {},
     "output_type": "display_data"
    }
   ],
   "source": [
    "linear_model_after_pca = LinearRegression(fit_intercept=True).fit(x_train_after_pca,y_train)\n",
    "linear_pred_after_pca = linear_model_after_pca.predict(x_train_after_pca)\n",
    "\n",
    "plot_predicted_v_actual(y_train, linear_pred_after_pca)\n",
    "plot_residuals(y_train, linear_pred_after_pca)"
   ]
  },
  {
   "cell_type": "markdown",
   "metadata": {},
   "source": [
    "### Now we proceed onto generalization "
   ]
  },
  {
   "cell_type": "code",
   "execution_count": 46,
   "metadata": {},
   "outputs": [
    {
     "data": {
      "text/plain": [
       "0"
      ]
     },
     "execution_count": 46,
     "metadata": {},
     "output_type": "execute_result"
    }
   ],
   "source": [
    "(x_train_after_pca == 0).sum().sum()\n",
    "# this means that the modified dataset is not sparse "
   ]
  },
  {
   "cell_type": "code",
   "execution_count": 47,
   "metadata": {},
   "outputs": [
    {
     "name": "stdout",
     "output_type": "stream",
     "text": [
      "(1492, 8)\n"
     ]
    }
   ],
   "source": [
    "\n",
    "print(x_train_after_pca.shape)"
   ]
  },
  {
   "cell_type": "code",
   "execution_count": 48,
   "metadata": {},
   "outputs": [],
   "source": [
    "vif_data_pca = pd.DataFrame() \n",
    "vif_data_pca[\"VIF\"] = [variance_inflation_factor(x_train_after_pca, i) \n",
    "                          for i in range(len(x_train_after_pca[0]))] "
   ]
  },
  {
   "cell_type": "code",
   "execution_count": 49,
   "metadata": {},
   "outputs": [
    {
     "data": {
      "text/html": [
       "<div>\n",
       "<style scoped>\n",
       "    .dataframe tbody tr th:only-of-type {\n",
       "        vertical-align: middle;\n",
       "    }\n",
       "\n",
       "    .dataframe tbody tr th {\n",
       "        vertical-align: top;\n",
       "    }\n",
       "\n",
       "    .dataframe thead th {\n",
       "        text-align: right;\n",
       "    }\n",
       "</style>\n",
       "<table border=\"1\" class=\"dataframe\">\n",
       "  <thead>\n",
       "    <tr style=\"text-align: right;\">\n",
       "      <th></th>\n",
       "      <th>VIF</th>\n",
       "    </tr>\n",
       "  </thead>\n",
       "  <tbody>\n",
       "    <tr>\n",
       "      <th>0</th>\n",
       "      <td>1.0</td>\n",
       "    </tr>\n",
       "    <tr>\n",
       "      <th>1</th>\n",
       "      <td>1.0</td>\n",
       "    </tr>\n",
       "    <tr>\n",
       "      <th>2</th>\n",
       "      <td>1.0</td>\n",
       "    </tr>\n",
       "    <tr>\n",
       "      <th>3</th>\n",
       "      <td>1.0</td>\n",
       "    </tr>\n",
       "    <tr>\n",
       "      <th>4</th>\n",
       "      <td>1.0</td>\n",
       "    </tr>\n",
       "    <tr>\n",
       "      <th>5</th>\n",
       "      <td>1.0</td>\n",
       "    </tr>\n",
       "    <tr>\n",
       "      <th>6</th>\n",
       "      <td>1.0</td>\n",
       "    </tr>\n",
       "    <tr>\n",
       "      <th>7</th>\n",
       "      <td>1.0</td>\n",
       "    </tr>\n",
       "  </tbody>\n",
       "</table>\n",
       "</div>"
      ],
      "text/plain": [
       "   VIF\n",
       "0  1.0\n",
       "1  1.0\n",
       "2  1.0\n",
       "3  1.0\n",
       "4  1.0\n",
       "5  1.0\n",
       "6  1.0\n",
       "7  1.0"
      ]
     },
     "execution_count": 49,
     "metadata": {},
     "output_type": "execute_result"
    }
   ],
   "source": [
    "vif_data_pca"
   ]
  },
  {
   "cell_type": "code",
   "execution_count": 50,
   "metadata": {},
   "outputs": [
    {
     "name": "stdout",
     "output_type": "stream",
     "text": [
      "linear R^2 score:  0.5605274033764223\n",
      "linear MSE score:  60013795240291.54\n",
      "PCA Cross-Validation Results (Accuracy): [-2.76673085e-01  6.47073396e-01  1.05176602e-01  7.13968600e-01\n",
      "  8.73977120e-01 -5.23908386e+00 -1.53136284e+00 -8.61018963e-02\n",
      "  4.39122432e-02 -5.74623788e+00 -2.85324861e+00  8.71093093e-01\n",
      "  2.27173027e-01 -2.22582534e+00  9.00848252e-01  4.33307335e-01\n",
      " -7.71782674e+00  9.48740302e-01 -2.12939302e+00  3.31048604e-01\n",
      "  3.72322620e-01  2.95120948e-01 -6.17353065e-01  7.57622590e-01\n",
      "  6.60317745e-01  6.26523186e-02  1.64983528e-01  8.45935426e-01\n",
      " -7.73815271e+00  8.61468837e-01  8.96424290e-01  7.30007898e-01\n",
      " -4.90195931e+01 -1.13170756e+01 -4.19283836e+01  6.72404484e-01\n",
      "  5.56134518e-01 -2.59373286e+00  7.43702243e-01  9.55561416e-01\n",
      " -1.72795715e+00 -3.18128705e-01 -5.09123538e-01  3.05110456e-01\n",
      "  9.86596286e-01  7.67088833e-02  6.35849328e-01 -1.80493979e-01\n",
      "  1.21163396e-01  2.93500305e-01  6.90317793e-01  5.37230544e-01\n",
      "  5.68830193e-01  4.02355521e-01 -2.10071683e+00 -2.26486022e+00\n",
      "  5.79690603e-02  1.56956115e-01  3.48293765e-01  9.47436930e-01\n",
      " -7.77148949e-01 -2.32409397e-02  8.69997192e-01 -1.25314476e+00\n",
      " -1.96315614e-01  1.40274697e-01  2.98097078e-01  3.21733150e-01\n",
      " -4.14987488e+00  5.04217723e-01 -6.84916268e-01 -1.40926112e+00\n",
      "  2.02902481e-01  4.06400547e-01  5.21750814e-01 -3.64651690e-01\n",
      "  4.41517423e-01  1.49289956e-02  1.14173816e-01 -7.40083802e+01\n",
      "  7.73924369e-01  6.61280565e-01 -1.36170566e+00  9.87636672e-01\n",
      "  6.41641278e-01  9.49071928e-01  1.71725620e-01  9.70984563e-01\n",
      "  7.26828625e-01  4.73610577e-01  1.05082688e-01  5.61847717e-01\n",
      "  6.59548094e-01 -1.44076304e+00  6.08762313e-01  5.00826272e-01\n",
      " -4.57451571e-01 -3.37201463e+01 -4.48074359e+01 -1.43009296e+00\n",
      " -9.07264686e+00  5.58348266e-01  9.12982749e-01  3.72705527e-01\n",
      " -2.69444786e+01  3.21166308e-01  4.38121724e-01  3.11386953e-01\n",
      "  5.96949791e-01  9.00451456e-01 -1.82814792e+00 -2.68085033e+00\n",
      " -1.54912539e+01 -6.43793168e+01  4.68625860e-01 -1.66006405e-03\n",
      " -5.82032149e-01 -1.23505963e+00 -4.99604673e+00  7.79606160e-01\n",
      "  5.37555139e-01  8.01860053e-01 -3.61578920e+00 -2.86185461e-01\n",
      " -1.04158284e-01  9.46453079e-01  8.05736993e-01 -8.53050438e-02\n",
      " -2.45217072e+00  6.52102161e-02  9.12300822e-01  8.44958201e-01\n",
      "  7.64499120e-01  5.95000420e-01  8.52996937e-01  5.88166176e-01\n",
      " -4.55684533e+00  2.01347449e-02  6.28983665e-01  5.28278583e-01\n",
      " -4.65219168e-01  9.11401483e-01 -5.36743126e+00  6.32619961e-01\n",
      " -2.16913596e-01 -1.58239268e+00 -2.61161146e+00 -5.16816956e+01\n",
      "  8.48622662e-01 -6.41879029e+00  9.76659899e-01  6.70592658e-01\n",
      " -2.40125382e+00 -6.32309859e+00  7.68630447e-01  8.35370419e-01\n",
      "  8.72135015e-01  9.26762492e-02 -1.25614028e+00 -3.59520187e-01\n",
      "  9.84476653e-01 -2.24072288e-01 -9.80263502e-02  7.22288283e-01\n",
      "  1.07570572e-01  2.61565806e-01  8.61327226e-01  3.09747228e-01\n",
      "  3.67154660e-01 -1.90067440e+00  9.23748055e-01 -2.32750883e+00\n",
      " -8.69684630e-01  8.98257918e-01  3.48709052e-01 -9.79759995e-01\n",
      "  3.55936214e-01 -1.61753225e-01  6.94428588e-01 -3.80070796e-01\n",
      "  7.36092250e-01 -2.32899847e+00  6.69149769e-01  8.32689656e-01\n",
      " -4.03483090e-01  8.39662512e-01  4.32615788e-01 -3.24297376e+00\n",
      "  2.61849515e-01  8.89536859e-01  7.59480193e-01  2.71151955e-01\n",
      "  1.97887778e-01 -2.48255802e-01  8.52457111e-01 -2.90670575e+01\n",
      "  8.85295072e-01  7.37603995e-01  9.20654792e-01  7.58540545e-01\n",
      " -4.94357985e+00  6.80197750e-02  5.39009583e-01  2.54053264e-01\n",
      "  7.66466532e-01 -2.76146387e+01 -8.85595275e+00 -8.75102233e-01\n",
      "  9.27310024e-01  2.43982920e-01 -1.37138265e-01  3.95707576e-01\n",
      "  7.28029333e-01 -1.24901986e+00 -2.44331685e+00  6.31276763e-01\n",
      " -4.16003914e-01 -2.52926895e+00 -1.78399287e+01  6.35822163e-01\n",
      " -2.96444392e+00  6.25174487e-01  7.36725402e-01  2.40265068e-01\n",
      "  5.66543826e-01 -5.19840182e+00  9.45805056e-01 -7.58425807e-01\n",
      "  8.10595630e-01  2.40054953e-01  8.44634291e-01  5.72212406e-01\n",
      "  4.67346003e-01  6.91640204e-01 -5.34861806e+00 -7.00601388e+00\n",
      " -1.86689742e+01 -8.61916297e-01  4.49534725e-01  8.51309123e-01\n",
      " -2.96269956e-02  7.94614203e-01 -3.98788964e+00  7.87297399e-01\n",
      " -1.95909374e-01  3.32583707e-01  6.69488413e-01  5.56942455e-01\n",
      "  6.19822941e-01  2.00309580e-01 -2.16082814e+01  7.46343116e-02\n",
      "  5.64695506e-01 -1.06901567e+01  4.96041442e-01  6.68226814e-01\n",
      " -8.88994778e-01 -2.03934877e+00  8.33077004e-01 -6.60664281e-01\n",
      "  8.83577144e-01  6.26351288e-01 -6.38472598e+00 -2.34872156e+00\n",
      "  8.51223500e-01  2.09575215e-01  5.66730188e-01 -9.23271146e-01\n",
      " -2.27180857e-01  5.15707076e-01  5.73608627e-01  9.10492571e-01\n",
      " -1.35255304e+00  7.80999468e-01  4.90704643e-01 -4.51411093e+00\n",
      " -5.73385845e+00  9.07287832e-01 -3.01058319e+01  9.22283375e-01\n",
      "  5.14560933e-01  4.44166300e-01  2.56062118e-01  5.11729389e-01\n",
      "  1.40656720e-01 -5.23430662e+00 -6.60299660e+00 -1.78712635e-01\n",
      " -3.44525523e-01 -1.22839155e+00 -1.17608574e+01 -6.79826995e+00\n",
      "  5.04794140e-01  2.07474993e-01  9.61855416e-01  4.03296212e-01\n",
      " -5.72345228e+00  8.28701751e-01 -2.38932053e-01  6.67217543e-01\n",
      "  7.69100212e-01  1.26169404e-01  5.00190350e-01  1.20985973e-01\n",
      " -5.83314289e-01  7.20985788e-01  3.65920600e-01  1.37561156e-01\n",
      "  3.05287415e-01  2.06789783e-01  9.37064312e-01  8.22779708e-01\n",
      "  3.50214674e-01  4.87941404e-01 -3.42625384e+00  6.33430411e-01\n",
      " -2.34643800e+00  8.87693007e-01  2.11005380e-02  6.16546439e-01\n",
      " -1.98889977e+01  5.96352017e-01 -4.92466667e-01  4.65828948e-01\n",
      "  7.98488560e-01 -2.18458190e+00 -5.91260207e-01  5.19134815e-01\n",
      "  9.37621225e-01  6.40630880e-01 -8.94872304e-01  6.14728631e-01\n",
      " -5.29902513e+01  5.53894975e-01  4.73551130e-01  6.19946264e-02\n",
      "  3.99965711e-01  4.31197443e-01 -2.38090569e-01  8.83847639e-01\n",
      " -5.83917587e-01  1.74746213e-01 -4.22957286e+00  2.41523828e-01\n",
      " -2.03343180e-01 -1.10093331e+00 -4.31006076e+01  9.62898156e-02\n",
      "  9.93877668e-01 -7.13543655e-01  2.49890108e-01 -8.52926512e-01\n",
      "  8.80510087e-01  6.46872045e-01  6.34077602e-01  3.30874862e-01\n",
      " -2.29904482e+00  7.45909903e-01 -1.93888486e+00  3.26095395e-01\n",
      " -4.91640358e+00 -4.61927059e-02  9.84548491e-01  7.92235091e-01\n",
      "  1.64741085e-01 -1.84327113e+00  3.97067017e-01  8.69059095e-01\n",
      "  7.69617677e-01  9.22189743e-02  6.68227618e-01  8.28245176e-01\n",
      " -7.03713663e-01 -3.09421893e-01  3.82792409e-01 -7.08728455e+00\n",
      " -2.52130476e+00 -3.61259364e+00  6.85069068e-01  9.43196438e-01\n",
      "  7.19788263e-01  3.73856471e-02 -3.06226192e-01 -1.57763074e-02\n",
      "  4.89337892e-01  7.00889378e-01 -2.69469779e+00 -1.19378454e+00\n",
      "  9.49166025e-01  5.64435975e-01  7.76559365e-01 -9.84611163e-02\n",
      " -1.34740469e+00 -7.73515828e-01 -4.95483551e-01  8.75864692e-01\n",
      "  7.90968234e-01 -9.64784416e-02  8.16036591e-01  3.56601772e-01\n",
      "  7.70591461e-01 -2.63306091e-01  7.64363876e-01 -2.59522815e-01\n",
      "  5.40320358e-01  3.41941960e-01  4.24897624e-01 -8.55865469e-01\n",
      " -2.07292252e+00  8.08592856e-01 -1.09115744e+01 -3.64201224e+00\n",
      "  3.37889224e-01  1.27140445e-01  8.71338355e-01 -9.64424443e-01\n",
      " -3.16678420e+00  9.17795560e-01  7.38673836e-01 -3.86542361e+01\n",
      "  6.99196060e-01 -8.65981137e-02  9.27153899e-01 -6.46956997e-02\n",
      " -2.76193244e+00 -1.20554059e+00 -2.08585812e+00  3.82317086e-01\n",
      "  6.80044600e-01 -5.03503956e-01 -2.19698399e-01 -2.85989982e-01\n",
      "  8.20600821e-01  4.09746095e-01  7.90876047e-01 -3.07880191e+00\n",
      " -5.40559930e+00 -6.28018937e+00 -1.09833828e+00 -7.75933350e-01\n",
      "  8.28239973e-01  8.61328337e-01  8.57899847e-01  2.99705098e-01\n",
      " -1.33609479e+00  9.27467823e-01  5.16738711e-01  9.26112949e-01\n",
      "  8.48569567e-01  7.45643743e-01  6.43009217e-01  4.27214686e-01\n",
      "  2.37601505e-01  4.59175087e-01 -7.49498814e-01  2.43005762e-01\n",
      "  2.02978722e-01  2.72215965e-01  4.09575923e-01 -1.56582888e+01\n",
      " -7.64423872e-01 -5.87848296e+00  9.92087426e-01 -1.59035734e+00\n",
      "  8.69946898e-01 -8.84605316e-01 -4.71703859e-01  1.03110600e-01\n",
      " -3.19086505e+01 -1.82415817e+00  3.23762218e-01  7.16896729e-01\n",
      "  9.86602007e-03 -1.21892045e+00  6.80850595e-01  1.42051363e-01\n",
      " -7.10115436e+01  8.61520357e-01  8.18659211e-01 -3.60903021e+00\n",
      " -5.82206667e+00  3.12264162e-01  1.00303686e-01  8.61743282e-01\n",
      "  9.42083257e-01  5.23966629e-01 -1.79691799e-01 -2.16231616e-01\n",
      "  8.73329295e-01  7.01703774e-01  7.29828195e-01  7.43697756e-01\n",
      " -1.65578559e+01  7.27921058e-01  5.00297230e-01 -2.03360389e+00\n",
      "  5.78243220e-01  3.18947486e-01  6.75504385e-01 -9.18125712e-03]\n",
      "-2.10 accuracy with a standard deviation of 8.63\n"
     ]
    }
   ],
   "source": [
    "#calculating the R-squared score \n",
    "r_squared_lin = r2_score(y_train, linear_pred_after_pca)\n",
    "print(\"linear R^2 score: \", r_squared_lin)\n",
    "\n",
    "#calculating the mean squared error(MSE)\n",
    "mse_lin = mean_squared_error(y_train, linear_pred_after_pca)\n",
    "print(\"linear MSE score: \", mse_lin)\n",
    "\n",
    "#https://www.geeksforgeeks.org/cross-validation-machine-learning/\n",
    "num_folds_pca = 500\n",
    "kf_pca = KFold(n_splits = num_folds_pca, shuffle = True, random_state = 42)\n",
    "cross_val_results_lin_after_pca = cross_val_score(LinearRegression(), x_train_after_pca, y_train, cv = kf_pca)\n",
    "print(f'PCA Cross-Validation Results (Accuracy): {cross_val_results_lin_after_pca}')\n",
    "print(\"%0.2f accuracy with a standard deviation of %0.2f\" % (cross_val_results_lin_after_pca.mean(), cross_val_results_lin_after_pca.std()))"
   ]
  },
  {
   "cell_type": "markdown",
   "metadata": {},
   "source": [
    "## the accuracy did not improve much, we will proceed with generalization methods we will generalize data obtained before and after PCA to do a comparison to see if PCA makes a true difference "
   ]
  },
  {
   "cell_type": "code",
   "execution_count": 57,
   "metadata": {},
   "outputs": [
    {
     "name": "stdout",
     "output_type": "stream",
     "text": [
      "pre : 0.32964302433595427\n"
     ]
    }
   ],
   "source": [
    "from sklearn.metrics import mean_absolute_error \n",
    "from sklearn.linear_model import LinearRegression, Lasso, Ridge\n",
    "from sklearn.preprocessing import StandardScaler\n",
    "from sklearn.pipeline import Pipeline\n",
    "import sys \n",
    "#doing plain ridge \n",
    "a = 0.65\n",
    "\n",
    "#standarising the pre PCA values \n",
    "netflix_std = StandardScaler().fit_transform(netflix)\n",
    "# netflix_std = pd.DataFrame(netflix_std)\n",
    "# netflix_std.head()\n",
    "X_std = netflix_std[:, :8]\n",
    "y_std = netflix_std[:, 8]\n",
    "\n",
    "X_train_std,X_test_std, y_train_std, y_test_std = train_test_split(X_std, y_std, test_size=0.2, random_state=42)\n",
    "\n",
    "ridge_prePCA =  Ridge(fit_intercept=True, alpha=a).fit(X_train_std, y_train_std).predict(X_test_std)\n",
    "#ridge_postPCA = Ridge(fit_intercept=True, alpha=a).fit(x_train_after_pca, y_train_after_pca).predict(x_test_after_pca)\n",
    "mse_ridge_pre = mean_squared_error(y_test_std, ridge_prePCA)\n",
    "#mse_ridge_post = mean_squared_error(y_test_after_pca, ridge_postPCA)\n",
    "\n",
    "print(\"pre :\",mse_ridge_pre )\n",
    "#print(\"post :\",mse_ridge_post )"
   ]
  },
  {
   "cell_type": "code",
   "execution_count": 58,
   "metadata": {},
   "outputs": [
    {
     "name": "stdout",
     "output_type": "stream",
     "text": [
      "ALPHA VALUE IS : 0\n",
      "Ridge MSE:  43944701768027.1\n",
      "linear R^2 score:  0.6346545948234226\n",
      "Lasso MSE:  43944701768027.07\n",
      "ALPHA VALUE IS : 0.0001\n",
      "Ridge MSE:  43944701806903.445\n",
      "linear R^2 score:  0.6346545945002142\n",
      "Lasso MSE:  43944701769149.805\n",
      "ALPHA VALUE IS : 0.1\n",
      "Ridge MSE:  43944740761578.96\n",
      "linear R^2 score:  0.6346542706406557\n",
      "Lasso MSE:  43944702890759.34\n",
      "ALPHA VALUE IS : 0.5\n",
      "Ridge MSE:  43944899078589.09\n",
      "linear R^2 score:  0.6346529544321053\n",
      "Lasso MSE:  43944707381816.43\n",
      "ALPHA VALUE IS : 1\n",
      "Ridge MSE:  43945102229419.086\n",
      "linear R^2 score:  0.6346512654862413\n"
     ]
    },
    {
     "name": "stderr",
     "output_type": "stream",
     "text": [
      "/var/folders/b7/8z5_rxhj3j7brh5_gncbm6w00000gn/T/ipykernel_77825/41643116.py:31: UserWarning: With alpha=0, this algorithm does not converge well. You are advised to use the LinearRegression estimator\n",
      "  yhat_lasso = Lasso(fit_intercept=True, alpha = a).fit(X_beforePCA, y_train).predict(X_test)\n",
      "/Applications/anaconda3/lib/python3.9/site-packages/sklearn/linear_model/_coordinate_descent.py:647: UserWarning: Coordinate descent with no regularization may lead to unexpected results and is discouraged.\n",
      "  model = cd_fast.enet_coordinate_descent(\n",
      "/Applications/anaconda3/lib/python3.9/site-packages/sklearn/linear_model/_coordinate_descent.py:647: ConvergenceWarning: Objective did not converge. You might want to increase the number of iterations, check the scale of the features or consider increasing regularisation. Duality gap: 4.477e+16, tolerance: 2.037e+13 Linear regression models with null weight for the l1 regularization term are more efficiently fitted using one of the solvers implemented in sklearn.linear_model.Ridge/RidgeCV instead.\n",
      "  model = cd_fast.enet_coordinate_descent(\n",
      "/Applications/anaconda3/lib/python3.9/site-packages/sklearn/linear_model/_coordinate_descent.py:647: ConvergenceWarning: Objective did not converge. You might want to increase the number of iterations, check the scale of the features or consider increasing regularisation. Duality gap: 4.305e+16, tolerance: 2.037e+13\n",
      "  model = cd_fast.enet_coordinate_descent(\n"
     ]
    },
    {
     "name": "stdout",
     "output_type": "stream",
     "text": [
      "Lasso MSE:  43944712995929.12\n",
      "ALPHA VALUE IS : 5\n",
      "Ridge MSE:  43946934457596.164\n",
      "linear R^2 score:  0.6346360327933616\n",
      "Lasso MSE:  43944757920291.43\n",
      "ALPHA VALUE IS : 10\n",
      "Ridge MSE:  43949728052066.8\n",
      "linear R^2 score:  0.6346128075383772\n",
      "Lasso MSE:  43944814104545.266\n",
      "ALPHA VALUE IS : 20\n",
      "Ridge MSE:  43956910458191.45\n",
      "linear R^2 score:  0.6345530947864371\n",
      "Lasso MSE:  43944926568830.23\n",
      "ALPHA VALUE IS : 50\n",
      "Ridge MSE:  43990098291792.01\n",
      "linear R^2 score:  0.6342771793284661\n",
      "Lasso MSE:  43945264728550.19\n",
      "ALPHA VALUE IS : 100\n",
      "Ridge MSE:  44079985846290.08\n",
      "linear R^2 score:  0.6335298763841478\n",
      "Lasso MSE:  43945830883744.06\n",
      "ALPHA VALUE IS : 500\n",
      "Ridge MSE:  45989881428678.86\n",
      "linear R^2 score:  0.6176514758644187\n",
      "Lasso MSE:  43950475138470.336\n",
      "ALPHA VALUE IS : 1000\n",
      "Ridge MSE:  49986823575086.11\n",
      "linear R^2 score:  0.5844218852836278\n",
      "Lasso MSE:  43956567986815.45\n",
      "Consolidated values: \n",
      "METHOD : lasso\n",
      "ALPHA : 0\n",
      "MIN ERROR : 0.6346545948234228\n"
     ]
    }
   ],
   "source": [
    "\n",
    "X_beforePCA = X_train.copy()\n",
    "X_afterPCA = x_train_after_pca.copy()\n",
    "y_to_test = y_test.copy()\n",
    "\n",
    "alpha_values = [0, 0.0001, 0.1, 0.5, 1, 5, 10, 20, 50, 100, 500, 1000]\n",
    "max_r2_score = sys.float_info.min\n",
    "method = \"\"\n",
    "alpha_min = 0\n",
    "\n",
    "#Attempting Ridge for data before PCA\n",
    "for a in alpha_values:\n",
    "  print(\"ALPHA VALUE IS :\", a)\n",
    "  # Create a pipeline with StandardScaler and Ridge regression\n",
    "  ridge_pipeline = Pipeline([\n",
    "      ('scaler', StandardScaler()),\n",
    "      ('ridge', Ridge(fit_intercept=True, alpha=a))  # You can adjust the alpha parameter as needed\n",
    "  ])\n",
    "  lin = ridge_pipeline.fit(X_beforePCA ,y_train)\n",
    "\n",
    "  yhat = lin.predict(X_test)\n",
    "  mse_lin = mean_squared_error(y_to_test, yhat)\n",
    "  print(\"Ridge MSE: \", mse_lin)\n",
    "  r_squared_lin = r2_score(y_to_test, yhat)\n",
    "  print(\"linear R^2 score: \", r_squared_lin)\n",
    "\n",
    "  if r_squared_lin > max_r2_score:\n",
    "    method = \"ridge\"\n",
    "    alpha_min = a\n",
    "    max_r2_score = r_squared_lin\n",
    "\n",
    "  yhat_lasso = Lasso(fit_intercept=True, alpha = a).fit(X_beforePCA, y_train).predict(X_test)\n",
    "  lasso_lin = mean_squared_error(y_to_test, yhat_lasso)\n",
    "  r_squared_lasso = r2_score(y_to_test, yhat_lasso)\n",
    "  print(\"Lasso MSE: \", lasso_lin)\n",
    "\n",
    "  if r_squared_lasso > max_r2_score:\n",
    "    method = \"lasso\"\n",
    "    alpha_min = a\n",
    "    max_r2_score = r_squared_lasso\n",
    "\n",
    "print(\"Consolidated values: \")\n",
    "print(\"METHOD :\", method)\n",
    "print(\"ALPHA :\",alpha_min)\n",
    "print(\"MIN ERROR :\", max_r2_score)\n"
   ]
  },
  {
   "cell_type": "markdown",
   "metadata": {},
   "source": [
    "## Generalization does not seem to improve the accuracy of prediction"
   ]
  },
  {
   "cell_type": "code",
   "execution_count": 59,
   "metadata": {},
   "outputs": [
    {
     "data": {
      "text/plain": [
       "array([ 856676.32211814, 5102365.68046701, 5274804.56577623, ...,\n",
       "       3384047.47561716, 2410521.39894552, 2410521.39894552])"
      ]
     },
     "execution_count": 59,
     "metadata": {},
     "output_type": "execute_result"
    }
   ],
   "source": [
    "alpha = .1 # regularization parameter\n",
    "\n",
    "lin = Ridge(alpha=0).fit(X,y)\n",
    "yhat = lin.predict(X)\n",
    "yhat"
   ]
  },
  {
   "cell_type": "markdown",
   "metadata": {},
   "source": [
    "\n",
    "# We should ask about the fix to heteroscedasticity faced - doesnt seem too simple??"
   ]
  },
  {
   "cell_type": "code",
   "execution_count": 60,
   "metadata": {},
   "outputs": [
    {
     "name": "stderr",
     "output_type": "stream",
     "text": [
      "/Applications/anaconda3/lib/python3.9/site-packages/seaborn/distributions.py:2619: FutureWarning: `distplot` is a deprecated function and will be removed in a future version. Please adapt your code to use either `displot` (a figure-level function with similar flexibility) or `histplot` (an axes-level function for histograms).\n",
      "  warnings.warn(msg, FutureWarning)\n"
     ]
    },
    {
     "data": {
      "image/png": "[encoded data removed]",
      "text/plain": [
       "<Figure size 432x288 with 1 Axes>"
      ]
     },
     "metadata": {},
     "output_type": "display_data"
    }
   ],
   "source": [
    "# Data distribution\n",
    "plt.title('Weekly Hours Viewed Distribution Plot')\n",
    "sns.distplot(netflix['weekly_hours_viewed'])\n",
    "plt.show()"
   ]
  },
  {
   "cell_type": "markdown",
   "metadata": {},
   "source": [
    "### Polynomial Model"
   ]
  },
  {
   "cell_type": "code",
   "execution_count": 61,
   "metadata": {},
   "outputs": [],
   "source": [
    "#y = (netflix[\"weekly_hours_viewed\"]).values\n",
    "#X = (netflix.copy().drop(['weekly_hours_viewed'], axis=1)).values\n",
    "#X_train, X_test, y_train, y_test = train_test_split(X, y, test_size=0.2, random_state=42)"
   ]
  },
  {
   "cell_type": "code",
   "execution_count": 62,
   "metadata": {},
   "outputs": [],
   "source": [
    "# Fitting Polynomial Regression to the dataset\n",
    "from sklearn.preprocessing import PolynomialFeatures\n",
    " \n",
    "pr = PolynomialFeatures(degree = 4)\n",
    "X_poly = pr.fit_transform(X_train)\n",
    "lr_2 = LinearRegression()\n",
    "lr_2.fit(X_poly, y_train)\n",
    "#Predict results\n",
    "y_pred_poly = lr_2.predict(X_poly)  # Polynomial Regression\n",
    "#lr_2.fit(pr.fit_transform(X_test), y_test)\n",
    "y_test_pred_poly = lr_2.predict(pr.fit_transform(X_test))\n"
   ]
  },
  {
   "cell_type": "code",
   "execution_count": 63,
   "metadata": {},
   "outputs": [],
   "source": [
    "def poly_plot_predicted_v_actual(y_train, y_pred):\n",
    "  #helps us understand the relationship between the predicted and the actual values\n",
    "  plt.scatter(y_train, y_pred)\n",
    "  plt.plot(y_train, lr_2.predict(pr.fit_transform(X_train)), color = 'firebrick', linestyle='--')\n",
    "  plt.xlabel('Actual Values')\n",
    "  plt.ylabel('Predicted Values')\n",
    "  plt.title('Actual vs. Predicted Values')\n",
    "  plt.show()"
   ]
  },
  {
   "cell_type": "code",
   "execution_count": 64,
   "metadata": {},
   "outputs": [
    {
     "data": {
      "image/png": "[encoded data removed]",
      "text/plain": [
       "<Figure size 432x288 with 1 Axes>"
      ]
     },
     "metadata": {},
     "output_type": "display_data"
    },
    {
     "data": {
      "image/png": "[encoded data removed]",
      "text/plain": [
       "<Figure size 432x288 with 1 Axes>"
      ]
     },
     "metadata": {},
     "output_type": "display_data"
    }
   ],
   "source": [
    "poly_plot_predicted_v_actual(y_train, y_pred_poly)\n",
    "plot_residuals(y_train, y_pred_poly)"
   ]
  },
  {
   "cell_type": "code",
   "execution_count": 65,
   "metadata": {},
   "outputs": [],
   "source": [
    "# This function just computes the mean squared error\n",
    "def MSE(y, pred):\n",
    "    return np.square(np.subtract(y,pred)).mean()"
   ]
  },
  {
   "cell_type": "code",
   "execution_count": 66,
   "metadata": {},
   "outputs": [
    {
     "data": {
      "text/plain": [
       "60013795240291.54"
      ]
     },
     "execution_count": 66,
     "metadata": {},
     "output_type": "execute_result"
    }
   ],
   "source": [
    "mean_squared_error(y_train, linear_pred_after_pca.flatten())"
   ]
  },
  {
   "cell_type": "code",
   "execution_count": 67,
   "metadata": {},
   "outputs": [
    {
     "name": "stdout",
     "output_type": "stream",
     "text": [
      "Linear Train MSE\t 60013795240291.484\n",
      "Linear Test MSE\t 43944701768027.81\n",
      "Linear Train with PCA MSE\t 60013795240291.56\n"
     ]
    }
   ],
   "source": [
    "# linear train and test MSE\n",
    "linear_test_pred = linear_model.predict(X_test)\n",
    "\n",
    "linear_train_MSE = MSE(y_train, linear_pred.flatten())\n",
    "linear_test_MSE = MSE(y_test, linear_test_pred.flatten())\n",
    "print(\"Linear Train MSE\\t\", str(linear_train_MSE))\n",
    "print(\"Linear Test MSE\\t\", str(linear_test_MSE))\n",
    "linear_train_PCA_MSE = MSE(y_train, linear_pred_after_pca.flatten())\n",
    "print(\"Linear Train with PCA MSE\\t\", str(linear_train_PCA_MSE))"
   ]
  },
  {
   "cell_type": "code",
   "execution_count": 68,
   "metadata": {},
   "outputs": [
    {
     "name": "stdout",
     "output_type": "stream",
     "text": [
      "Polynomial Train MSE\t 49247188020076.555\n",
      "Polynomial Train MSE\t 2017402895298193.2\n"
     ]
    }
   ],
   "source": [
    "# polynomial train and test MSE at degree 4\n",
    "poly_train_MSE = MSE(y_train, y_pred_poly.flatten())\n",
    "print(\"Polynomial Train MSE\\t\", str(poly_train_MSE))\n",
    "poly_test_MSE = MSE(y_test, y_test_pred_poly.flatten())\n",
    "print(\"Polynomial Train MSE\\t\", str(poly_test_MSE))"
   ]
  },
  {
   "cell_type": "code",
   "execution_count": 69,
   "metadata": {},
   "outputs": [
    {
     "name": "stdout",
     "output_type": "stream",
     "text": [
      "Polynomial Train MSE at degree 1\t 60013795240291.58\n",
      "Polynomial Test MSE at degree 1\t 43944701768027.11\n",
      "Polynomial Train MSE at degree 2\t 51989716159646.945\n",
      "Polynomial Test MSE at degree 2\t 41617330588266.08\n",
      "Polynomial Train MSE at degree 3\t 42791707842484.31\n",
      "Polynomial Test MSE at degree 3\t 123437219617701.81\n",
      "Polynomial Train MSE at degree 4\t 49247188020076.555\n",
      "Polynomial Test MSE at degree 4\t 2017402895298193.2\n",
      "Polynomial Train MSE at degree 5\t 82596157503156.39\n",
      "Polynomial Test MSE at degree 5\t 1.6769532530556264e+16\n",
      "Polynomial Train MSE at degree 6\t 95406211829916.9\n",
      "Polynomial Test MSE at degree 6\t 1809204227113247.0\n",
      "Polynomial Train MSE at degree 7\t 107979052483223.19\n",
      "Polynomial Test MSE at degree 7\t 1608009734787952.2\n"
     ]
    }
   ],
   "source": [
    "# compare train and test MSE for polynomials of degrees 1-7\n",
    "for i in range(7):\n",
    "  pr = PolynomialFeatures(degree = i+1)\n",
    "  X_poly = pr.fit_transform(X_train)\n",
    "  lr_2 = LinearRegression()\n",
    "  lr_2.fit(X_poly, y_train)\n",
    "  #Predict results\n",
    "  y_pred_poly = lr_2.predict(X_poly)  # Polynomial Regression\n",
    "  y_test_pred_poly = lr_2.predict(pr.fit_transform(X_test))\n",
    "  \n",
    "  poly_train_MSE = MSE(y_train, y_pred_poly.flatten())\n",
    "  print((\"Polynomial Train MSE\" + \" at degree \" + str(i+1) + \"\\t\"), str(poly_train_MSE))\n",
    "  poly_test_MSE = MSE(y_test, y_test_pred_poly.flatten())\n",
    "  print((\"Polynomial Test MSE\" + \" at degree \" + str(i+1) + \"\\t\"), str(poly_test_MSE))\n"
   ]
  },
  {
   "cell_type": "code",
   "execution_count": 70,
   "metadata": {},
   "outputs": [],
   "source": [
    "from sklearn.linear_model import LinearRegression, Lasso, Ridge"
   ]
  },
  {
   "cell_type": "code",
   "execution_count": 71,
   "metadata": {},
   "outputs": [],
   "source": [
    "from numpy.random import rand, randn\n",
    "def generate_data(n, w):\n",
    "    X = randn(n,len(w))\n",
    "    y = X@w\n",
    "    return X, y\n",
    "def generate_noisy_data(n, w):\n",
    "    X = randn(n,len(w))\n",
    "    y = X@w + .1*randn(n)\n",
    "    return X, y"
   ]
  },
  {
   "cell_type": "code",
   "execution_count": 72,
   "metadata": {},
   "outputs": [],
   "source": [
    "#y = (netflix[\"weekly_hours_viewed\"]).values\n",
    "#X = (netflix.copy().drop(['weekly_hours_viewed'], axis=1)).values\n",
    "#X_train, X_test, y_train, y_test = train_test_split(X, y, test_size=0.2, random_state=42)\n",
    "\n",
    "alpha_ridge=.1\n",
    "alpha_lasso=.1\n",
    "\n",
    "w_randn = randn(30)\n",
    "w_ridge = Ridge(alpha = alpha_ridge).fit(X,y).coef_\n",
    "w_lasso = Lasso(alpha = alpha_lasso).fit(X,y).coef_\n",
    "w_nonneg = LinearRegression(positive=True).fit(X,y).coef_\n",
    "w_sparse = w_randn*(abs(w_randn) > 1)\n"
   ]
  },
  {
   "cell_type": "code",
   "execution_count": 73,
   "metadata": {},
   "outputs": [
    {
     "data": {
      "text/plain": [
       "<matplotlib.legend.Legend at 0x15e48f1c0>"
      ]
     },
     "execution_count": 73,
     "metadata": {},
     "output_type": "execute_result"
    },
    {
     "data": {
      "image/png": "[encoded data removed]",
      "text/plain": [
       "<Figure size 432x288 with 1 Axes>"
      ]
     },
     "metadata": {},
     "output_type": "display_data"
    }
   ],
   "source": [
    "#w_randn\n",
    "X,y = generate_data(30, w_randn)\n",
    "Xtest,ytest = generate_data(20,w_randn)\n",
    "\n",
    "yhat_ridge = Ridge(alpha = alpha_ridge).fit(X,y).predict(Xtest)\n",
    "yhat_lasso = Lasso(alpha = alpha_lasso).fit(X,y).predict(Xtest)\n",
    "yhat_nonneg = LinearRegression(positive=True).fit(X,y).predict(Xtest)\n",
    "\n",
    "plt.plot(ytest,ytest)\n",
    "plt.scatter(ytest, yhat_ridge, label=\"ridge\", color=\"purple\")\n",
    "plt.scatter(ytest, yhat_lasso, label=\"lasso\", color=\"orange\")\n",
    "plt.scatter(ytest, yhat_nonneg, label=\"NNLS\", color=\"green\")\n",
    "plt.xlabel(\"true value\")\n",
    "plt.ylabel(\"predicted value\")\n",
    "plt.legend()"
   ]
  },
  {
   "cell_type": "code",
   "execution_count": 74,
   "metadata": {},
   "outputs": [
    {
     "data": {
      "text/plain": [
       "<matplotlib.legend.Legend at 0x15e4657c0>"
      ]
     },
     "execution_count": 74,
     "metadata": {},
     "output_type": "execute_result"
    },
    {
     "data": {
      "image/png": "[encoded data removed]",
      "text/plain": [
       "<Figure size 432x288 with 1 Axes>"
      ]
     },
     "metadata": {},
     "output_type": "display_data"
    }
   ],
   "source": [
    "#w_sparse\n",
    "X,y = generate_data(30, w_sparse)\n",
    "Xtest,ytest = generate_data(20,w_sparse)\n",
    "\n",
    "yhat_ridge = Ridge(alpha = alpha_ridge).fit(X,y).predict(Xtest)\n",
    "yhat_lasso = Lasso(alpha = alpha_lasso).fit(X,y).predict(Xtest)\n",
    "yhat_nonneg = LinearRegression(positive=True).fit(X,y).predict(Xtest)\n",
    "\n",
    "plt.plot(ytest,ytest)\n",
    "plt.scatter(ytest, yhat_ridge, label=\"ridge\", color=\"purple\")\n",
    "plt.scatter(ytest, yhat_lasso, label=\"lasso\", color=\"orange\")\n",
    "plt.scatter(ytest, yhat_nonneg, label=\"NNLS\", color=\"green\")\n",
    "plt.xlabel(\"true value\")\n",
    "plt.ylabel(\"predicted value\")\n",
    "plt.legend()"
   ]
  },
  {
   "cell_type": "code",
   "execution_count": 75,
   "metadata": {},
   "outputs": [
    {
     "data": {
      "text/plain": [
       "<matplotlib.legend.Legend at 0x15a42e370>"
      ]
     },
     "execution_count": 75,
     "metadata": {},
     "output_type": "execute_result"
    },
    {
     "data": {
      "image/png": "[encoded data removed]",
      "text/plain": [
       "<Figure size 432x288 with 1 Axes>"
      ]
     },
     "metadata": {},
     "output_type": "display_data"
    }
   ],
   "source": [
    "#w_nonneg\n",
    "#w_nonneg = LinearRegression(positive=True).fit(X,y).coef_\n",
    "X,y = generate_data(30, w_nonneg)\n",
    "Xtest,ytest = generate_data(20,w_nonneg)\n",
    "\n",
    "yhat_ridge = Ridge(alpha = alpha_ridge).fit(X,y).predict(Xtest)\n",
    "yhat_lasso = Lasso(alpha = alpha_lasso).fit(X,y).predict(Xtest)\n",
    "yhat_nonneg = LinearRegression(positive=True).fit(X,y).predict(Xtest)\n",
    "\n",
    "plt.plot(ytest,ytest)\n",
    "plt.scatter(ytest, yhat_ridge, label=\"ridge\", color=\"purple\")\n",
    "plt.scatter(ytest, yhat_lasso, label=\"lasso\", color=\"orange\")\n",
    "plt.scatter(ytest, yhat_nonneg, label=\"NNLS\", color=\"green\")\n",
    "plt.xlabel(\"true value\")\n",
    "plt.ylabel(\"predicted value\")\n",
    "plt.legend()"
   ]
  },
  {
   "cell_type": "code",
   "execution_count": 76,
   "metadata": {},
   "outputs": [
    {
     "data": {
      "text/plain": [
       "<matplotlib.legend.Legend at 0x15a611820>"
      ]
     },
     "execution_count": 76,
     "metadata": {},
     "output_type": "execute_result"
    },
    {
     "data": {
      "image/png": "[encoded data removed]",
      "text/plain": [
       "<Figure size 432x288 with 1 Axes>"
      ]
     },
     "metadata": {},
     "output_type": "display_data"
    }
   ],
   "source": [
    "plt.hist(w_ridge, label=\"ridge coefficients\", bins=50, alpha=.5, color=\"purple\")\n",
    "plt.hist(w_lasso, label=\"lasso coefficients\", bins=50, alpha=.5, color=\"orange\")\n",
    "plt.hist(w_nonneg, label=\"NNLS coefficients\", bins=20, alpha=.5, color=\"green\")\n",
    "plt.legend()"
   ]
  },
  {
   "cell_type": "code",
   "execution_count": 77,
   "metadata": {},
   "outputs": [
    {
     "data": {
      "text/plain": [
       "<matplotlib.legend.Legend at 0x15ffa06a0>"
      ]
     },
     "execution_count": 77,
     "metadata": {},
     "output_type": "execute_result"
    },
    {
     "data": {
      "image/png": "[encoded data removed]",
      "text/plain": [
       "<Figure size 432x288 with 1 Axes>"
      ]
     },
     "metadata": {},
     "output_type": "display_data"
    }
   ],
   "source": [
    "# cross validate over regularization parameter alpha\n",
    "np.random.seed(6)\n",
    "\n",
    "w = randn(40)\n",
    "X,y = generate_noisy_data(30, w)\n",
    "Xtest,ytest = generate_noisy_data(30, w)\n",
    "\n",
    "ridge_error = []\n",
    "lasso_error = []\n",
    "alphas = np.linspace(.01,1,100)\n",
    "for alpha in alphas:\n",
    "    yhat_ridge = Ridge(alpha = alpha).fit(X,y).predict(Xtest)\n",
    "    ridge_error.append(sum((ytest - yhat_ridge)**2))\n",
    "    yhat_lasso = Lasso(alpha = alpha).fit(X,y).predict(Xtest)\n",
    "    lasso_error.append(sum((ytest - yhat_lasso)**2))\n",
    "plt.plot(alphas, ridge_error, label=\"ridge\")\n",
    "plt.plot(alphas, lasso_error, label=\"lasso\")\n",
    "plt.ylabel(\"test error\")\n",
    "plt.xlabel(\"regularization parameter\")\n",
    "plt.legend()"
   ]
  },
  {
   "cell_type": "markdown",
   "metadata": {},
   "source": [
    "### Decision Tree Regression"
   ]
  },
  {
   "cell_type": "code",
   "execution_count": 78,
   "metadata": {},
   "outputs": [],
   "source": [
    "from sklearn.model_selection import cross_val_score\n",
    "from sklearn.tree import DecisionTreeRegressor, plot_tree\n",
    "from sklearn import tree"
   ]
  },
  {
   "cell_type": "code",
   "execution_count": 79,
   "metadata": {},
   "outputs": [
    {
     "name": "stdout",
     "output_type": "stream",
     "text": [
      "Average Cross Validation Score for 10 folds: 0.4863\n",
      "Accuracy on Train Set: 0.8883\n",
      "Accuracy on Test Set: 0.3827\n"
     ]
    }
   ],
   "source": [
    "regressor = DecisionTreeRegressor(random_state=0, max_depth=12)\n",
    "cross_val_scores = cross_val_score(regressor, X_train, y_train, cv=10)\n",
    "average_score = cross_val_scores.mean()\n",
    "print(f\"Average Cross Validation Score for 10 folds: {average_score:.4f}\")\n",
    "\n",
    "regressor.fit(X_train, y_train)\n",
    "test_score = regressor.score(X_test, y_test)\n",
    "train_score = regressor.score(X_train, y_train)\n",
    "print(f\"Accuracy on Train Set: {train_score:.4f}\")\n",
    "print(f\"Accuracy on Test Set: {test_score:.4f}\")\n"
   ]
  },
  {
   "cell_type": "code",
   "execution_count": 80,
   "metadata": {},
   "outputs": [
    {
     "data": {
      "image/png": "[encoded data removed]",
      "text/plain": [
       "<Figure size 720x432 with 1 Axes>"
      ]
     },
     "metadata": {},
     "output_type": "display_data"
    }
   ],
   "source": [
    "regressor.fit(X_train,y_train)\n",
    "plt.figure(figsize=(10, 6))\n",
    "plot_tree(regressor, filled=True)\n",
    "plt.title(\"Decision Tree\")\n",
    "plt.show()"
   ]
  },
  {
   "cell_type": "code",
   "execution_count": 81,
   "metadata": {},
   "outputs": [
    {
     "name": "stdout",
     "output_type": "stream",
     "text": [
      "MSE on training set: 15253649479451.604\n",
      "MSE on test set: 74251597888736.12\n"
     ]
    }
   ],
   "source": [
    "# Score based on squared error\n",
    "y_pred_train = regressor.predict(X_train)\n",
    "y_pred_test = regressor.predict(X_test)\n",
    "tree_train_MSE = mean_squared_error(y_train, y_pred_train)\n",
    "tree_test_MSE = mean_squared_error(y_test, y_pred_test)\n",
    "print(\"MSE on training set:\", tree_train_MSE)\n",
    "print(\"MSE on test set:\", tree_test_MSE)"
   ]
  },
  {
   "cell_type": "markdown",
   "metadata": {},
   "source": [
    "We can see that both the accuracy and the test set are high, so we can utilize ensemble methods to try and reduce the bias. We will use Decision Tree Boosting technique"
   ]
  },
  {
   "cell_type": "code",
   "execution_count": 82,
   "metadata": {},
   "outputs": [],
   "source": [
    "from sklearn.ensemble import GradientBoostingRegressor # uses squared loss, default learning rate 0.1"
   ]
  },
  {
   "cell_type": "code",
   "execution_count": 83,
   "metadata": {},
   "outputs": [],
   "source": [
    "# First, grid search to find the best hyperparameters\n",
    "from sklearn.model_selection import GridSearchCV\n",
    "\n",
    "param_grid = {\n",
    "    'n_estimators': [50, 100, 150, 200],\n",
    "    'learning_rate': [0.01, 0.1, 0.2, 0.5],\n",
    "    'max_depth': [3, 5, 7, 10]\n",
    "}\n",
    "\n",
    "boosted_reg = GradientBoostingRegressor(random_state=0)\n",
    "\n",
    "grid_search = GridSearchCV(estimator=boosted_reg, param_grid=param_grid, cv=10, scoring='neg_mean_squared_error')\n",
    "\n",
    "grid_search.fit(X_train, y_train)\n",
    "\n",
    "print(\"Best parameters:\", grid_search.best_params_)\n",
    "\n",
    "boosted = grid_search.best_estimator_\n",
    "\n",
    "best_boosted_reg_test_MSE = mean_squared_error(y_test, boosted.predict(X_test))\n",
    "print(\"Test set MSE for best boosted regression model:\", best_boosted_reg_test_MSE)\n"
   ]
  },
  {
   "cell_type": "code",
   "execution_count": null,
   "metadata": {},
   "outputs": [
    {
     "name": "stdout",
     "output_type": "stream",
     "text": [
      "Average Cross Validation Score for 10 folds in Boosted Model: 0.6376\n"
     ]
    }
   ],
   "source": [
    "# boosted = GradientBoostingRegressor(random_state=0, max_depth=12, n_estimators=10000)\n",
    "# boosted.fit(X_train, y_train)\n",
    "\n",
    "cross_val_scores_gb = cross_val_score(boosted, X_train, y_train, cv=10)\n",
    "average_score_gb = cross_val_scores_gb.mean()\n",
    "print(f\"Average Cross Validation Score for 10 folds in Boosted Model: {average_score_gb:.4f}\")"
   ]
  },
  {
   "cell_type": "code",
   "execution_count": null,
   "metadata": {},
   "outputs": [
    {
     "name": "stdout",
     "output_type": "stream",
     "text": [
      "Accuracy on Train Set: 0.7940\n",
      "Accuracy on Test Set: 0.6493\n"
     ]
    }
   ],
   "source": [
    "test_score_gb = boosted.score(X_test, y_test)\n",
    "train_score_gb = boosted.score(X_train, y_train)\n",
    "print(f\"Accuracy on Train Set: {train_score_gb:.4f}\")\n",
    "print(f\"Accuracy on Test Set: {test_score_gb:.4f}\")"
   ]
  },
  {
   "cell_type": "code",
   "execution_count": null,
   "metadata": {},
   "outputs": [
    {
     "name": "stdout",
     "output_type": "stream",
     "text": [
      "MSE on training set: 15253649479451.604\n",
      "MSE on test set: 74251597888736.12\n"
     ]
    }
   ],
   "source": [
    "y_pred_train_boosted = boosted.predict(X_train)\n",
    "y_pred_test_boosted = boosted.predict(X_test)\n",
    "\n",
    "boosted_train_MSE= mean_squared_error(y_train, y_pred_train)\n",
    "boosted_test_MSE = mean_squared_error(y_test, y_pred_test)\n",
    "\n",
    "print(\"MSE on training set:\", boosted_train_MSE)\n",
    "print(\"MSE on test set:\", boosted_test_MSE)"
   ]
  },
  {
   "cell_type": "code",
   "execution_count": null,
   "metadata": {},
   "outputs": [
    {
     "data": {
      "image/png": "[encoded data removed]",
      "text/plain": [
       "<Figure size 720x432 with 1 Axes>"
      ]
     },
     "metadata": {},
     "output_type": "display_data"
    }
   ],
   "source": [
    "feature_names=['weekly_views','cumulative_weeks_in_top_10', 'runtime', 'number_of_seasons', 'is_staggered_launch', \n",
    "'language_English', 'language_Non-English', 'type_Films', 'type_TV', 'available_globally_No', 'available_globally_Yes']\n",
    "feature_importances = boosted.feature_importances_\n",
    "\n",
    "sorted_indices = np.argsort(feature_importances)[::-1]\n",
    "sorted_feature_importances = feature_importances[sorted_indices]\n",
    "sorted_features = np.array(feature_names)[sorted_indices]\n",
    "\n",
    "plt.figure(figsize=(10, 6))\n",
    "plt.bar(range(len(feature_importances)), sorted_feature_importances, align='center')\n",
    "plt.xticks(range(len(feature_importances)), sorted_features, rotation=90)\n",
    "plt.xlabel('Features')\n",
    "plt.ylabel('Mean Decrease in Impurity')\n",
    "plt.title('Mean Decrease Impurity for Features')\n",
    "plt.tight_layout()\n",
    "plt.show()"
   ]
  },
  {
   "cell_type": "markdown",
   "metadata": {},
   "source": [
    "### Comparing Results from all 3 models"
   ]
  },
  {
   "cell_type": "code",
   "execution_count": null,
   "metadata": {},
   "outputs": [
    {
     "name": "stdout",
     "output_type": "stream",
     "text": [
      "Training set MSE:\n",
      "Linear Regression: 60013795240291.484\n",
      "Polynomial Regression: 107979052483223.19\n",
      "Regular Decision Tree Regressor: 15253649479451.604\n",
      "Boosted Regression: 15253649479451.604\n",
      "\n",
      "Test set MSE:\n",
      "Linear Regression: 43944701768027.81\n",
      "Polynomial Regression: 1608009734787952.2\n",
      "Regular Decision Tree Regressor: 74251597888736.12\n",
      "Boosted Regression: 74251597888736.12\n",
      "The best model for train set is Regular Decision Tree Regressor.\n",
      "The best model for test set is Linear Regression.\n"
     ]
    }
   ],
   "source": [
    "print(\"Training set MSE:\")\n",
    "print(\"Linear Regression:\", linear_train_MSE)\n",
    "print(\"Polynomial Regression:\", poly_train_MSE)\n",
    "print(\"Regular Decision Tree Regressor:\", tree_train_MSE)\n",
    "print(\"Boosted Regression:\", boosted_train_MSE)\n",
    "\n",
    "print(\"\\nTest set MSE:\")\n",
    "print(\"Linear Regression:\", linear_test_MSE)\n",
    "print(\"Polynomial Regression:\", poly_test_MSE)\n",
    "print(\"Regular Decision Tree Regressor:\", tree_test_MSE)\n",
    "print(\"Boosted Regression:\", boosted_test_MSE)\n",
    "\n",
    "\n",
    "best_model_train = min(linear_train_MSE, poly_train_MSE, boosted_train_MSE, boosted_train_MSE)\n",
    "best_model_test = min(linear_test_MSE, poly_test_MSE,tree_test_MSE, boosted_test_MSE)\n",
    "\n",
    "if best_model_train == linear_train_MSE:\n",
    "    print(\"\\nThe best model for training set is Linear Regression.\")\n",
    "elif best_model_train == poly_train_MSE:\n",
    "    print(\"\\nThe best model for training set is Polynomial Regression.\")\n",
    "elif best_model_train==boosted_train_MSE:\n",
    "    print(\"The best model for train set is Regular Decision Tree Regressor.\")\n",
    "else:\n",
    "    print(\"\\nThe best model for training set is Boosted Regression.\")\n",
    "\n",
    "if best_model_test == linear_test_MSE:\n",
    "    print(\"The best model for test set is Linear Regression.\")\n",
    "elif best_model_test == poly_test_MSE:\n",
    "    print(\"The best model for test set is Polynomial Regression.\")\n",
    "elif best_model_test==boosted_test_MSE:\n",
    "    print(\"The best model for test set is Regular Decision Tree Regressor.\")\n",
    "else:\n",
    "    print(\"The best model for test set is Boosted Regression.\")\n"
   ]
  }
 ],
 "metadata": {
  "kernelspec": {
   "display_name": "Python 3.11.9 ('base')",
   "language": "python",
   "name": "python3"
  },
  "language_info": {
   "codemirror_mode": {
    "name": "ipython",
    "version": 3
   },
   "file_extension": ".py",
   "mimetype": "text/x-python",
   "name": "python",
   "nbconvert_exporter": "python",
   "pygments_lexer": "ipython3",
   "version": "3.9.12"
  },
  "orig_nbformat": 4,
  "vscode": {
   "interpreter": {
    "hash": "cd78fef2128015050713e82ca51c6520b11aee7c9ee8df750520bbbc7384cbaa"
   }
  }
 },
 "nbformat": 4,
 "nbformat_minor": 2
}
